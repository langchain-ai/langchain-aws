{
 "cells": [
  {
   "cell_type": "code",
   "execution_count": null,
   "metadata": {},
   "outputs": [],
   "source": [
    "import logging\n",
    "import os\n",
    "import sys\n",
    "import json\n",
    "from typing import List\n",
    "\n",
    "from langchain.agents.agent import AgentExecutor\n",
    "from langchain_core.tools import Tool, StructuredTool\n",
    "from langchain_aws.agents.bedrock.agent_base import agent_tool, BedrockAgentMetadata, BedrockAgentBase\n",
    "from langchain_aws.agents.bedrock.agent_executor import BedrockAgentExecutor\n",
    "from langchain_aws.agents.bedrock.bedrock_agent import BedrockAgent\n",
    "\n",
    "logging.basicConfig(format='%(message)s', level=logging.INFO)"
   ]
  },
  {
   "cell_type": "code",
   "execution_count": null,
   "metadata": {},
   "outputs": [],
   "source": [
    "\n",
    "agent_name: str = \"MortgageEvaluatorAgent_1\"\n",
    "agent_instruction: str = \"You are an agent who helps with getting the mortgage rate based on the current asset valuation\"\n",
    "agent_region: str = \"us-east-1\"\n",
    "\n",
    "@agent_tool(action_group='AssetDetail', action='getAssetValue')\n",
    "def getAssetValue(\n",
    "        asset_holder_id: str = ' '\n",
    ") -> str:\n",
    "    \"\"\"\n",
    "    Get the asset value for an owner id\n",
    "\n",
    "    Args:\n",
    "        asset_holder_id: id of the owner holding the asset\n",
    "    Returns:\n",
    "        str -> the valuation of the asset\n",
    "    \"\"\"\n",
    "    return f\"The total asset value for {asset_holder_id} is 100K\"\n",
    "\n",
    "\n",
    "@agent_tool\n",
    "def getMortgageRate(\n",
    "        asset_holder_id: str = ' ',\n",
    "        asset_value: str = ' '\n",
    ") -> str:\n",
    "    \"\"\"\n",
    "    Get the mortage rate based on asset value\n",
    "\n",
    "    Args:\n",
    "        asset_holder_id: id of the owner holding the asset\n",
    "        asset_value: asset value which is used to get the mortgage rate\n",
    "    Returns:\n",
    "        str -> the calculated mortage rate based on the asset value\n",
    "    \"\"\"\n",
    "    return f\"The mortgage rate for {asset_holder_id} with asset value of {asset_value} is 8.87%\"\n",
    "\n",
    "agent_tools: List[Tool] = [getAssetValue, getMortgageRate]\n",
    "\n",
    "def handle_trace(event=dict):\n",
    "    logging.info(\"\\n********************** Event **********************\\n\")\n",
    "    logging.info(f\"{json.dumps(event, indent=4)} \\n\")"
   ]
  },
  {
   "cell_type": "code",
   "execution_count": null,
   "metadata": {},
   "outputs": [],
   "source": [
    "bedrock_agent = BedrockAgent(\n",
    "    agent_name=agent_name,\n",
    "    agent_instruction=agent_instruction,\n",
    "    agent_region=agent_region,\n",
    "    agent_tools=agent_tools,\n",
    "    trace_handler=handle_trace\n",
    ")\n",
    "\n",
    "agent_executor = BedrockAgentExecutor.from_agent_and_tools(\n",
    "    agent=bedrock_agent,\n",
    "    verbose=True,\n",
    "    tools=agent_tools,\n",
    "    return_intermediate_steps=True,\n",
    "    max_iterations=8\n",
    ")"
   ]
  },
  {
   "cell_type": "code",
   "execution_count": null,
   "metadata": {},
   "outputs": [],
   "source": [
    "agent_executor.invoke(agent_input=\"what is my mortgage rate for id AVC-1234\")"
   ]
  },
  {
   "cell_type": "code",
   "execution_count": null,
   "metadata": {},
   "outputs": [],
   "source": [
    "bedrock_agent.delete()"
   ]
  }
 ],
 "metadata": {
  "kernelspec": {
   "display_name": "langchain",
   "language": "python",
   "name": "python3"
  },
  "language_info": {
   "codemirror_mode": {
    "name": "ipython",
    "version": 3
   },
   "file_extension": ".py",
   "mimetype": "text/x-python",
   "name": "python",
   "nbconvert_exporter": "python",
   "pygments_lexer": "ipython3",
   "version": "3.8.15"
  }
 },
 "nbformat": 4,
 "nbformat_minor": 2
}
