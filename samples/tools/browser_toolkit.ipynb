{
 "cells": [
  {
   "cell_type": "markdown",
   "metadata": {},
   "source": [
    "# Browser Toolkit with LangGraph React Agent\n",
    "\n",
    "This notebook demonstrates how to use the AWS Browser Toolkit with a LangGraph React Agent to perform automated web browsing tasks. The Browser Toolkit provides a set of tools for navigating websites, interacting with web elements, and extracting information."
   ]
  },
  {
   "cell_type": "markdown",
   "metadata": {},
   "source": [
    "## Setup and Installation\n",
    "\n",
    "First, make sure you have the required packages installed:"
   ]
  },
  {
   "cell_type": "code",
   "execution_count": null,
   "metadata": {},
   "outputs": [],
   "source": [
    "%pip install -q langgraph langchain 'langchain-aws[tools]'"
   ]
  },
  {
   "cell_type": "markdown",
   "metadata": {},
   "source": [
    "## Import Required Libraries"
   ]
  },
  {
   "cell_type": "code",
   "execution_count": 1,
   "metadata": {},
   "outputs": [],
   "source": [
    "import asyncio\n",
    "import logging\n",
    "\n",
    "from langchain.chat_models import init_chat_model\n",
    "from langchain_aws.tools import create_browser_toolkit\n",
    "from langgraph.prebuilt import create_react_agent\n",
    "\n",
    "# Set up logging\n",
    "logging.basicConfig(level=logging.INFO)\n",
    "logger = logging.getLogger(__name__)"
   ]
  },
  {
   "cell_type": "markdown",
   "metadata": {},
   "source": [
    "## Create Browser Toolkit\n",
    "\n",
    "The Browser Toolkit provides tools for interacting with websites through a remote browser managed by AWS. It includes tools for navigating to URLs, clicking elements, extracting text, and more."
   ]
  },
  {
   "cell_type": "code",
   "execution_count": 2,
   "metadata": {},
   "outputs": [
    {
     "name": "stdout",
     "output_type": "stream",
     "text": [
      "Available browser tools: ['navigate_browser', 'click_element', 'navigate_back', 'extract_text', 'extract_hyperlinks', 'get_elements', 'current_webpage']\n"
     ]
    }
   ],
   "source": [
    "# Create the browser toolkit\n",
    "# The toolkit handles browser session management based on thread IDs\n",
    "toolkit, browser_tools = create_browser_toolkit(region=\"us-west-2\")\n",
    "\n",
    "# Display available tools\n",
    "print(f\"Available browser tools: {[tool.name for tool in browser_tools]}\")"
   ]
  },
  {
   "cell_type": "markdown",
   "metadata": {},
   "source": [
    "## Initialize LLM\n",
    "\n",
    "Set up the language model that will power our agent. We'll use Claude 3.5 Haiku through Bedrock."
   ]
  },
  {
   "cell_type": "code",
   "execution_count": 3,
   "metadata": {},
   "outputs": [],
   "source": [
    "# Initialize the language model using bedrock_converse provider\n",
    "provider = \"bedrock_converse\"\n",
    "model_id = \"us.anthropic.claude-3-5-haiku-20241022-v1:0\"\n",
    "model_with_provider = f\"{provider}:{model_id}\"\n",
    "\n",
    "# Create the model instance\n",
    "model = init_chat_model(model_with_provider)"
   ]
  },
  {
   "cell_type": "markdown",
   "metadata": {},
   "source": [
    "## Create React Agent\n",
    "\n",
    "Now we'll create a React agent using LangGraph's prebuilt agent. The React agent uses a reasoning and acting approach to solve tasks step by step."
   ]
  },
  {
   "cell_type": "code",
   "execution_count": 4,
   "metadata": {},
   "outputs": [],
   "source": [
    "# Create the React agent with browser tools\n",
    "agent = create_react_agent(\n",
    "    model=model,\n",
    "    tools=browser_tools,\n",
    "    # Customize the agent prompt for web browsing tasks\n",
    "    prompt=\"\"\"You are a web browsing assistant that can navigate websites, interact with web elements, and extract information. \n",
    "    Use the available browser tools to complete web browsing tasks. \n",
    "    When navigating websites, first go to the URL, then explore the page content to understand its structure before performing actions.\n",
    "    For any search tasks, find the search box, enter the query, and submit the form.\n",
    "    When extracting information, be precise about what elements you want to extract.\n",
    "    \n",
    "    Follow these steps for each task:\n",
    "    1. Navigate to the required website\n",
    "    2. Analyze the page structure\n",
    "    3. Interact with elements as needed\n",
    "    4. Extract and report requested information\n",
    "    5. Provide a clear, concise summary of findings\"\"\"\n",
    ")"
   ]
  },
  {
   "cell_type": "markdown",
   "metadata": {},
   "source": [
    "## Execute the Agent\n",
    "\n",
    "Now let's run the agent on a web browsing task. We'll set up a function to execute tasks and print the results."
   ]
  },
  {
   "cell_type": "code",
   "execution_count": 11,
   "metadata": {},
   "outputs": [],
   "source": [
    "async def run_browser_agent(query: str, session_id: str = \"browser_session1\"):\n",
    "    \"\"\"\n",
    "    Run the browser agent on a specific query with session tracking\n",
    "    \n",
    "    Args:\n",
    "        query: The task to perform\n",
    "        session_id: Unique identifier for the browser session\n",
    "        \n",
    "    Returns:\n",
    "        Agent response\n",
    "    \"\"\"\n",
    "    try:\n",
    "        # Configure the session ID for thread-aware tools\n",
    "        config = {\n",
    "            \"configurable\": {\n",
    "                \"thread_id\": session_id\n",
    "            }\n",
    "        }\n",
    "        \n",
    "        # Invoke the agent with the query\n",
    "        result = await agent.ainvoke(\n",
    "            {\n",
    "                \"messages\": [{\"role\": \"user\", \"content\": query}]\n",
    "            },\n",
    "            config=config\n",
    "        )\n",
    "        \n",
    "        return result\n",
    "    except Exception as e:\n",
    "        logger.error(f\"Error running browser agent: {e}\")\n",
    "        raise"
   ]
  },
  {
   "cell_type": "markdown",
   "metadata": {},
   "source": [
    "## Example Tasks\n",
    "\n",
    "Let's run some example web browsing tasks to demonstrate the agent's capabilities."
   ]
  },
  {
   "cell_type": "code",
   "execution_count": 14,
   "metadata": {},
   "outputs": [
    {
     "name": "stderr",
     "output_type": "stream",
     "text": [
      "INFO:langchain_aws.chat_models.bedrock_converse:Using Bedrock Converse API to generate response\n",
      "INFO:langchain_aws.chat_models.bedrock_converse:Using Bedrock Converse API to generate response\n",
      "INFO:langchain_aws.chat_models.bedrock_converse:Using Bedrock Converse API to generate response\n",
      "INFO:langchain_aws.chat_models.bedrock_converse:Using Bedrock Converse API to generate response\n",
      "INFO:langchain_aws.chat_models.bedrock_converse:Using Bedrock Converse API to generate response\n"
     ]
    },
    {
     "name": "stdout",
     "output_type": "stream",
     "text": [
      "Task 1 Result:\n",
      "Based on the extracted text, here are the titles of the top 5 posts on Hacker News:\n",
      "\n",
      "1. \"LLM Inevitabilism\" (1246 points)\n",
      "2. \"Kiro: A new agentic IDE\" (955 points)\n",
      "3. \"Cognition (Devin AI) to Acquire Windsurf\" (470 points)\n",
      "4. \"Apple's MLX adding CUDA support\" (486 points)\n",
      "5. \"NIST Ion Clock Sets New Record for Most Accurate Clock in the World\" (70 points)\n",
      "\n",
      "These titles represent the most upvoted stories on Hacker News at the time of browsing, covering topics like AI, technology, and scientific advances.\n"
     ]
    }
   ],
   "source": [
    "# Example 1: Visit a website and extract information\n",
    "task1 = \"Go to https://news.ycombinator.com/ and tell me the titles of the top 5 posts\"\n",
    "\n",
    "result1 = await run_browser_agent(task1)\n",
    "print(\"Task 1 Result:\")\n",
    "print(result1[\"messages\"][-1].content)"
   ]
  },
  {
   "cell_type": "code",
   "execution_count": 15,
   "metadata": {},
   "outputs": [
    {
     "name": "stderr",
     "output_type": "stream",
     "text": [
      "INFO:langchain_aws.chat_models.bedrock_converse:Using Bedrock Converse API to generate response\n",
      "INFO:langchain_aws.chat_models.bedrock_converse:Using Bedrock Converse API to generate response\n",
      "INFO:langchain_aws.chat_models.bedrock_converse:Using Bedrock Converse API to generate response\n",
      "INFO:langchain_aws.chat_models.bedrock_converse:Using Bedrock Converse API to generate response\n",
      "INFO:langchain_aws.chat_models.bedrock_converse:Using Bedrock Converse API to generate response\n",
      "INFO:langchain_aws.chat_models.bedrock_converse:Using Bedrock Converse API to generate response\n"
     ]
    },
    {
     "name": "stdout",
     "output_type": "stream",
     "text": [
      "Task 2 Result:\n",
      "Now, I'll find and extract the first paragraph about artificial intelligence:\n",
      "\n",
      "The first paragraph reads:\n",
      "\n",
      "\"Artificial intelligence (AI) is the capability of computational systems to perform tasks typically associated with human intelligence, such as learning, reasoning, problem-solving, perception, and decision-making. It is a field of research in computer science that develops and studies methods and software that enable machines to perceive their environment and use learning and intelligence to take actions that maximize their chances of achieving defined goals.\"\n",
      "\n",
      "Would you like me to elaborate on any part of this summary?\n"
     ]
    }
   ],
   "source": [
    "# Example 2: Search for information\n",
    "task2 = \"Go to https://www.wikipedia.org, search for 'artificial intelligence', and summarize the first paragraph\"\n",
    "\n",
    "result2 = await run_browser_agent(task2)\n",
    "print(\"Task 2 Result:\")\n",
    "print(result2[\"messages\"][-1].content)"
   ]
  },
  {
   "cell_type": "markdown",
   "metadata": {},
   "source": [
    "## Clean Up Resources\n",
    "\n",
    "Always clean up browser resources when done to avoid unnecessary resource usage."
   ]
  },
  {
   "cell_type": "code",
   "execution_count": null,
   "metadata": {},
   "outputs": [],
   "source": [
    "# Clean up browser resources\n",
    "await toolkit.cleanup()\n",
    "print(\"Browser resources cleaned up successfully\")"
   ]
  },
  {
   "cell_type": "code",
   "execution_count": null,
   "metadata": {},
   "outputs": [],
   "source": []
  }
 ],
 "metadata": {
  "kernelspec": {
   "display_name": "Python 3 (ipykernel)",
   "language": "python",
   "name": "python3"
  },
  "language_info": {
   "codemirror_mode": {
    "name": "ipython",
    "version": 3
   },
   "file_extension": ".py",
   "mimetype": "text/x-python",
   "name": "python",
   "nbconvert_exporter": "python",
   "pygments_lexer": "ipython3",
   "version": "3.13.5"
  }
 },
 "nbformat": 4,
 "nbformat_minor": 4
}
