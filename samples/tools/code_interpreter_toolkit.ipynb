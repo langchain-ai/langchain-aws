{
 "cells": [
  {
   "cell_type": "markdown",
   "metadata": {},
   "source": [
    "# Code Interpreter Toolkit with LangGraph React Agent\n",
    "\n",
    "This notebook demonstrates how to use the AWS Code Interpreter Toolkit with a LangGraph React Agent to perform code execution tasks. The Code Interpreter Toolkit provides a set of tools for running code, executing shell commands, and managing files in a secure environment."
   ]
  },
  {
   "cell_type": "markdown",
   "metadata": {},
   "source": [
    "## Setup and Installation\n",
    "\n",
    "First, make sure you have the required packages installed:"
   ]
  },
  {
   "cell_type": "code",
   "execution_count": null,
   "metadata": {},
   "outputs": [],
   "source": [
    "%pip install -q langgraph langchain 'langchain-aws[tools]'"
   ]
  },
  {
   "cell_type": "markdown",
   "metadata": {},
   "source": [
    "## Import Required Libraries"
   ]
  },
  {
   "cell_type": "code",
   "execution_count": 1,
   "metadata": {},
   "outputs": [],
   "source": [
    "import asyncio\n",
    "import logging\n",
    "from typing import Dict, List, Any\n",
    "\n",
    "from langchain.chat_models import init_chat_model\n",
    "from langchain_aws.tools import create_code_interpreter_toolkit\n",
    "from langgraph.prebuilt import create_react_agent\n",
    "\n",
    "# Set up logging\n",
    "logging.basicConfig(level=logging.INFO)\n",
    "logger = logging.getLogger(__name__)"
   ]
  },
  {
   "cell_type": "markdown",
   "metadata": {},
   "source": [
    "## Create Code Interpreter Toolkit\n",
    "\n",
    "The Code Interpreter Toolkit provides tools for running code, managing files, and executing shell commands in a secure environment managed by AWS."
   ]
  },
  {
   "cell_type": "code",
   "execution_count": 2,
   "metadata": {},
   "outputs": [
    {
     "name": "stdout",
     "output_type": "stream",
     "text": [
      "Available code interpreter tools: ['execute_code', 'execute_command', 'read_files', 'list_files', 'delete_files', 'write_files', 'start_command_execution', 'get_task', 'stop_task']\n"
     ]
    }
   ],
   "source": [
    "# Create the code interpreter toolkit\n",
    "# This is an async function as it sets up the tools\n",
    "toolkit, code_tools = await create_code_interpreter_toolkit(region=\"us-west-2\")\n",
    "\n",
    "# Display available tools\n",
    "print(f\"Available code interpreter tools: {[tool.name for tool in code_tools]}\")"
   ]
  },
  {
   "cell_type": "markdown",
   "metadata": {},
   "source": [
    "## Initialize LLM\n",
    "\n",
    "Set up the language model that will power our agent. We'll use Claude 3.5 Haiku through Bedrock."
   ]
  },
  {
   "cell_type": "code",
   "execution_count": 3,
   "metadata": {},
   "outputs": [],
   "source": [
    "# Initialize the language model using bedrock_converse provider\n",
    "provider = \"bedrock_converse\"\n",
    "model_id = \"us.anthropic.claude-3-5-haiku-20241022-v1:0\"\n",
    "model_with_provider = f\"{provider}:{model_id}\"\n",
    "\n",
    "# Create the model instance\n",
    "model = init_chat_model(model_with_provider)"
   ]
  },
  {
   "cell_type": "markdown",
   "metadata": {},
   "source": [
    "## Create React Agent\n",
    "\n",
    "Now we'll create a React agent using LangGraph's prebuilt agent. The React agent uses a reasoning and acting approach to solve tasks step by step."
   ]
  },
  {
   "cell_type": "code",
   "execution_count": 4,
   "metadata": {},
   "outputs": [],
   "source": [
    "# Create the React agent with code interpreter tools\n",
    "agent = create_react_agent(\n",
    "    model=model,\n",
    "    tools=code_tools,\n",
    "    # Customize the agent prompt for code execution tasks\n",
    "    prompt=\"\"\"You are a code execution assistant that can run Python code, execute shell commands, and manage files.\n",
    "    Use the available code interpreter tools to complete programming tasks.\n",
    "    \n",
    "    Available tools:\n",
    "    - execute_code: Run code in the environment (primarily Python)\n",
    "    - execute_command: Run shell commands\n",
    "    - read_files: Read content of files\n",
    "    - list_files: List files in directories\n",
    "    - delete_files: Remove files\n",
    "    - write_files: Create or update files\n",
    "    - start_command_execution: Start long-running commands asynchronously\n",
    "    - get_task: Check status of async tasks\n",
    "    - stop_task: Stop running tasks\n",
    "    \n",
    "    Follow these steps for each task:\n",
    "    1. Understand the problem requirements\n",
    "    2. Write code or commands to solve the problem\n",
    "    3. Execute the code and analyze results\n",
    "    4. Refine your approach based on results if needed\n",
    "    5. Provide a clear explanation of the solution\"\"\"\n",
    ")\n"
   ]
  },
  {
   "cell_type": "markdown",
   "metadata": {},
   "source": [
    "## Execute the Agent\n",
    "\n",
    "Now let's run the agent on a code execution task. We'll set up a function to execute tasks and print the results."
   ]
  },
  {
   "cell_type": "code",
   "execution_count": 5,
   "metadata": {},
   "outputs": [],
   "source": [
    "async def run_code_interpreter_agent(query: str, session_id: str = \"code_session1\"):\n",
    "    \"\"\"\n",
    "    Run the code interpreter agent on a specific query with session tracking\n",
    "    \n",
    "    Args:\n",
    "        query: The task to perform\n",
    "        session_id: Unique identifier for the code interpreter session\n",
    "        \n",
    "    Returns:\n",
    "        Agent response\n",
    "    \"\"\"\n",
    "    try:\n",
    "        # Configure the session ID for thread-aware tools\n",
    "        config = {\n",
    "            \"configurable\": {\n",
    "                \"thread_id\": session_id\n",
    "            }\n",
    "        }\n",
    "        \n",
    "        # Invoke the agent with the query\n",
    "        result = await agent.ainvoke(\n",
    "            {\n",
    "                \"messages\": [{\n",
    "                    \"role\": \"human\",\n",
    "                    \"content\": query\n",
    "                }]\n",
    "            },\n",
    "            config=config\n",
    "        )\n",
    "        \n",
    "        return result\n",
    "    except Exception as e:\n",
    "        logger.error(f\"Error running code interpreter agent: {e}\")\n",
    "        raise"
   ]
  },
  {
   "cell_type": "markdown",
   "metadata": {},
   "source": [
    "## Example Tasks\n",
    "\n",
    "Let's run some example code execution tasks to demonstrate the agent's capabilities."
   ]
  },
  {
   "cell_type": "code",
   "execution_count": 6,
   "metadata": {},
   "outputs": [
    {
     "name": "stderr",
     "output_type": "stream",
     "text": [
      "INFO:langchain_aws.chat_models.bedrock_converse:Using Bedrock Converse API to generate response\n",
      "INFO:langchain_aws.tools.code_interpreter_toolkit:Started code interpreter with session_id:01K07JJWKRSDPHDDC8J03A0VSJ for thread:code_session1\n",
      "INFO:langchain_aws.chat_models.bedrock_converse:Using Bedrock Converse API to generate response\n"
     ]
    },
    {
     "name": "stdout",
     "output_type": "stream",
     "text": [
      "Task 1 Result:\n",
      "Let me explain the code and results:\n",
      "\n",
      "1. I created a `factorial()` function that:\n",
      "   - Handles negative number input with a `ValueError`\n",
      "   - Has base cases for 0 and 1 (both return 1)\n",
      "   - Uses recursive calculation for numbers > 1\n",
      "\n",
      "2. Testing with n=5:\n",
      "   - 5! (5 factorial) = 5 × 4 × 3 × 2 × 1 = 120 ✓\n",
      "   - The function correctly calculated 120\n",
      "\n",
      "3. Additional test cases:\n",
      "   - Factorial of 0 is 1\n",
      "   - Factorial of 1 is 1\n",
      "   - Factorial of 3 is 6 (3 × 2 × 1)\n",
      "\n",
      "The function works as expected. I've also included error handling for negative numbers (commented out to prevent stopping execution).\n",
      "\n",
      "Would you like me to demonstrate the error handling or explain the recursive approach in more detail?\n",
      "\n",
      "Note: For very large numbers, this recursive approach might cause a stack overflow. An iterative approach or using `math.factorial()` would be more efficient for large inputs.\n"
     ]
    }
   ],
   "source": [
    "# Example 1: Execute basic Python code\n",
    "task1 = \"Create a Python function that calculates the factorial of a number, then test it with n=5\"\n",
    "\n",
    "result1 = await run_code_interpreter_agent(task1)\n",
    "print(\"Task 1 Result:\")\n",
    "print(result1[\"messages\"][-1].content)"
   ]
  },
  {
   "cell_type": "code",
   "execution_count": 7,
   "metadata": {},
   "outputs": [
    {
     "name": "stderr",
     "output_type": "stream",
     "text": [
      "INFO:langchain_aws.chat_models.bedrock_converse:Using Bedrock Converse API to generate response\n",
      "INFO:langchain_aws.chat_models.bedrock_converse:Using Bedrock Converse API to generate response\n",
      "INFO:langchain_aws.chat_models.bedrock_converse:Using Bedrock Converse API to generate response\n",
      "INFO:langchain_aws.chat_models.bedrock_converse:Using Bedrock Converse API to generate response\n",
      "INFO:langchain_aws.chat_models.bedrock_converse:Using Bedrock Converse API to generate response\n"
     ]
    },
    {
     "name": "stdout",
     "output_type": "stream",
     "text": [
      "Task 2 Result:\n",
      "The task is complete! I've:\n",
      "1. Created a CSV file named 'data.csv'\n",
      "2. Written a Python script to read the file\n",
      "3. Calculated the average age (29.50)\n",
      "4. Verified the file contents\n",
      "\n",
      "Is there anything else you would like me to do with this data?\n"
     ]
    }
   ],
   "source": [
    "# Example 2: Create and manipulate files\n",
    "task2 = \"\"\"Create a CSV file named 'data.csv' with the following data:\n",
    "Name,Age,City\n",
    "John,30,New York\n",
    "Alice,25,Boston\n",
    "Bob,35,Chicago\n",
    "Emma,28,Seattle\n",
    "\n",
    "Then write a Python script to read this CSV file and calculate the average age.\"\"\"\n",
    "\n",
    "result2 = await run_code_interpreter_agent(task2)\n",
    "print(\"Task 2 Result:\")\n",
    "print(result2[\"messages\"][-1].content)"
   ]
  },
  {
   "cell_type": "code",
   "execution_count": 9,
   "metadata": {},
   "outputs": [
    {
     "name": "stderr",
     "output_type": "stream",
     "text": [
      "INFO:langchain_aws.chat_models.bedrock_converse:Using Bedrock Converse API to generate response\n",
      "INFO:langchain_aws.chat_models.bedrock_converse:Using Bedrock Converse API to generate response\n",
      "INFO:langchain_aws.chat_models.bedrock_converse:Using Bedrock Converse API to generate response\n",
      "INFO:langchain_aws.chat_models.bedrock_converse:Using Bedrock Converse API to generate response\n"
     ]
    },
    {
     "name": "stdout",
     "output_type": "stream",
     "text": [
      "Task 3 Result:\n",
      "Great! The plots have been successfully generated and saved. The `sine_wave.png` shows the sine function from 0 to 2π, and `trig_functions.png` displays both sine and cosine waves on the same graph, making it easy to compare their behaviors.\n",
      "\n",
      "Is there anything else you would like me to do with these plots or any other visualizations you're interested in?\n"
     ]
    }
   ],
   "source": [
    "# Example 3: Generate plots\n",
    "task3 = \"\"\"Generate a matplotlib plot showing a sine wave over the range [0, 2π] and save it as 'sine_wave.png'. \n",
    "Then create another plot showing both sine and cosine waves on the same graph and save it as 'trig_functions.png'.\"\"\"\n",
    "\n",
    "result3 = await run_code_interpreter_agent(task3)\n",
    "print(\"Task 3 Result:\")\n",
    "print(result3[\"messages\"][-1].content)"
   ]
  },
  {
   "cell_type": "code",
   "execution_count": 10,
   "metadata": {},
   "outputs": [
    {
     "name": "stderr",
     "output_type": "stream",
     "text": [
      "INFO:langchain_aws.chat_models.bedrock_converse:Using Bedrock Converse API to generate response\n",
      "INFO:langchain_aws.chat_models.bedrock_converse:Using Bedrock Converse API to generate response\n",
      "INFO:langchain_aws.chat_models.bedrock_converse:Using Bedrock Converse API to generate response\n",
      "INFO:langchain_aws.chat_models.bedrock_converse:Using Bedrock Converse API to generate response\n"
     ]
    },
    {
     "name": "stdout",
     "output_type": "stream",
     "text": [
      "Task 4 Result:\n",
      "Great! Let me break down the files in the current directory:\n",
      "\n",
      "1. Directories:\n",
      "   - `.cache`\n",
      "   - `.config`\n",
      "   - `.ipython`\n",
      "   - `log`\n",
      "\n",
      "2. Files:\n",
      "   - `data.csv`\n",
      "   - `sine_wave.png`\n",
      "   - `trig_functions.png`\n",
      "\n",
      "There are a few interesting things to note:\n",
      "- There's a CSV file called `data.csv`\n",
      "- Two image files: `sine_wave.png` and `trig_functions.png`\n",
      "- Some hidden configuration directories\n",
      "\n",
      "Would you like me to show you the contents of any of these files or provide more details about them?\n"
     ]
    }
   ],
   "source": [
    "task4 = \"Show me all the files present in the code interpreter environment\"\n",
    "\n",
    "result4 = await run_code_interpreter_agent(task4)\n",
    "print(\"Task 4 Result:\")\n",
    "print(result4[\"messages\"][-1].content)"
   ]
  },
  {
   "cell_type": "markdown",
   "metadata": {},
   "source": [
    "## Clean Up Resources\n",
    "\n",
    "Always clean up code interpreter resources when done to avoid unnecessary resource usage."
   ]
  },
  {
   "cell_type": "code",
   "execution_count": 11,
   "metadata": {},
   "outputs": [
    {
     "name": "stderr",
     "output_type": "stream",
     "text": [
      "INFO:langchain_aws.tools.code_interpreter_toolkit:All code interpreter sessions cleaned up\n"
     ]
    },
    {
     "name": "stdout",
     "output_type": "stream",
     "text": [
      "Code interpreter resources cleaned up successfully\n"
     ]
    }
   ],
   "source": [
    "# Clean up code interpreter resources\n",
    "await toolkit.cleanup()\n",
    "print(\"Code interpreter resources cleaned up successfully\")"
   ]
  },
  {
   "cell_type": "code",
   "execution_count": null,
   "metadata": {},
   "outputs": [],
   "source": []
  }
 ],
 "metadata": {
  "kernelspec": {
   "display_name": "Python 3 (ipykernel)",
   "language": "python",
   "name": "python3"
  },
  "language_info": {
   "codemirror_mode": {
    "name": "ipython",
    "version": 3
   },
   "file_extension": ".py",
   "mimetype": "text/x-python",
   "name": "python",
   "nbconvert_exporter": "python",
   "pygments_lexer": "ipython3",
   "version": "3.13.5"
  }
 },
 "nbformat": 4,
 "nbformat_minor": 4
}
