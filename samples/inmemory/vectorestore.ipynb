{
 "cells": [
  {
   "cell_type": "code",
   "execution_count": null,
   "id": "dc2af620-3f33-4153-a1c7-e05d8a2c9153",
   "metadata": {},
   "outputs": [],
   "source": [
    "metadata = [\n",
    "    {\n",
    "        \"user\": \"john\",\n",
    "        \"age\": 18,\n",
    "        \"job\": \"engineer\",\n",
    "        \"credit_score\": \"high\",\n",
    "    },\n",
    "    {\n",
    "        \"user\": \"derrick\",\n",
    "        \"age\": 45,\n",
    "        \"job\": \"doctor\",\n",
    "        \"credit_score\": \"low\",\n",
    "    },\n",
    "    {\n",
    "        \"user\": \"nancy\",\n",
    "        \"age\": 94,\n",
    "        \"job\": \"doctor\",\n",
    "        \"credit_score\": \"high\",\n",
    "    },\n",
    "    {\n",
    "        \"user\": \"tyler\",\n",
    "        \"age\": 100,\n",
    "        \"job\": \"engineer\",\n",
    "        \"credit_score\": \"high\",\n",
    "    },\n",
    "    {\n",
    "        \"user\": \"joe\",\n",
    "        \"age\": 35,\n",
    "        \"job\": \"dentist\",\n",
    "        \"credit_score\": \"medium\",\n",
    "    },\n",
    "]\n",
    "texts = [\"foo\", \"foo\", \"foo\", \"bar\", \"bar\"]"
   ]
  },
  {
   "cell_type": "code",
   "execution_count": null,
   "id": "8c5deed1-66d1-450a-ae2e-dd9b9baafd08",
   "metadata": {},
   "outputs": [],
   "source": [
    "import os\n",
    "from langchain_aws.embeddings import BedrockEmbeddings"
   ]
  },
  {
   "cell_type": "code",
   "execution_count": null,
   "id": "ea2bd2a1-0823-4d36-bbcc-68959e15eee0",
   "metadata": {},
   "outputs": [],
   "source": [
    "# create a Titan Embeddings client\n",
    "embeddings = BedrockEmbeddings()"
   ]
  },
  {
   "cell_type": "code",
   "execution_count": null,
   "id": "4fab5af7-85cb-4c44-8a33-db1766a7edf5",
   "metadata": {},
   "outputs": [],
   "source": [
    "from langchain_aws.vectorstores.inmemorydb import InMemoryVectorStore"
   ]
  },
  {
   "cell_type": "code",
   "execution_count": null,
   "id": "3c073cda-11a1-4e6c-8b8a-6cf67a1e7489",
   "metadata": {},
   "outputs": [],
   "source": [
    "endpoint = \"<your-cluster-endpoint>\"\n",
    "\n",
    "vds = InMemoryVectorStore.from_texts(\n",
    "    texts,\n",
    "    embeddings,\n",
    "    metadatas=metadata,\n",
    "    redis_url=f\"rediss://{endpoint}:6379/ssl=True&ssl_cert_reqs=none\",\n",
    "    index_name=\"users\",\n",
    ")"
   ]
  },
  {
   "cell_type": "code",
   "execution_count": null,
   "id": "65d90564-f1dc-4870-ae9f-a3bf6bb351d3",
   "metadata": {},
   "outputs": [],
   "source": [
    "results = vds.similarity_search(\"foo\")\n",
    "print(results[0].page_content)"
   ]
  },
  {
   "cell_type": "code",
   "execution_count": null,
   "id": "20388909-5d60-4688-9de5-86d7f9c327f4",
   "metadata": {},
   "outputs": [],
   "source": [
    "# return metadata\n",
    "results = vds.similarity_search(\"foo\", k=3)\n",
    "meta = results[1].metadata\n",
    "print(\"Key of the document in Redis: \", meta.pop(\"id\"))\n",
    "print(\"Metadata of the document: \", meta)"
   ]
  },
  {
   "cell_type": "code",
   "execution_count": null,
   "id": "39c0e305-bfd7-456c-98b7-d1cdef301f83",
   "metadata": {},
   "outputs": [],
   "source": [
    "# with scores (distances)\n",
    "results = vds.similarity_search_with_score(\"foo\", k=5)\n",
    "for result in results:\n",
    "    print(f\"Content: {result[0].page_content} --- Score: {result[1]}\")"
   ]
  },
  {
   "cell_type": "code",
   "execution_count": null,
   "id": "26906ca3-b68e-481f-bbb8-ccd013d63bf8",
   "metadata": {},
   "outputs": [],
   "source": [
    "# limit the vector distance that can be returned\n",
    "results = vds.similarity_search_with_score(\"foo\", k=5, distance_threshold=0.1)\n",
    "for result in results:\n",
    "    print(f\"Content: {result[0].page_content} --- Score: {result[1]}\")"
   ]
  },
  {
   "cell_type": "code",
   "execution_count": null,
   "id": "eaaff0b3-495d-4723-84f8-f143ee0abcbb",
   "metadata": {},
   "outputs": [],
   "source": [
    "# limit scores (similarities have to be over .9)\n",
    "results = vds.similarity_search_with_relevance_scores(\"foo\", k=5, score_threshold=0.9)\n",
    "for result in results:\n",
    "    print(f\"Content: {result[0].page_content} --- Similarity: {result[1]}\")"
   ]
  },
  {
   "cell_type": "code",
   "execution_count": null,
   "id": "ef706ebc-8464-421e-8634-132938ee47d2",
   "metadata": {},
   "outputs": [],
   "source": [
    "# you can also add new documents as follows\n",
    "new_document = [\"baz\"]\n",
    "new_metadata = [{\"user\": \"sam\", \"age\": 50, \"job\": \"janitor\", \"credit_score\": \"high\"}]\n",
    "# both the document and metadata must be lists\n",
    "vds.add_texts(new_document, new_metadata)"
   ]
  },
  {
   "cell_type": "code",
   "execution_count": null,
   "id": "3ffa5cc4-f804-4b15-884a-0a65afa28a95",
   "metadata": {},
   "outputs": [],
   "source": [
    "# now query the new document\n",
    "results = vds.similarity_search(\"baz\", k=3)\n",
    "print(results[0].metadata)"
   ]
  },
  {
   "cell_type": "code",
   "execution_count": null,
   "id": "3cfa8751-20b7-447d-9245-ec12e18734af",
   "metadata": {},
   "outputs": [],
   "source": [
    "# write the schema to a yaml file\n",
    "vds.write_schema(\"redis_schema.yaml\")"
   ]
  },
  {
   "cell_type": "code",
   "execution_count": null,
   "id": "9d45a231-61d9-4dc2-940f-257d8f62d1b8",
   "metadata": {},
   "outputs": [],
   "source": [
    "# now we can connect to our existing index as follows\n",
    "\n",
    "new_vds = InMemoryVectorStore.from_existing_index(\n",
    "    embeddings,\n",
    "    index_name=\"users\",\n",
    "    redis_url=f\"rediss://{endpoint}:6379/ssl=True&ssl_cert_reqs=none\",\n",
    "    schema=\"redis_schema.yaml\",\n",
    ")\n",
    "results = new_vds.similarity_search(\"foo\", k=3)\n",
    "print(results[0].metadata)"
   ]
  },
  {
   "cell_type": "code",
   "execution_count": null,
   "id": "e0ea72b0-538a-4dd2-8249-865e09edac0b",
   "metadata": {},
   "outputs": [],
   "source": [
    "# see the schemas are the same\n",
    "new_vds.schema == vds.schema"
   ]
  },
  {
   "cell_type": "code",
   "execution_count": null,
   "id": "ff2c5226-4536-43fd-8103-b8bc2b17148c",
   "metadata": {},
   "outputs": [],
   "source": [
    "# create a new index with the new schema\n",
    "index_schema = {\n",
    "    \"tag\": [{\"name\": \"credit_score\"}],\n",
    "    \"text\": [{\"name\": \"user\"}, {\"name\": \"job\"}],\n",
    "    \"numeric\": [{\"name\": \"age\"}],\n",
    "}\n",
    "\n",
    "vds, keys = InMemoryVectorStore.from_texts_return_keys(\n",
    "    texts,\n",
    "    embeddings,\n",
    "    metadatas=metadata,\n",
    "    redis_url=f\"rediss://{endpoint}:6379/ssl=True&ssl_cert_reqs=none\",\n",
    "    index_name=\"users_modified\",\n",
    "    index_schema=index_schema,  # pass in the new index schema\n",
    ")"
   ]
  },
  {
   "cell_type": "code",
   "execution_count": null,
   "id": "bd3a8b5a-51d8-4310-9d01-ec1a8c5b91bb",
   "metadata": {},
   "outputs": [],
   "source": [
    "\n",
    "from langchain_aws.vectorstores.inmemorydb import InMemoryDBNum, InMemoryDBTag\n",
    "\n",
    "# exact matching\n",
    "has_high_credit = InMemoryDBTag(\"credit_score\") == \"high\"\n",
    "does_not_have_high_credit = InMemoryDBTag(\"credit_score\") != \"low\"\n"
   ]
  },
  {
   "cell_type": "code",
   "execution_count": null,
   "id": "526b21f9-77af-41e3-93c1-8feab764611a",
   "metadata": {},
   "outputs": [],
   "source": [
    "\n",
    "# numeric filtering\n",
    "age_is_18 = InMemoryDBNum(\"age\") == 18\n",
    "age_is_not_18 = InMemoryDBNum(\"age\") != 18\n",
    "age_is_greater_than_18 = InMemoryDBNum(\"age\") > 18\n",
    "age_is_less_than_18 = InMemoryDBNum(\"age\") < 18\n",
    "age_is_greater_than_or_equal_to_18 = InMemoryDBNum(\"age\") >= 18\n",
    "age_is_less_than_or_equal_to_18 = InMemoryDBNum(\"age\") <= 18\n"
   ]
  },
  {
   "cell_type": "code",
   "execution_count": null,
   "id": "6fe8e93e-42e6-40d2-a62a-ba3197fdd184",
   "metadata": {},
   "outputs": [],
   "source": [
    "\n",
    "from langchain_aws.vectorstores.inmemorydb import InMemoryDBFilter\n",
    "\n",
    "# same examples as above\n",
    "has_high_credit = InMemoryDBFilter.tag(\"credit_score\") == \"high\"\n",
    "does_not_have_high_credit = InMemoryDBFilter.num(\"age\") > 8\n",
    "job_starts_with_eng = InMemoryDBFilter.text(\"job\") % \"eng*\""
   ]
  },
  {
   "cell_type": "code",
   "execution_count": null,
   "id": "6a89eddc-2746-4f32-a61e-946f3b46afbe",
   "metadata": {},
   "outputs": [],
   "source": [
    "from langchain_aws.vectorstores.inmemorydb import InMemoryDBNum\n",
    "\n",
    "is_over_18 = InMemoryDBNum(\"age\") > 18\n",
    "is_under_99 = InMemoryDBNum(\"age\") < 99\n",
    "age_range = is_over_18 & is_under_99\n",
    "results = vds.similarity_search(\"foo\", filter=age_range)\n",
    "\n",
    "for result in results:\n",
    "    print(\"User:\", result.metadata[\"user\"], \"is\", result.metadata[\"age\"])"
   ]
  },
  {
   "cell_type": "code",
   "execution_count": null,
   "id": "8f6963a8-79bb-4e64-aa4d-e4516095935d",
   "metadata": {},
   "outputs": [],
   "source": []
  }
 ],
 "metadata": {
  "kernelspec": {
   "display_name": "Python 3 (ipykernel)",
   "language": "python",
   "name": "python3"
  },
  "language_info": {
   "codemirror_mode": {
    "name": "ipython",
    "version": 3
   },
   "file_extension": ".py",
   "mimetype": "text/x-python",
   "name": "python",
   "nbconvert_exporter": "python",
   "pygments_lexer": "ipython3",
   "version": "3.9.19"
  }
 },
 "nbformat": 4,
 "nbformat_minor": 5
}
