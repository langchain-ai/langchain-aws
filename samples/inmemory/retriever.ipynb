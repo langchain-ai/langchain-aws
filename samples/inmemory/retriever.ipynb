{
 "cells": [
  {
   "cell_type": "code",
   "execution_count": 1,
   "id": "401be7ee-e489-4674-909e-c0a88fcfaa3b",
   "metadata": {},
   "outputs": [],
   "source": [
    "import redis\n",
    "import os\n",
    "from dotenv import load_dotenv\n",
    "\n",
    "from langchain_aws.vectorstores.inmemorydb import InMemoryVectorStore"
   ]
  },
  {
   "cell_type": "markdown",
   "id": "9d1f7bb9-71ef-4fa9-9f1b-c189d1d901e4",
   "metadata": {},
   "source": [
    "### We will be using the Titan Embeddings Model to generate our Embeddings."
   ]
  },
  {
   "cell_type": "code",
   "execution_count": 2,
   "id": "67214e00-fe5f-4a56-b075-226f6c9e6735",
   "metadata": {},
   "outputs": [
    {
     "data": {
      "text/plain": [
       "False"
      ]
     },
     "execution_count": 2,
     "metadata": {},
     "output_type": "execute_result"
    }
   ],
   "source": [
    "\n",
    "from langchain_aws.embeddings import BedrockEmbeddings\n",
    "from langchain_aws.llms.bedrock import Bedrock\n",
    "load_dotenv()"
   ]
  },
  {
   "cell_type": "markdown",
   "id": "d053a921-c35f-4136-ae97-3f7bafc05f05",
   "metadata": {},
   "source": [
    "###  Define  the Anthropic Model params "
   ]
  },
  {
   "cell_type": "code",
   "execution_count": 3,
   "id": "6c71ae16-3c70-4e72-bab8-19055a59ec78",
   "metadata": {},
   "outputs": [],
   "source": [
    "# - create the Anthropic Model\n",
    "model_kwargs = {\"max_tokens_to_sample\": 8000,\n",
    "            \"temperature\": 0, \n",
    "            \"top_k\": 250, \n",
    "            \"top_p\": 1,\n",
    "            \"stop_sequences\": [\"\\\\n\\\\nHuman:\"]\n",
    "               }    "
   ]
  },
  {
   "cell_type": "markdown",
   "id": "f652d49b-12d1-4b86-bb6d-40ea688348e7",
   "metadata": {},
   "source": [
    "### Initialize large language model and use model properties for Claude-v2"
   ]
  },
  {
   "cell_type": "code",
   "execution_count": 4,
   "id": "506feecd-defd-47a8-b401-c0e0bc8a5552",
   "metadata": {},
   "outputs": [
    {
     "name": "stderr",
     "output_type": "stream",
     "text": [
      "/home/ec2-user/.local/lib/python3.9/site-packages/langchain_core/_api/deprecation.py:139: LangChainDeprecationWarning: The class `Bedrock` was deprecated in LangChain 0.0.34 and will be removed in 0.3. An updated version of the class exists in the langchain-aws package and should be used instead. To use it run `pip install -U langchain-aws` and import as `from langchain_aws import BedrockLLM`.\n",
      "  warn_deprecated(\n"
     ]
    }
   ],
   "source": [
    "llm = Bedrock(\n",
    "        credentials_profile_name=os.environ.get(\"BWB_PROFILE_NAME\"), #sets the profile name to use for AWS credentials (if not the default)\n",
    "        region_name=os.environ.get(\"BWB_REGION_NAME\"), #sets the region name (if not the default)\n",
    "        endpoint_url=os.environ.get(\"BWB_ENDPOINT_URL\"), #sets the endpoint URL (if necessary)\n",
    "        model_id=\"anthropic.claude-v2\", #use the Anthropic Claude model\n",
    "        model_kwargs=model_kwargs\n",
    ") #configure the properties for Claude\n"
   ]
  },
  {
   "cell_type": "markdown",
   "id": "7d52cc35-0fc6-4014-be8d-605a691ec40c",
   "metadata": {},
   "source": [
    "### Define titan embeddings model"
   ]
  },
  {
   "cell_type": "code",
   "execution_count": 5,
   "id": "3e96e6ba-0d46-4f51-bccb-cdebd3e2b36a",
   "metadata": {},
   "outputs": [],
   "source": [
    "embeddings = BedrockEmbeddings(\n",
    "        credentials_profile_name=os.environ.get(\"BWB_PROFILE_NAME\"), #sets the profile name to use for AWS credentials (if not the default)\n",
    "        region_name=os.environ.get(\"BWB_REGION_NAME\"), #sets the region name (if not the default)\n",
    "        endpoint_url=os.environ.get(\"BWB_ENDPOINT_URL\"), #sets the endpoint URL (if necessary)\n",
    "    ) #create a Titan Embeddings client\n",
    "  "
   ]
  },
  {
   "cell_type": "markdown",
   "id": "62059f35-316b-46d4-a5b3-47d2150b8cc8",
   "metadata": {},
   "source": [
    "##### Here is the document we load for using in context. \n"
   ]
  },
  {
   "cell_type": "code",
   "execution_count": 6,
   "id": "1da16e43-08b7-46b7-a302-f7ba72332587",
   "metadata": {},
   "outputs": [],
   "source": [
    "pdf_path = \"/home/ec2-user/environment/memorydb-guide.pdf\"\n",
    "from langchain.document_loaders import PyPDFLoader\n",
    "from langchain.text_splitter import RecursiveCharacterTextSplitter"
   ]
  },
  {
   "cell_type": "markdown",
   "id": "53292bc5-7d43-42d2-adb1-0353693e00dd",
   "metadata": {},
   "source": [
    "[Go to Section Title](#section_name)\n"
   ]
  },
  {
   "cell_type": "markdown",
   "id": "b25b96ee-918e-4082-a46d-fe7a38f26d32",
   "metadata": {},
   "source": [
    "### Pre process the data to split into chunks that can be loaded into Vector database. "
   ]
  },
  {
   "cell_type": "code",
   "execution_count": 7,
   "id": "27de590b-af80-430b-830e-a2a13f3b0704",
   "metadata": {},
   "outputs": [
    {
     "name": "stdout",
     "output_type": "stream",
     "text": [
      "CPU times: user 45.4 s, sys: 77.1 ms, total: 45.5 s\n",
      "Wall time: 45.5 s\n"
     ]
    }
   ],
   "source": [
    "%%time\n",
    "loader = PyPDFLoader(file_path=pdf_path) #load the pdf file\n",
    "pages=loader.load_and_split()\n",
    "#pages[10] Uncomment if you want to see the data \n",
    "\n",
    "text_splitter = RecursiveCharacterTextSplitter( #create a text splitter\n",
    "        separators=[\"\\n\\n\", \"\\n\", \".\", \" \"], #split chunks at (1) paragraph, (2) line, (3) sentence, or (4) word, in that order\n",
    "        chunk_size=1000, #divide into 1000-character chunks using the separators above\n",
    "        chunk_overlap=100 #number of characters that can overlap with previous chunk\n",
    "    )\n",
    "chunks = loader.load_and_split(text_splitter)"
   ]
  },
  {
   "cell_type": "markdown",
   "id": "dceb6375-40f1-4e51-87d6-63e6f23274a5",
   "metadata": {},
   "source": [
    "## Using MemoryDB as Vector store. \n",
    "We test out both Semantic Search and using MemoryDB as retriever for RAG. \n",
    "We are using MemoryDB for our vector store. This code tests connection to MemDB and clears the existing data. \n",
    "\n",
    "**Comment client_devo.flushall() if you dont want to clear the data and index creation**\n"
   ]
  },
  {
   "cell_type": "code",
   "execution_count": 8,
   "id": "c6a60937-ba4b-4c07-b122-981c940e4c90",
   "metadata": {},
   "outputs": [],
   "source": [
    "from redis.cluster import RedisCluster as MemoryDBCluster"
   ]
  },
  {
   "cell_type": "code",
   "execution_count": 9,
   "id": "9720f0ef-6d71-49fc-ace4-383fa9bba68f",
   "metadata": {},
   "outputs": [
    {
     "data": {
      "text/plain": [
       "True"
      ]
     },
     "execution_count": 9,
     "metadata": {},
     "output_type": "execute_result"
    }
   ],
   "source": [
    "rc = MemoryDBCluster(host='Your_cluster_Endpoint', \n",
    "           port=6379,ssl=True, decode_responses=True, ssl_cert_reqs=\"none\")\n",
    "\n",
    "rc.ping()\n",
    "rc.flushall()"
   ]
  },
  {
   "cell_type": "code",
   "execution_count": 10,
   "id": "20584947-0d4d-4cfc-a8bc-5f8b9d8dac09",
   "metadata": {},
   "outputs": [],
   "source": [
    "INDEX_NAME='idx:vss-mm'\n",
    "MEMORYDB_url=\"rediss://Your_cluster_Endpoint:6379/ssl=True&ssl_cert_reqs=none\",\n"
   ]
  },
  {
   "cell_type": "code",
   "execution_count": 11,
   "id": "7b19be4e-fef7-4168-97e1-0902d1b2b323",
   "metadata": {},
   "outputs": [],
   "source": [
    "vector_schema = {\n",
    "    \"algorithm\": \"HNSW\"\n",
    "}\n"
   ]
  },
  {
   "cell_type": "markdown",
   "id": "0b295753-85d7-4bc5-a608-856175b93626",
   "metadata": {},
   "source": [
    "### Create the index and Load the documents with their embeddings into Redis. "
   ]
  },
  {
   "cell_type": "code",
   "execution_count": 12,
   "id": "d3378a8c-184b-48ff-9547-c0d9c5a7cb50",
   "metadata": {},
   "outputs": [
    {
     "name": "stdout",
     "output_type": "stream",
     "text": [
      "CPU times: user 2.05 s, sys: 150 ms, total: 2.2 s\n",
      "Wall time: 1min 46s\n"
     ]
    }
   ],
   "source": [
    "%%time\n",
    "vds = InMemoryVectorStore.from_documents(\n",
    "            chunks,\n",
    "            embeddings,\n",
    "            redis_url=\"rediss://Your_cluster_Endpoint:6379/ssl=True&ssl_cert_reqs=none\",\n",
    "            vector_schema=vector_schema,\n",
    "            index_name=INDEX_NAME,\n",
    "        )"
   ]
  },
  {
   "cell_type": "markdown",
   "id": "982d2d65-fe7b-406e-8a8e-d1c94dfc2c0c",
   "metadata": {},
   "source": [
    "### Lets inspect the index we created "
   ]
  },
  {
   "cell_type": "code",
   "execution_count": 13,
   "id": "276cf1bd-c529-4efc-8bf4-68ae88ea7701",
   "metadata": {
    "scrolled": true
   },
   "outputs": [
    {
     "name": "stdout",
     "output_type": "stream",
     "text": [
      "797 documents (1553039 space used vectors indexed 797 vector space usage in 886996\n",
      "CPU times: user 2.23 ms, sys: 0 ns, total: 2.23 ms\n",
      "Wall time: 2 ms\n"
     ]
    }
   ],
   "source": [
    "%%time\n",
    "info = rc.ft(INDEX_NAME).info()\n",
    "num_docs = info['num_docs']\n",
    "space_usage = info['space_usage']\n",
    "num_indexed_vectors = info['num_indexed_vectors']\n",
    "vector_space_usage = (info['vector_space_usage'])\n",
    "\n",
    "print(f\"{num_docs} documents ({space_usage} space used vectors indexed {num_indexed_vectors} vector space usage in {vector_space_usage}\")"
   ]
  },
  {
   "cell_type": "markdown",
   "id": "febe916e-791f-47ce-8e45-a713e747a45a",
   "metadata": {},
   "source": [
    "### Testing similarity search \n",
    "\n",
    "[Here are some search functions](https://python.langchain.com/docs/integrations/vectorstores/redis#querying)!"
   ]
  },
  {
   "cell_type": "markdown",
   "id": "81e9193e-0a2c-4ea8-9ae9-19180aa19cfb",
   "metadata": {},
   "source": [
    "## Run this if the index is already created and data is loaded "
   ]
  },
  {
   "cell_type": "code",
   "execution_count": 14,
   "id": "3a785316-4dba-4b51-bf85-8daa816dc236",
   "metadata": {},
   "outputs": [
    {
     "name": "stdout",
     "output_type": "stream",
     "text": [
      "CPU times: user 146 ms, sys: 9.73 ms, total: 156 ms\n",
      "Wall time: 171 ms\n"
     ]
    }
   ],
   "source": [
    "%%time\n",
    "vds = InMemoryVectorStore(\n",
    "        redis_url=\"rediss://Your_cluster_Endpoint:6379/ssl=True&ssl_cert_reqs=none\",\n",
    "        index_name=INDEX_NAME,\n",
    "        embedding=embeddings,\n",
    "       # index_schema=index_schema,  # Replace with your index schema if needed\n",
    ")\n"
   ]
  },
  {
   "cell_type": "code",
   "execution_count": 15,
   "id": "cf107321-ed09-4070-8b90-ff0a62a3f0b9",
   "metadata": {},
   "outputs": [],
   "source": [
    "query = \"how to do backups with memoryDB \"\n"
   ]
  },
  {
   "cell_type": "code",
   "execution_count": 16,
   "id": "8f0baf8e-b590-40f6-a6ac-907a13b5ab28",
   "metadata": {},
   "outputs": [
    {
     "name": "stdout",
     "output_type": "stream",
     "text": [
      "CPU times: user 4.93 ms, sys: 0 ns, total: 4.93 ms\n",
      "Wall time: 86.7 ms\n"
     ]
    },
    {
     "data": {
      "text/plain": [
       "[Document(page_content=\"console.aws.amazon.com/memorydb/.\\n2. from the left navigation pane, choose Clusters .\\nThe MemoryDB clusters screen appears.\\n3. choose the radio button to the left of the name of the MemoryDB cluster you want to back up.\\n4. Choose Actions and then Take snapshot.\\n5. In the Snapshot  window, type in a name for your snapshot in the Snapshot Name  box. We \\nrecommend that the name indicate which cluster was backed up and the date and time the snapshot \\nwas made.\\nCluster naming constraints are as follows:\\n•Must contain 1–40 alphanumeric characters or hyphens.\\n•Must begin with a letter.\\n•Can't contain two consecutive hyphens.\\n•Can't end with a hyphen.\\n6. Under Encryption, choose whether to use a default encryption key or a customer managed key. For \\nmore information, see In-transit encryption (TLS) in MemoryDB (p. 195).\\n7. Under Tags, optionally add tags to search and ﬁlter your snapshots or track your AWS costs.\\n130\", metadata={'id': 'doc:idx:vss-mm:1eec3bd97cc74263a86ee3b8d6c95700'}),\n",
       " Document(page_content=\"Amazon MemoryDB for Redis Developer Guide\\nExporting a snapshot\\n4. Choose Copy.\\n5. In Create a Copy of the Backup?, do the following:\\na. In New snapshot name  box, type a name for your new snapshot.\\nThe name must be between 1 and 1,000 characters and able to be UTF-8 encoded.\\nMemoryDB adds a shard identiﬁer and .rdb to the value that you enter here. For example, if \\nyou enter my-exported-snapshot , MemoryDB creates my-exported-snapshot-0001.rdb .\\nb. From the Target S3 Location list, choose the name of the Amazon S3 bucket that you want \\nto copy your snapshot to (the bucket that you created in Step 1: Create an Amazon S3 \\nbucket (p. 139)).\\nThe Target S3 Location must be an Amazon S3 bucket in the snapshot's AWS Region with the \\nfollowing permissions for the export process to succeed.\\n•Object access – Read and Write.\\n•Permissions access – Read.\\nFor more information, see Step 2: Grant MemoryDB access to your Amazon S3 bucket (p. 139).\\nc. Choose Copy.\\nNote\", metadata={'id': 'doc:idx:vss-mm:762ba9ec19a0437594a5c5febc6a4129'}),\n",
       " Document(page_content='Important\\n•MemoryDB clusters do not support multiple databases. Therefore, when restoring to \\nMemoryDB your restore fails if the .rdb ﬁle references more than one database.\\n•You cannot restore a snapshot from a cluster that uses data tiering (for example, r6gd node \\ntype) into a cluster that does not use data tiering (for example, r6g node type).\\nWhether you make any changes when restoring a cluster from a snapshot is governed by choices that \\nyou make. You make these choices in the Restore Cluster page when using the MemoryDB console to \\nrestore. You make these choices by setting parameter values when using the AWS CLI or MemoryDB API \\nto restore.\\nDuring the restore operation, MemoryDB creates the new cluster, and then populates it with data from \\nthe snapshot ﬁle. When this process is complete, the cluster is warmed up and ready to accept requests.\\nImportant\\nBefore you proceed, be sure you have created a snapshot of the cluster you want to restore', metadata={'id': 'doc:idx:vss-mm:eb41cec322784869b8c186905959fe92'}),\n",
       " Document(page_content='Amazon MemoryDB for Redis Developer Guide\\nCopying a snapshot\\nCopying a snapshot\\nYou can make a copy of any snapshot, whether it was created automatically or manually. When copying \\na snapshot, the same KMS encryption key as the source is used for the target unless speciﬁcally \\noverridden. You can also export your snapshot so you can access it from outside MemoryDB. For \\nguidance on exporting your snapshot, see Exporting a snapshot (p. 138).\\nThe following procedures show you how to copy a snapshot.\\nCopying a snapshot (Console)\\nTo copy a snapshot (console)\\n1. Sign in to the AWS Management Console and open the MemoryDB for Redis console at https:// \\nconsole.aws.amazon.com/memorydb/.\\n2. To see a list of your snapshots, from the left navigation pane choose Snapshots .\\n3. From the list of snapshots, choose the radio button to the left of the name of the snapshot you want \\nto copy.\\n4. Choose Actions and then choose Copy.\\n5. In the Copy snapshot page, do the following:', metadata={'id': 'doc:idx:vss-mm:3fb5fdfa724b4116b96643fa3cef6352'})]"
      ]
     },
     "execution_count": 16,
     "metadata": {},
     "output_type": "execute_result"
    }
   ],
   "source": [
    "%%time\n",
    "results = vds.similarity_search(query)\n",
    "(results)"
   ]
  },
  {
   "cell_type": "code",
   "execution_count": 17,
   "id": "dc550743-9462-4190-9bc7-d191cc76a847",
   "metadata": {},
   "outputs": [
    {
     "name": "stdout",
     "output_type": "stream",
     "text": [
      "console.aws.amazon.com/memorydb/.\n",
      "2. from the left navigation pane, choose Clusters .\n",
      "The MemoryDB clusters screen appears.\n",
      "3. choose the radio button to the left of the name of the MemoryDB cluster you want to back up.\n",
      "4. Choose Actions and then Take snapshot.\n",
      "5. In the Snapshot  window, type in a name for your snapshot in the Snapshot Name  box. We \n",
      "recommend that the name indicate which cluster was backed up and the date and time the snapshot \n",
      "was made.\n",
      "Cluster naming constraints are as follows:\n",
      "•Must contain 1–40 alphanumeric characters or hyphens.\n",
      "•Must begin with a letter.\n",
      "•Can't contain two consecutive hyphens.\n",
      "•Can't end with a hyphen.\n",
      "6. Under Encryption, choose whether to use a default encryption key or a customer managed key. For \n",
      "more information, see In-transit encryption (TLS) in MemoryDB (p. 195).\n",
      "7. Under Tags, optionally add tags to search and ﬁlter your snapshots or track your AWS costs.\n",
      "130\n",
      "\n",
      "Amazon MemoryDB for Redis Developer Guide\n",
      "Exporting a snapshot\n",
      "4. Choose Copy.\n",
      "5. In Create a Copy of the Backup?, do the following:\n",
      "a. In New snapshot name  box, type a name for your new snapshot.\n",
      "The name must be between 1 and 1,000 characters and able to be UTF-8 encoded.\n",
      "MemoryDB adds a shard identiﬁer and .rdb to the value that you enter here. For example, if \n",
      "you enter my-exported-snapshot , MemoryDB creates my-exported-snapshot-0001.rdb .\n",
      "b. From the Target S3 Location list, choose the name of the Amazon S3 bucket that you want \n",
      "to copy your snapshot to (the bucket that you created in Step 1: Create an Amazon S3 \n",
      "bucket (p. 139)).\n",
      "The Target S3 Location must be an Amazon S3 bucket in the snapshot's AWS Region with the \n",
      "following permissions for the export process to succeed.\n",
      "•Object access – Read and Write.\n",
      "•Permissions access – Read.\n",
      "For more information, see Step 2: Grant MemoryDB access to your Amazon S3 bucket (p. 139).\n",
      "c. Choose Copy.\n",
      "Note\n",
      "\n",
      "Important\n",
      "•MemoryDB clusters do not support multiple databases. Therefore, when restoring to \n",
      "MemoryDB your restore fails if the .rdb ﬁle references more than one database.\n",
      "•You cannot restore a snapshot from a cluster that uses data tiering (for example, r6gd node \n",
      "type) into a cluster that does not use data tiering (for example, r6g node type).\n",
      "Whether you make any changes when restoring a cluster from a snapshot is governed by choices that \n",
      "you make. You make these choices in the Restore Cluster page when using the MemoryDB console to \n",
      "restore. You make these choices by setting parameter values when using the AWS CLI or MemoryDB API \n",
      "to restore.\n",
      "During the restore operation, MemoryDB creates the new cluster, and then populates it with data from \n",
      "the snapshot ﬁle. When this process is complete, the cluster is warmed up and ready to accept requests.\n",
      "Important\n",
      "Before you proceed, be sure you have created a snapshot of the cluster you want to restore\n",
      "\n",
      "Amazon MemoryDB for Redis Developer Guide\n",
      "Copying a snapshot\n",
      "Copying a snapshot\n",
      "You can make a copy of any snapshot, whether it was created automatically or manually. When copying \n",
      "a snapshot, the same KMS encryption key as the source is used for the target unless speciﬁcally \n",
      "overridden. You can also export your snapshot so you can access it from outside MemoryDB. For \n",
      "guidance on exporting your snapshot, see Exporting a snapshot (p. 138).\n",
      "The following procedures show you how to copy a snapshot.\n",
      "Copying a snapshot (Console)\n",
      "To copy a snapshot (console)\n",
      "1. Sign in to the AWS Management Console and open the MemoryDB for Redis console at https:// \n",
      "console.aws.amazon.com/memorydb/.\n",
      "2. To see a list of your snapshots, from the left navigation pane choose Snapshots .\n",
      "3. From the list of snapshots, choose the radio button to the left of the name of the snapshot you want \n",
      "to copy.\n",
      "4. Choose Actions and then choose Copy.\n",
      "5. In the Copy snapshot page, do the following:\n",
      "\n"
     ]
    }
   ],
   "source": [
    "for item in results:\n",
    "    print(item.page_content, end=\"\\n\\n\")"
   ]
  },
  {
   "cell_type": "markdown",
   "id": "e0db49f2-d423-447d-aa0d-4165cdfddc20",
   "metadata": {},
   "source": [
    "## RAG "
   ]
  },
  {
   "cell_type": "markdown",
   "id": "c48d00bb-a9c4-4dfa-a835-d7ccf88d2489",
   "metadata": {},
   "source": [
    "### RAG\n",
    "The below code helps implement MemoryDB vector database as a retriever.By default, it will use [**semantic similarity**](https://python.langchain.com/docs/integrations/vectorstores/redis#redis-as-retriever)!\n",
    "\n",
    "[Retreival Augmented Generation](https://docs.aws.amazon.com/sagemaker/latest/dg/jumpstart-foundation-models-customize-rag.html)!\n",
    "\n",
    "We will use MemoryDB developer Guide "
   ]
  },
  {
   "cell_type": "code",
   "execution_count": 18,
   "id": "07421f16-a538-4b80-b8fa-7a24fafd1db6",
   "metadata": {},
   "outputs": [
    {
     "name": "stdout",
     "output_type": "stream",
     "text": [
      "CPU times: user 102 µs, sys: 0 ns, total: 102 µs\n",
      "Wall time: 105 µs\n"
     ]
    }
   ],
   "source": [
    "%%time\n",
    "retriever=vds.as_retriever()"
   ]
  },
  {
   "cell_type": "code",
   "execution_count": 20,
   "id": "93d49a35-910d-4ef0-a2fd-321a8953ff09",
   "metadata": {},
   "outputs": [
    {
     "name": "stderr",
     "output_type": "stream",
     "text": [
      "/home/ec2-user/.local/lib/python3.9/site-packages/langchain_core/_api/deprecation.py:139: LangChainDeprecationWarning: The method `Chain.__call__` was deprecated in langchain 0.1.0 and will be removed in 0.3.0. Use invoke instead.\n",
      "  warn_deprecated(\n",
      "score_threshold is deprecated. Use distance_threshold instead.score_threshold should only be used in similarity_search_with_relevance_scores.score_threshold will be removed in a future release.\n"
     ]
    },
    {
     "name": "stdout",
     "output_type": "stream",
     "text": [
      " Based on the provided context, to create a MemoryDB cluster you can use the AWS Management Console, AWS CLI, or MemoryDB API. \n",
      "\n",
      "Some key steps are:\n",
      "\n",
      "- Sign in to the AWS Management Console and open the MemoryDB console at https://console.aws.amazon.com/memorydb/\n",
      "- Choose Clusters in the left navigation pane and then choose Create Cluster. \n",
      "- Specify a name, description, subnet group, and other configuration options.\n",
      "- Review the settings and launch the cluster.\n",
      "\n",
      "The context provides more detailed instructions on using the console, CLI, and API to create a cluster. But in summary, you need to sign in to the MemoryDB console or use the CLI/API and specify cluster details like name, network, parameter groups etc to launch a new cluster.\n",
      "CPU times: user 59.7 ms, sys: 108 µs, total: 59.8 ms\n",
      "Wall time: 5.76 s\n"
     ]
    }
   ],
   "source": [
    "%%time\n",
    "from langchain.chains import RetrievalQA\n",
    "from langchain.prompts import PromptTemplate\n",
    "\n",
    "prompt_template = \"\"\"Human: Use the following pieces of context to provide a concise answer in English to the question at the end. If you don't know the answer, just say that you don't know, don't try to make up an answer.\n",
    "\n",
    "{context}\n",
    "\n",
    "Question: {question}\n",
    "Assistant:\"\"\"\n",
    "\n",
    "PROMPT = PromptTemplate(template=prompt_template, input_variables=[\"context\", \"question\"])\n",
    "\n",
    "qa_prompt = RetrievalQA.from_chain_type(\n",
    "    llm=llm,\n",
    "    chain_type=\"stuff\",\n",
    "    retriever=vds.as_retriever(),\n",
    "    return_source_documents=True,\n",
    "    chain_type_kwargs={\"prompt\": PROMPT},\n",
    "    #verbose=\"true\"\n",
    ")\n",
    "query = \"How do i create a MemoryDB cluster\"\n",
    "result = qa_prompt({\"query\": query})\n",
    "print(result[\"result\"])"
   ]
  },
  {
   "cell_type": "code",
   "execution_count": 22,
   "id": "08c0a152-333d-46f5-a816-d7d7eabb5b01",
   "metadata": {},
   "outputs": [
    {
     "name": "stdout",
     "output_type": "stream",
     "text": [
      "CPU times: user 98 µs, sys: 2 µs, total: 100 µs\n",
      "Wall time: 103 µs\n"
     ]
    }
   ],
   "source": [
    "%%time\n",
    "retriever=vds.as_retriever()"
   ]
  },
  {
   "cell_type": "code",
   "execution_count": null,
   "id": "752966f1-a969-486c-8ce9-4b6a07d6760c",
   "metadata": {},
   "outputs": [],
   "source": []
  },
  {
   "cell_type": "code",
   "execution_count": null,
   "id": "12965615-aefb-44b0-b625-9e90ef75ea6a",
   "metadata": {},
   "outputs": [],
   "source": []
  }
 ],
 "metadata": {
  "kernelspec": {
   "display_name": "Python 3 (ipykernel)",
   "language": "python",
   "name": "python3"
  },
  "language_info": {
   "codemirror_mode": {
    "name": "ipython",
    "version": 3
   },
   "file_extension": ".py",
   "mimetype": "text/x-python",
   "name": "python",
   "nbconvert_exporter": "python",
   "pygments_lexer": "ipython3",
   "version": "3.9.16"
  }
 },
 "nbformat": 4,
 "nbformat_minor": 5
}
