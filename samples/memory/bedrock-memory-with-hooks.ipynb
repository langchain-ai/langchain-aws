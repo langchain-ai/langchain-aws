{
 "cells": [
  {
   "cell_type": "code",
   "execution_count": 1,
   "id": "9eb8d74d-b7c3-48b5-ad2b-05b2c5804221",
   "metadata": {},
   "outputs": [],
   "source": [
    "from langgraph.prebuilt import create_react_agent\n",
    "\n",
    "from langchain_aws.memory import (\n",
    "    create_store_messages_tool,\n",
    "    create_search_memory_tool,\n",
    "    create_list_messages_tool\n",
    ")\n",
    "from bedrock_agentcore.memory import MemoryClient"
   ]
  },
  {
   "cell_type": "code",
   "execution_count": 2,
   "id": "884a3186-eaca-4b5c-ae15-d74a1fc3b15f",
   "metadata": {},
   "outputs": [],
   "source": [
    "REGION = \"us-east-1\""
   ]
  },
  {
   "cell_type": "code",
   "execution_count": 3,
   "id": "5de1cd58-626e-4aec-be5c-fefde2f5f36d",
   "metadata": {},
   "outputs": [],
   "source": [
    "memory_client = MemoryClient(region_name=REGION)"
   ]
  },
  {
   "cell_type": "code",
   "execution_count": null,
   "id": "bfcc8118-046e-4c2a-b6b5-b41e91128eb5",
   "metadata": {},
   "outputs": [],
   "source": [
    "create_response = memory_client.create_memory_and_wait(\n",
    "    name=\"CustomerSupportAgentMemory\",\n",
    "    strategies=[{\n",
    "        \"summaryMemoryStrategy\": {\n",
    "            \"name\": \"SessionSummarizer\",\n",
    "            \"namespaces\": [\"/summaries/{actorId}/{sessionId}\"]\n",
    "        }\n",
    "    }]\n",
    ")"
   ]
  },
  {
   "cell_type": "code",
   "execution_count": 4,
   "id": "40c159db-0e86-4a42-925e-809b07d1cb46",
   "metadata": {},
   "outputs": [],
   "source": [
    "MEMORY_ID = create_response[\"id\"]\n",
    "ACTOR_ID = \"User4\"\n",
    "SESSION_ID = \"OrderSupportSession4\""
   ]
  },
  {
   "cell_type": "code",
   "execution_count": 5,
   "id": "3d5eab54-af4c-47dc-b7c1-7897ef085f21",
   "metadata": {},
   "outputs": [],
   "source": [
    "# Create memory management tool\n",
    "store_messages_tool = create_store_messages_tool(\n",
    "    memory_client=memory_client\n",
    ")\n",
    "\n",
    "# Create memory search tool\n",
    "search_memory_tool = create_search_memory_tool(\n",
    "    memory_client=memory_client\n",
    ")\n",
    "\n",
    "# Create the list messages tool\n",
    "list_messages_tool = create_list_messages_tool(\n",
    "    memory_client=memory_client\n",
    ")"
   ]
  },
  {
   "cell_type": "code",
   "execution_count": 6,
   "id": "f37264b8-050e-40e5-91a2-2cbc06155793",
   "metadata": {},
   "outputs": [],
   "source": [
    "from langchain_core.tools import tool\n",
    "\n",
    "@tool\n",
    "def lookup_order(order_id: str) -> str:\n",
    "    \"\"\"Returns the order status\"\"\"\n",
    "    return f\"Customer order {order_id} was shipped 3 days ago, with an expected delivery tomorrow before 5pm\"\n",
    "\n",
    "@tool\n",
    "def update_customer_email(email: str):\n",
    "    \"\"\"Updates customer's email address\"\"\"\n",
    "    return f\"Customer's email updated to {email}\""
   ]
  },
  {
   "cell_type": "code",
   "execution_count": 7,
   "id": "47cc0beb-0a3b-4e43-998d-2dae590e4f0f",
   "metadata": {},
   "outputs": [],
   "source": [
    "from langgraph.checkpoint.memory import InMemorySaver\n",
    "from langchain_core.messages import HumanMessage, SystemMessage\n",
    "\n",
    "llm_model = \"bedrock_converse:us.anthropic.claude-3-5-haiku-20241022-v1:0\"\n",
    "prompt_template = \"You are a customer service assistant. Here is the conversation context: {summary}\"\n",
    "\n",
    "def pre_model_hook(state):\n",
    "    messages = state[\"messages\"]\n",
    "\n",
    "    # Get summary or other long term memories\n",
    "    last_message = messages[-1]\n",
    "    summary = \"\"\n",
    "    if isinstance(last_message, HumanMessage):\n",
    "        memories = search_memory_tool.invoke({\n",
    "            \"query\": last_message.content\n",
    "        })\n",
    "        if len(memories) > 0:\n",
    "            summary = memories[0]\n",
    "\n",
    "    # Get previous conversations, trimming to last 2\n",
    "    previous_messages = list_messages_tool.invoke({\"max_results\": 2}, config=config)\n",
    "    previous_messages.reverse()\n",
    "\n",
    "    # System message, that will have the long\n",
    "    # term memory context\n",
    "    system_message = SystemMessage(\n",
    "        content=prompt_template.format(summary=summary)\n",
    "    )\n",
    "\n",
    "    messages = [system_message] + previous_messages + messages\n",
    "\n",
    "    return {\n",
    "        \"llm_input_messages\": messages\n",
    "    }\n",
    "\n",
    "def post_model_hook(state):\n",
    "    store_messages_tool.invoke({\n",
    "        \"messages\": state[\"messages\"]\n",
    "    })\n",
    "\n",
    "agent = create_react_agent(\n",
    "    llm_model,\n",
    "    tools=[lookup_order, update_customer_email],\n",
    "    pre_model_hook=pre_model_hook,\n",
    "    post_model_hook=post_model_hook\n",
    ")"
   ]
  },
  {
   "cell_type": "code",
   "execution_count": 8,
   "id": "8f587a32-70c3-423b-9787-a6295dca976b",
   "metadata": {},
   "outputs": [],
   "source": [
    "config = {\n",
    "    \"configurable\": {\n",
    "        \"memory_id\": MEMORY_ID,\n",
    "        \"session_id\": SESSION_ID,\n",
    "        \"actor_id\": ACTOR_ID,\n",
    "        \"namespace\": f\"/summaries/{ACTOR_ID}/{SESSION_ID}\"\n",
    "    }\n",
    "}"
   ]
  },
  {
   "cell_type": "code",
   "execution_count": 9,
   "id": "fbeed506-596c-44d4-8f6a-701f6229263a",
   "metadata": {},
   "outputs": [],
   "source": [
    "def list_events():\n",
    "    events = memory_client.list_events(memory_id=MEMORY_ID, session_id=SESSION_ID, actor_id=ACTOR_ID)\n",
    "    for event in events:\n",
    "        print(f\"\\n================================ Event Id: {event['eventId']} =================================\\n\")\n",
    "        for payload in event['payload']:\n",
    "            print(f\"================================ {payload['conversational']['role']} =================================\")\n",
    "            print(payload['conversational']['content']['text'])"
   ]
  },
  {
   "cell_type": "code",
   "execution_count": 10,
   "id": "4beeb2c2-c884-4025-88b9-ca433de0aba8",
   "metadata": {},
   "outputs": [
    {
     "name": "stdout",
     "output_type": "stream",
     "text": [
      "================================\u001b[1m Human Message \u001b[0m=================================\n",
      "\n",
      "Hi, I'm having trouble with my order #12345\n",
      "==================================\u001b[1m Ai Message \u001b[0m==================================\n",
      "\n",
      "[{'type': 'text', 'text': \"Let me help you check the status of your order. I'll look up the details for order #12345 right away.\"}, {'type': 'tool_use', 'name': 'lookup_order', 'input': {'order_id': '12345'}, 'id': 'tooluse_beyZ90h7TPGdwIMjqYK6Xw'}]\n",
      "Tool Calls:\n",
      "  lookup_order (tooluse_beyZ90h7TPGdwIMjqYK6Xw)\n",
      " Call ID: tooluse_beyZ90h7TPGdwIMjqYK6Xw\n",
      "  Args:\n",
      "    order_id: 12345\n",
      "=================================\u001b[1m Tool Message \u001b[0m=================================\n",
      "Name: lookup_order\n",
      "\n",
      "Customer order 12345 was shipped 3 days ago, with an expected delivery tomorrow before 5pm\n",
      "==================================\u001b[1m Ai Message \u001b[0m==================================\n",
      "\n",
      "I see that your order #12345 was shipped 3 days ago and is expected to be delivered tomorrow before 5 PM. Is there anything specific about the order that's causing you concern? I'd be happy to help you further or provide more information about the shipment.\n"
     ]
    }
   ],
   "source": [
    "response = agent.invoke({\n",
    "    \"messages\": [\n",
    "        \"Hi, I'm having trouble with my order #12345\"\n",
    "    ]\n",
    "}, config)\n",
    "\n",
    "for message in response[\"messages\"]:\n",
    "    message.pretty_print()"
   ]
  },
  {
   "cell_type": "code",
   "execution_count": 11,
   "id": "ead49358-8680-4384-a3f7-0789d6105123",
   "metadata": {},
   "outputs": [
    {
     "name": "stdout",
     "output_type": "stream",
     "text": [
      "\n",
      "================================ Event Id: 0000001753926824000#46374f3d =================================\n",
      "\n",
      "================================ USER =================================\n",
      "Hi, I'm having trouble with my order #12345\n",
      "================================ TOOL =================================\n",
      "Customer order 12345 was shipped 3 days ago, with an expected delivery tomorrow before 5pm\n",
      "================================ ASSISTANT =================================\n",
      "I see that your order #12345 was shipped 3 days ago and is expected to be delivered tomorrow before 5 PM. Is there anything specific about the order that's causing you concern? I'd be happy to help you further or provide more information about the shipment.\n",
      "\n",
      "================================ Event Id: 0000001753926822000#47403cb4 =================================\n",
      "\n",
      "================================ USER =================================\n",
      "Hi, I'm having trouble with my order #12345\n"
     ]
    }
   ],
   "source": [
    "list_events()"
   ]
  },
  {
   "cell_type": "code",
   "execution_count": 12,
   "id": "b0352a95-f134-4020-8523-73296bc4dcc8",
   "metadata": {},
   "outputs": [
    {
     "name": "stdout",
     "output_type": "stream",
     "text": [
      "================================\u001b[1m Human Message \u001b[0m=================================\n",
      "\n",
      "Actually, before that - I also want to change my email address\n",
      "==================================\u001b[1m Ai Message \u001b[0m==================================\n",
      "\n",
      "I'll help you with updating your email address first, and then we'll check the status of your order.\n",
      "\n",
      "Could you please provide me with the new email address you'd like to use?\n"
     ]
    }
   ],
   "source": [
    "response = agent.invoke({\n",
    "    \"messages\": [\n",
    "        \"Actually, before that - I also want to change my email address\"\n",
    "    ]\n",
    "}, config)\n",
    "for message in response[\"messages\"]:\n",
    "    message.pretty_print()"
   ]
  },
  {
   "cell_type": "code",
   "execution_count": 13,
   "id": "0ac0c169-f47d-49c6-b711-83b28a7e74e0",
   "metadata": {},
   "outputs": [
    {
     "name": "stdout",
     "output_type": "stream",
     "text": [
      "\n",
      "================================ Event Id: 0000001753926839000#d5052028 =================================\n",
      "\n",
      "================================ USER =================================\n",
      "Actually, before that - I also want to change my email address\n",
      "================================ ASSISTANT =================================\n",
      "I'll help you with updating your email address first, and then we'll check the status of your order.\n",
      "\n",
      "Could you please provide me with the new email address you'd like to use?\n",
      "\n",
      "================================ Event Id: 0000001753926824000#46374f3d =================================\n",
      "\n",
      "================================ USER =================================\n",
      "Hi, I'm having trouble with my order #12345\n",
      "================================ TOOL =================================\n",
      "Customer order 12345 was shipped 3 days ago, with an expected delivery tomorrow before 5pm\n",
      "================================ ASSISTANT =================================\n",
      "I see that your order #12345 was shipped 3 days ago and is expected to be delivered tomorrow before 5 PM. Is there anything specific about the order that's causing you concern? I'd be happy to help you further or provide more information about the shipment.\n",
      "\n",
      "================================ Event Id: 0000001753926822000#47403cb4 =================================\n",
      "\n",
      "================================ USER =================================\n",
      "Hi, I'm having trouble with my order #12345\n"
     ]
    }
   ],
   "source": [
    "list_events()"
   ]
  },
  {
   "cell_type": "code",
   "execution_count": 14,
   "id": "3492a73c-74d8-4abe-b787-b7944b8ca235",
   "metadata": {},
   "outputs": [
    {
     "name": "stdout",
     "output_type": "stream",
     "text": [
      "================================\u001b[1m Human Message \u001b[0m=================================\n",
      "\n",
      "myemail@example.com\n",
      "==================================\u001b[1m Ai Message \u001b[0m==================================\n",
      "\n",
      "[{'type': 'text', 'text': \"I'll help you update your email address right away.\"}, {'type': 'tool_use', 'name': 'update_customer_email', 'input': {'email': 'myemail@example.com'}, 'id': 'tooluse_UEBGmgAQTR28Mobm7THbgw'}]\n",
      "Tool Calls:\n",
      "  update_customer_email (tooluse_UEBGmgAQTR28Mobm7THbgw)\n",
      " Call ID: tooluse_UEBGmgAQTR28Mobm7THbgw\n",
      "  Args:\n",
      "    email: myemail@example.com\n",
      "=================================\u001b[1m Tool Message \u001b[0m=================================\n",
      "Name: update_customer_email\n",
      "\n",
      "Customer's email updated to myemail@example.com\n",
      "==================================\u001b[1m Ai Message \u001b[0m==================================\n",
      "\n",
      "Your email address has been successfully updated to myemail@example.com. \n",
      "\n",
      "Is there anything else I can help you with today? Would you like to check the status of an order?\n"
     ]
    }
   ],
   "source": [
    "response = agent.invoke({\n",
    "    \"messages\": [\n",
    "        \"myemail@example.com\"\n",
    "    ]\n",
    "}, config)\n",
    "for message in response[\"messages\"]:\n",
    "    message.pretty_print()"
   ]
  },
  {
   "cell_type": "code",
   "execution_count": 15,
   "id": "5aefe00e-3978-4a6a-b88c-6663e59d1ee2",
   "metadata": {},
   "outputs": [
    {
     "name": "stdout",
     "output_type": "stream",
     "text": [
      "\n",
      "================================ Event Id: 0000001753926858000#eed1ac65 =================================\n",
      "\n",
      "================================ USER =================================\n",
      "myemail@example.com\n",
      "================================ TOOL =================================\n",
      "Customer's email updated to myemail@example.com\n",
      "================================ ASSISTANT =================================\n",
      "Your email address has been successfully updated to myemail@example.com. \n",
      "\n",
      "Is there anything else I can help you with today? Would you like to check the status of an order?\n",
      "\n",
      "================================ Event Id: 0000001753926857000#e22d00a2 =================================\n",
      "\n",
      "================================ USER =================================\n",
      "myemail@example.com\n",
      "\n",
      "================================ Event Id: 0000001753926839000#d5052028 =================================\n",
      "\n",
      "================================ USER =================================\n",
      "Actually, before that - I also want to change my email address\n",
      "================================ ASSISTANT =================================\n",
      "I'll help you with updating your email address first, and then we'll check the status of your order.\n",
      "\n",
      "Could you please provide me with the new email address you'd like to use?\n",
      "\n",
      "================================ Event Id: 0000001753926824000#46374f3d =================================\n",
      "\n",
      "================================ USER =================================\n",
      "Hi, I'm having trouble with my order #12345\n",
      "================================ TOOL =================================\n",
      "Customer order 12345 was shipped 3 days ago, with an expected delivery tomorrow before 5pm\n",
      "================================ ASSISTANT =================================\n",
      "I see that your order #12345 was shipped 3 days ago and is expected to be delivered tomorrow before 5 PM. Is there anything specific about the order that's causing you concern? I'd be happy to help you further or provide more information about the shipment.\n",
      "\n",
      "================================ Event Id: 0000001753926822000#47403cb4 =================================\n",
      "\n",
      "================================ USER =================================\n",
      "Hi, I'm having trouble with my order #12345\n"
     ]
    }
   ],
   "source": [
    "list_events()"
   ]
  },
  {
   "cell_type": "code",
   "execution_count": 17,
   "id": "17756a30-5e31-4ef6-9453-0b5c3135058d",
   "metadata": {},
   "outputs": [
    {
     "name": "stdout",
     "output_type": "stream",
     "text": [
      "================================\u001b[1m Human Message \u001b[0m=================================\n",
      "\n",
      "The package already arrived, but seems damaged\n",
      "==================================\u001b[1m Ai Message \u001b[0m==================================\n",
      "\n",
      "[{'type': 'text', 'text': 'I apologize to hear that the package arrived damaged. Let me help you verify the order details first.'}, {'type': 'tool_use', 'name': 'lookup_order', 'input': {'order_id': '12345'}, 'id': 'tooluse_ryehEI-SRd2ckquOtKs0MA'}]\n",
      "Tool Calls:\n",
      "  lookup_order (tooluse_ryehEI-SRd2ckquOtKs0MA)\n",
      " Call ID: tooluse_ryehEI-SRd2ckquOtKs0MA\n",
      "  Args:\n",
      "    order_id: 12345\n",
      "=================================\u001b[1m Tool Message \u001b[0m=================================\n",
      "Name: lookup_order\n",
      "\n",
      "Customer order 12345 was shipped 3 days ago, with an expected delivery tomorrow before 5pm\n",
      "==================================\u001b[1m Ai Message \u001b[0m==================================\n",
      "\n",
      "I see that the order was shipped recently. However, since you mentioned the package has already arrived and is damaged, I recommend the following steps:\n",
      "\n",
      "1. Take clear photos of the damaged package and the damaged items.\n",
      "2. Contact our customer support team with the order details and photos.\n",
      "3. We can help you with a replacement or refund.\n",
      "\n",
      "Would you like me to help you further with this issue? Could you provide me with the specific order number so I can assist you more accurately?\n"
     ]
    }
   ],
   "source": [
    "response = agent.invoke({\n",
    "    \"messages\": [\n",
    "        \"The package already arrived, but seems damaged\"\n",
    "    ]\n",
    "}, config)\n",
    "for message in response[\"messages\"]:\n",
    "    message.pretty_print()"
   ]
  },
  {
   "cell_type": "code",
   "execution_count": 18,
   "id": "aa616877-3563-4bd3-9a2f-1f3b24ee8965",
   "metadata": {},
   "outputs": [
    {
     "name": "stdout",
     "output_type": "stream",
     "text": [
      "\n",
      "================================ Event Id: 0000001753926912000#095ae727 =================================\n",
      "\n",
      "================================ USER =================================\n",
      "The package already arrived, but seems damaged\n",
      "================================ TOOL =================================\n",
      "Customer order 12345 was shipped 3 days ago, with an expected delivery tomorrow before 5pm\n",
      "================================ ASSISTANT =================================\n",
      "I see that the order was shipped recently. However, since you mentioned the package has already arrived and is damaged, I recommend the following steps:\n",
      "\n",
      "1. Take clear photos of the damaged package and the damaged items.\n",
      "2. Contact our customer support team with the order details and photos.\n",
      "3. We can help you with a replacement or refund.\n",
      "\n",
      "Would you like me to help you further with this issue? Could you provide me with the specific order number so I can assist you more accurately?\n",
      "\n",
      "================================ Event Id: 0000001753926909000#ebf8d68d =================================\n",
      "\n",
      "================================ USER =================================\n",
      "The package already arrived, but seems damaged\n",
      "\n",
      "================================ Event Id: 0000001753926858000#eed1ac65 =================================\n",
      "\n",
      "================================ USER =================================\n",
      "myemail@example.com\n",
      "================================ TOOL =================================\n",
      "Customer's email updated to myemail@example.com\n",
      "================================ ASSISTANT =================================\n",
      "Your email address has been successfully updated to myemail@example.com. \n",
      "\n",
      "Is there anything else I can help you with today? Would you like to check the status of an order?\n",
      "\n",
      "================================ Event Id: 0000001753926857000#e22d00a2 =================================\n",
      "\n",
      "================================ USER =================================\n",
      "myemail@example.com\n",
      "\n",
      "================================ Event Id: 0000001753926839000#d5052028 =================================\n",
      "\n",
      "================================ USER =================================\n",
      "Actually, before that - I also want to change my email address\n",
      "================================ ASSISTANT =================================\n",
      "I'll help you with updating your email address first, and then we'll check the status of your order.\n",
      "\n",
      "Could you please provide me with the new email address you'd like to use?\n",
      "\n",
      "================================ Event Id: 0000001753926824000#46374f3d =================================\n",
      "\n",
      "================================ USER =================================\n",
      "Hi, I'm having trouble with my order #12345\n",
      "================================ TOOL =================================\n",
      "Customer order 12345 was shipped 3 days ago, with an expected delivery tomorrow before 5pm\n",
      "================================ ASSISTANT =================================\n",
      "I see that your order #12345 was shipped 3 days ago and is expected to be delivered tomorrow before 5 PM. Is there anything specific about the order that's causing you concern? I'd be happy to help you further or provide more information about the shipment.\n",
      "\n",
      "================================ Event Id: 0000001753926822000#47403cb4 =================================\n",
      "\n",
      "================================ USER =================================\n",
      "Hi, I'm having trouble with my order #12345\n"
     ]
    }
   ],
   "source": [
    "list_events()"
   ]
  },
  {
   "cell_type": "code",
   "execution_count": null,
   "id": "9f060f82-c718-4d1b-81d6-29b9163b0bf6",
   "metadata": {},
   "outputs": [],
   "source": []
  }
 ],
 "metadata": {
  "kernelspec": {
   "display_name": "Python 3 (ipykernel)",
   "language": "python",
   "name": "python3"
  },
  "language_info": {
   "codemirror_mode": {
    "name": "ipython",
    "version": 3
   },
   "file_extension": ".py",
   "mimetype": "text/x-python",
   "name": "python",
   "nbconvert_exporter": "python",
   "pygments_lexer": "ipython3",
   "version": "3.13.5"
  }
 },
 "nbformat": 4,
 "nbformat_minor": 5
}
