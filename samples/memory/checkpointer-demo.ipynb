{
 "cells": [
  {
   "cell_type": "markdown",
   "id": "8208f7d6-391d-4054-9e67-ac0f85878dcd",
   "metadata": {},
   "source": [
    "# Bedrock AgentCore Memory Checkpointer Walkthrough\n",
    "\n",
    "This sample notebook walks through setup and usage of the Bedrock AgentCore Memory Checkpointer with LangGraph. This approach enables saving of conversations and state data to the Memory API for persistent storage, fault tolerance, and human-in-the-loop workflows.\n",
    "\n",
    "### Setup\n",
    "For this notebook you will need:\n",
    "1. An Amazon Web Services development account\n",
    "2. Bedrock Model Access (i.e. Claude 3.7 Sonnet)\n",
    "3. An AgentCore Memory Resource configured (see below section for details)\n",
    "\n",
    "### AgentCore Memory Resource\n",
    "\n",
    "Either in the AWS developer portal or using the boto3 library you must create an [AgentCore Memory Resource](https://boto3.amazonaws.com/v1/documentation/api/latest/reference/services/bedrock-agentcore-control/client/create_memory.html). For just using the `AgentCoreMemorySaver` checkpointer in this notebook, you do not need to specify any specific long-term memory strategies. However, it may be beneficial to supplement this approach with the `AgentCoreMemoryStore` to save and extract conversational insights, so you may want to enable strategies for that use case.\n",
    "\n",
    "Once you have the Memory enabled and in a `ACTIVE` state, take note of the `memoryId`, we will need it later."
   ]
  },
  {
   "cell_type": "code",
   "execution_count": 1,
   "id": "8eff8706-6715-4981-983b-934561ee0a19",
   "metadata": {},
   "outputs": [],
   "source": [
    "# Install general dependencies\n",
    "from typing import Annotated, Any, Dict, List\n",
    "\n",
    "from langchain.chat_models import init_chat_model\n",
    "from langchain.tools import tool\n",
    "\n",
    "# Import LangGraph and LangChain components\n",
    "from langchain_core.messages import AIMessage, HumanMessage, SystemMessage\n",
    "from langchain_core.runnables import RunnableConfig\n",
    "from langgraph.graph import END, START, StateGraph\n",
    "from langgraph.graph.message import add_messages\n",
    "from langgraph.prebuilt import ToolNode, tools_condition\n",
    "from typing_extensions import TypedDict"
   ]
  },
  {
   "cell_type": "code",
   "execution_count": 2,
   "id": "fc12fd92-b84a-4d2f-b96d-83d3da08bf70",
   "metadata": {},
   "outputs": [],
   "source": [
    "# Import the AgentCoreMemorySaver that we will use as a checkpointer\n",
    "# from langgraph_checkpoint_aws.checkpoint.agentcore_memory.saver import AgentCoreMemorySaver\n",
    "from agentcore_memory.saver import AgentCoreMemorySaver\n",
    "\n",
    "import logging\n",
    "logging.getLogger().setLevel(logging.DEBUG)"
   ]
  },
  {
   "cell_type": "markdown",
   "id": "51d91a14-541c-426c-a52c-5fdcf29f8953",
   "metadata": {},
   "source": [
    "## AgentCore Memory Configuration\n",
    "- `REGION` corresponds to the AWS region that your resources are present in, these are passed to the `AgentCoreMemorySaver`.\n",
    "- `MEMORY_ID` corresponds to your top level AgentCore Memory resource. Within this resource we will store checkpoints for multiple actors and sessions\n",
    "- `MODEL_ID` this is the bedrock model that will power our LangGraph agent through Bedrock Converse.\n",
    "\n",
    "We will use the `MEMORY_ID` and any additional boto3 client keyword args (in our case, `REGION`) to instantiate our checkpointer."
   ]
  },
  {
   "cell_type": "code",
   "execution_count": 3,
   "id": "226d094c-a05d-4f88-851d-cc42ff63ef11",
   "metadata": {},
   "outputs": [],
   "source": [
    "REGION = \"ap-southeast-2\"\n",
    "MEMORY_ID = \"memory_tnpk0-AMDRU75vYn\"\n",
    "MODEL_ID = \"apac.anthropic.claude-3-7-sonnet-20250219-v1:0\"\n",
    "\n",
    "# Initialize checkpointer for state persistence\n",
    "checkpointer = AgentCoreMemorySaver(MEMORY_ID, region_name=REGION)\n",
    "\n",
    "# Initialize LLM\n",
    "llm = init_chat_model(MODEL_ID, model_provider=\"bedrock_converse\", region_name=REGION)"
   ]
  },
  {
   "cell_type": "code",
   "execution_count": 4,
   "id": "a8a1e31f-137a-4bd6-b959-4dc7d8176949",
   "metadata": {},
   "outputs": [],
   "source": [
    "# Define agent state and LangGraph graph builder\n",
    "class State(TypedDict):\n",
    "    messages: Annotated[list, add_messages]\n",
    "\n",
    "\n",
    "graph_builder = StateGraph(State)"
   ]
  },
  {
   "cell_type": "markdown",
   "id": "c56c77aa-4b19-49a5-af3c-db2b4798384b",
   "metadata": {},
   "source": [
    "## Define our tools\n",
    "\n",
    "For this demo notebook we will only give our agent access to two simple tools, adding and multiplying."
   ]
  },
  {
   "cell_type": "code",
   "execution_count": 5,
   "id": "dd81ba1c-3fb8-474c-ae40-0ee7c62ca234",
   "metadata": {},
   "outputs": [],
   "source": [
    "@tool\n",
    "def add(a: int, b: int):\n",
    "    \"\"\"Add two integers and return the result\"\"\"\n",
    "    return a + b\n",
    "\n",
    "\n",
    "@tool\n",
    "def multiply(a: int, b: int):\n",
    "    \"\"\"Multiply two integers and return the result\"\"\"\n",
    "    return a * b\n",
    "\n",
    "\n",
    "tools = [add, multiply]\n",
    "\n",
    "# Bind the tools to our LLM so it can understand their structure\n",
    "llm_with_tools = llm.bind_tools(tools)"
   ]
  },
  {
   "cell_type": "markdown",
   "id": "651b6e3f-8b41-4c07-8a32-680666b2661e",
   "metadata": {},
   "source": [
    "## Build our LangGraph agent graph\n",
    "\n",
    "Our agent will have a few simple nodes, mainly a chatbot node and a tool node. This will enable our chatbot to use the add and multiply tools as much as it needs and then return a response. We will visualize this graph below."
   ]
  },
  {
   "cell_type": "code",
   "execution_count": 6,
   "id": "9e63decd-2e15-4f12-9e82-6a0aac3f1892",
   "metadata": {},
   "outputs": [
    {
     "name": "stdout",
     "output_type": "stream",
     "text": [
      "✅ Agent with checkpointing compiled successfully\n"
     ]
    },
    {
     "data": {
      "image/png": "[encoded data removed]",
      "text/plain": [
       "<langgraph.graph.state.CompiledStateGraph object at 0x10b5e6e90>"
      ]
     },
     "execution_count": 6,
     "metadata": {},
     "output_type": "execute_result"
    }
   ],
   "source": [
    "# Our chatbot node will contain the LLM invocation\n",
    "def chatbot(state: State):\n",
    "    return {\"messages\": [llm_with_tools.invoke(state[\"messages\"])]}\n",
    "\n",
    "\n",
    "graph_builder.add_node(\"chatbot\", chatbot)\n",
    "tool_node = ToolNode(tools=tools)\n",
    "graph_builder.add_node(\"tools\", tool_node)\n",
    "\n",
    "graph_builder.add_conditional_edges(\n",
    "    \"chatbot\",\n",
    "    tools_condition,\n",
    ")\n",
    "\n",
    "# Finish off the other edges\n",
    "graph_builder.add_edge(START, \"chatbot\")\n",
    "graph_builder.add_edge(\"tools\", \"chatbot\")\n",
    "graph_builder.add_edge(\"chatbot\", END)\n",
    "\n",
    "# Compile the graph with our AgentCoreMemorySaver as the checkpointer\n",
    "graph = graph_builder.compile(checkpointer=checkpointer)\n",
    "\n",
    "print(\"✅ Agent with checkpointing compiled successfully\")\n",
    "graph"
   ]
  },
  {
   "cell_type": "markdown",
   "id": "b6cbbb3a-f85c-42f5-bbfb-40f5f6b8b48c",
   "metadata": {},
   "source": [
    "## IMPORTANT: State and Config\n",
    "\n",
    "\n",
    "### LangGraph RuntimeConfig\n",
    "In LangGraph, config is a `RuntimeConfig` that contains attributes that are necessary at invocation time, for example user IDs or session IDs. For the `AgentCoreMemorySaver`, `thread_id` and `actor_id` must be set in the config. For instance, your AgentCore invocation endpoint could assign this based on the identity or user ID of the caller. Additional documentation here: [https://langchain-ai.github.io/langgraphjs/how-tos/configuration/](https://langchain-ai.github.io/langgraphjs/how-tos/configuration/)\n",
    "\n",
    "### LangGraph Invocation State\n",
    "The state that is passed to the `graph.invoke` method is an instance of our `State` we defined earlier: \n",
    "```\n",
    "class State(TypedDict):\n",
    "    messages: Annotated[list, add_messages]\n",
    "```\n",
    "As you can see, we have defined messages with the `add_messages` annotation. This means that each node (or invocation) state can return a `messages` key that will simply add the value to the latest value of the `State`. So for example, our chatbot node may return a response such as `messages=[\"Hi of course I can help you with that\"]` and it will be appended to our state messages below instead of overwriting it. For more information on State, see the docs here: [https://langchain-ai.github.io/langgraph/concepts/low_level/#working-with-messages-in-graph-state](https://langchain-ai.github.io/langgraph/concepts/low_level/#working-with-messages-in-graph-state)"
   ]
  },
  {
   "cell_type": "code",
   "execution_count": 7,
   "id": "859fee36-1eff-4713-9c3b-387b702c0301",
   "metadata": {},
   "outputs": [],
   "source": [
    "# For our demo we will have dummy thread and actor IDs\n",
    "config = {\n",
    "    \"configurable\": {\n",
    "        \"thread_id\": \"thread-0\",\n",
    "        \"actor_id\": \"user-0\",\n",
    "    }\n",
    "}\n",
    "\n",
    "# This invocation state is where you would fill in a query prompt from the user at /invocations\n",
    "invocation_state = {\n",
    "    \"messages\": [HumanMessage(\"What is 1337 times 200 + 17? Follow pemdas.\")]\n",
    "}"
   ]
  },
  {
   "cell_type": "markdown",
   "id": "96044de0-2d32-4811-ac30-43f4416f4303",
   "metadata": {},
   "source": [
    "### Run the agent"
   ]
  },
  {
   "cell_type": "code",
   "execution_count": 8,
   "id": "c2bc4869-58cd-4914-9a7a-8d39ecd16226",
   "metadata": {},
   "outputs": [
    {
     "data": {
      "text/plain": [
       "{'messages': [HumanMessage(content='What is 1337 times 200 + 17? Follow pemdas.', additional_kwargs={}, response_metadata={}, id='b48c5506-2d06-4ba8-8da5-e315ad5cc654'),\n",
       "  AIMessage(content=[{'type': 'text', 'text': \"I'll solve this step by step following PEMDAS (Parentheses, Exponents, Multiplication/Division, Addition/Subtraction).\\n\\nAccording to PEMDAS, I should perform multiplication before addition. So I'll first multiply 1337 by 200, and then add 17 to that result.\\n\\nLet me calculate 1337 × 200:\"}, {'type': 'tool_use', 'name': 'multiply', 'input': {'a': 1337, 'b': 200}, 'id': 'tooluse_zZPvbVtOR2u2uxjQMtAq_A'}], additional_kwargs={}, response_metadata={'ResponseMetadata': {'RequestId': 'e1c53591-ec66-4bcc-851e-74e43091ff2f', 'HTTPStatusCode': 200, 'HTTPHeaders': {'date': 'Mon, 15 Sep 2025 13:45:15 GMT', 'content-type': 'application/json', 'content-length': '691', 'connection': 'keep-alive', 'x-amzn-requestid': 'e1c53591-ec66-4bcc-851e-74e43091ff2f'}, 'RetryAttempts': 0}, 'stopReason': 'tool_use', 'metrics': {'latencyMs': [3046]}, 'model_name': 'apac.anthropic.claude-3-7-sonnet-20250219-v1:0'}, id='run--5727d585-bf6b-4ca8-9b15-9e9275e112e6-0', tool_calls=[{'name': 'multiply', 'args': {'a': 1337, 'b': 200}, 'id': 'tooluse_zZPvbVtOR2u2uxjQMtAq_A', 'type': 'tool_call'}], usage_metadata={'input_tokens': 472, 'output_tokens': 153, 'total_tokens': 625, 'input_token_details': {'cache_creation': 0, 'cache_read': 0}}),\n",
       "  ToolMessage(content='267400', name='multiply', id='25e90eed-b36e-474a-b9f6-74a6294814c6', tool_call_id='tooluse_zZPvbVtOR2u2uxjQMtAq_A'),\n",
       "  AIMessage(content=[{'type': 'text', 'text': \"Now I'll add 17 to this result:\"}, {'type': 'tool_use', 'name': 'add', 'input': {'a': 267400, 'b': 17}, 'id': 'tooluse_RkwUNdsXT16Yh8dktOyMRQ'}], additional_kwargs={}, response_metadata={'ResponseMetadata': {'RequestId': 'a9c3bb70-784b-4550-a162-d0380023e801', 'HTTPStatusCode': 200, 'HTTPHeaders': {'date': 'Mon, 15 Sep 2025 13:45:17 GMT', 'content-type': 'application/json', 'content-length': '425', 'connection': 'keep-alive', 'x-amzn-requestid': 'a9c3bb70-784b-4550-a162-d0380023e801'}, 'RetryAttempts': 0}, 'stopReason': 'tool_use', 'metrics': {'latencyMs': [1589]}, 'model_name': 'apac.anthropic.claude-3-7-sonnet-20250219-v1:0'}, id='run--5b2347b4-54e9-4c72-b9ff-ca3b111688ac-0', tool_calls=[{'name': 'add', 'args': {'a': 267400, 'b': 17}, 'id': 'tooluse_RkwUNdsXT16Yh8dktOyMRQ', 'type': 'tool_call'}], usage_metadata={'input_tokens': 638, 'output_tokens': 82, 'total_tokens': 720, 'input_token_details': {'cache_creation': 0, 'cache_read': 0}}),\n",
       "  ToolMessage(content='267417', name='add', id='b5a708d3-5f32-4f34-93c5-1383dcc11479', tool_call_id='tooluse_RkwUNdsXT16Yh8dktOyMRQ'),\n",
       "  AIMessage(content='Following PEMDAS, the answer to 1337 × 200 + 17 is 267,417.', additional_kwargs={}, response_metadata={'ResponseMetadata': {'RequestId': '079b938e-969a-44ad-a8b9-c9d936fcc238', 'HTTPStatusCode': 200, 'HTTPHeaders': {'date': 'Mon, 15 Sep 2025 13:45:19 GMT', 'content-type': 'application/json', 'content-length': '354', 'connection': 'keep-alive', 'x-amzn-requestid': '079b938e-969a-44ad-a8b9-c9d936fcc238'}, 'RetryAttempts': 0}, 'stopReason': 'end_turn', 'metrics': {'latencyMs': [1397]}, 'model_name': 'apac.anthropic.claude-3-7-sonnet-20250219-v1:0'}, id='run--bdb9b4ac-1f5a-489a-a956-d879aac4d942-0', usage_metadata={'input_tokens': 733, 'output_tokens': 31, 'total_tokens': 764, 'input_token_details': {'cache_creation': 0, 'cache_read': 0}}),\n",
       "  HumanMessage(content='Create a LaTeX formula in markdown that shows the previous calculation and results', additional_kwargs={}, response_metadata={}, id='ad93df1b-1eac-4e08-8805-b42ae9f59462'),\n",
       "  AIMessage(content=\"Here's a LaTeX formula in markdown that shows the previous calculation and results:\\n\\n```math\\n1337 \\\\times 200 + 17 = 267400 + 17 = 267417\\n```\\n\\nThis displays the calculation step by step, showing the multiplication of 1337 by 200 first (following PEMDAS - order of operations), which equals 267400, then the addition of 17 to get the final result of 267417.\", additional_kwargs={}, response_metadata={'ResponseMetadata': {'RequestId': 'baa5c348-5b8b-40e0-8b69-6465193ce041', 'HTTPStatusCode': 200, 'HTTPHeaders': {'date': 'Mon, 15 Sep 2025 13:45:44 GMT', 'content-type': 'application/json', 'content-length': '657', 'connection': 'keep-alive', 'x-amzn-requestid': 'baa5c348-5b8b-40e0-8b69-6465193ce041'}, 'RetryAttempts': 0}, 'stopReason': 'end_turn', 'metrics': {'latencyMs': [2624]}, 'model_name': 'apac.anthropic.claude-3-7-sonnet-20250219-v1:0'}, id='run--1faf142a-b246-4870-9552-09b5f6b9d05b-0', usage_metadata={'input_tokens': 781, 'output_tokens': 106, 'total_tokens': 887, 'input_token_details': {'cache_creation': 0, 'cache_read': 0}}),\n",
       "  HumanMessage(content='What is 1337 times 200 + 17? Follow pemdas.', additional_kwargs={}, response_metadata={}, id='e6f0b5e6-a8c6-4a7a-96cc-0a1b6f11931f'),\n",
       "  AIMessage(content=[{'type': 'text', 'text': \"I'll solve this step by step following PEMDAS (Parentheses, Exponents, Multiplication/Division, Addition/Subtraction).\\n\\nAccording to PEMDAS, I should perform multiplication before addition. So I'll first multiply 1337 by 200, and then add 17 to that result.\\n\\nLet me calculate 1337 × 200:\"}, {'type': 'tool_use', 'name': 'multiply', 'input': {'a': 1337, 'b': 200}, 'id': 'tooluse_20HotERoStqxI3CgbvcQMg'}], additional_kwargs={}, response_metadata={'ResponseMetadata': {'RequestId': '51736bf1-9e9e-483a-8b60-a00b99c0a4ff', 'HTTPStatusCode': 200, 'HTTPHeaders': {'date': 'Mon, 15 Sep 2025 13:50:16 GMT', 'content-type': 'application/json', 'content-length': '692', 'connection': 'keep-alive', 'x-amzn-requestid': '51736bf1-9e9e-483a-8b60-a00b99c0a4ff'}, 'RetryAttempts': 0}, 'stopReason': 'tool_use', 'metrics': {'latencyMs': [2453]}, 'model_name': 'apac.anthropic.claude-3-7-sonnet-20250219-v1:0'}, id='run--0ca8262a-6d70-4a50-b13b-d6df5f478149-0', tool_calls=[{'name': 'multiply', 'args': {'a': 1337, 'b': 200}, 'id': 'tooluse_20HotERoStqxI3CgbvcQMg', 'type': 'tool_call'}], usage_metadata={'input_tokens': 909, 'output_tokens': 153, 'total_tokens': 1062, 'input_token_details': {'cache_creation': 0, 'cache_read': 0}}),\n",
       "  ToolMessage(content='267400', name='multiply', id='a43f5f72-d03f-4953-b748-f882c3b98b95', tool_call_id='tooluse_20HotERoStqxI3CgbvcQMg'),\n",
       "  AIMessage(content=[{'type': 'text', 'text': \"Now I'll add 17 to this result:\"}, {'type': 'tool_use', 'name': 'add', 'input': {'a': 267400, 'b': 17}, 'id': 'tooluse_dXOCeJXhS1e-p3DGxhUeFg'}], additional_kwargs={}, response_metadata={'ResponseMetadata': {'RequestId': '618612aa-4795-4e4b-9c4d-850d87ccd805', 'HTTPStatusCode': 200, 'HTTPHeaders': {'date': 'Mon, 15 Sep 2025 13:50:18 GMT', 'content-type': 'application/json', 'content-length': '427', 'connection': 'keep-alive', 'x-amzn-requestid': '618612aa-4795-4e4b-9c4d-850d87ccd805'}, 'RetryAttempts': 0}, 'stopReason': 'tool_use', 'metrics': {'latencyMs': [1722]}, 'model_name': 'apac.anthropic.claude-3-7-sonnet-20250219-v1:0'}, id='run--755de27f-2d2d-4804-b8b8-2d2fddc2f86e-0', tool_calls=[{'name': 'add', 'args': {'a': 267400, 'b': 17}, 'id': 'tooluse_dXOCeJXhS1e-p3DGxhUeFg', 'type': 'tool_call'}], usage_metadata={'input_tokens': 1075, 'output_tokens': 82, 'total_tokens': 1157, 'input_token_details': {'cache_creation': 0, 'cache_read': 0}}),\n",
       "  ToolMessage(content='267417', name='add', id='118bff77-abcf-4517-96e4-f60b80d5604b', tool_call_id='tooluse_dXOCeJXhS1e-p3DGxhUeFg'),\n",
       "  AIMessage(content='Following PEMDAS, the answer to 1337 × 200 + 17 is 267,417.', additional_kwargs={}, response_metadata={'ResponseMetadata': {'RequestId': '3abe3820-54cf-456f-95a0-61fcef15dcc4', 'HTTPStatusCode': 200, 'HTTPHeaders': {'date': 'Mon, 15 Sep 2025 13:50:19 GMT', 'content-type': 'application/json', 'content-length': '356', 'connection': 'keep-alive', 'x-amzn-requestid': '3abe3820-54cf-456f-95a0-61fcef15dcc4'}, 'RetryAttempts': 0}, 'stopReason': 'end_turn', 'metrics': {'latencyMs': [1186]}, 'model_name': 'apac.anthropic.claude-3-7-sonnet-20250219-v1:0'}, id='run--d653f490-c780-423a-ab5e-24130110daaf-0', usage_metadata={'input_tokens': 1170, 'output_tokens': 31, 'total_tokens': 1201, 'input_token_details': {'cache_creation': 0, 'cache_read': 0}})]}"
      ]
     },
     "execution_count": 8,
     "metadata": {},
     "output_type": "execute_result"
    }
   ],
   "source": [
    "graph.invoke(invocation_state, config=config)"
   ]
  },
  {
   "cell_type": "markdown",
   "id": "f0d28db8-c9cc-4fa1-922d-89476e9f71c5",
   "metadata": {},
   "source": [
    "## Inspect the current state with AgentCoreMemory\n",
    "\n",
    "Under the hood when you call `graph.get_state(config)` it calls the checkpointer to retrieve the latest checkpoint saved for our actor and session. We can take a look at the values saved at this point in the conversation from `messages`."
   ]
  },
  {
   "cell_type": "code",
   "execution_count": 9,
   "id": "60042ec5-cd64-48f3-bd7d-cb7ca9e21b39",
   "metadata": {},
   "outputs": [
    {
     "name": "stdout",
     "output_type": "stream",
     "text": [
      "human: What is 1337 times 200 + 17? Follow pemdas.\n",
      "=========================================\n",
      "ai: I'll solve this step by step following PEMDAS (Parentheses, Exponents, Multiplication/Division, Addition/Subtraction).\n",
      "\n",
      "According to PEMDAS, I should perform multiplication before addition. So I'll first multiply 1337 by 200, and then add 17 to that result.\n",
      "\n",
      "Let me calculate 1337 × 200:\n",
      "=========================================\n",
      "tool: 267400\n",
      "=========================================\n",
      "ai: Now I'll add 17 to this result:\n",
      "=========================================\n",
      "tool: 267417\n",
      "=========================================\n",
      "ai: Following PEMDAS, the answer to 1337 × 200 + 17 is 267,417.\n",
      "=========================================\n",
      "human: Create a LaTeX formula in markdown that shows the previous calculation and results\n",
      "=========================================\n",
      "ai: Here's a LaTeX formula in markdown that shows the previous calculation and results:\n",
      "\n",
      "```math\n",
      "1337 \\times 200 + 17 = 267400 + 17 = 267417\n",
      "```\n",
      "\n",
      "This displays the calculation step by step, showing the multiplication of 1337 by 200 first (following PEMDAS - order of operations), which equals 267400, then the addition of 17 to get the final result of 267417.\n",
      "=========================================\n",
      "human: What is 1337 times 200 + 17? Follow pemdas.\n",
      "=========================================\n",
      "ai: I'll solve this step by step following PEMDAS (Parentheses, Exponents, Multiplication/Division, Addition/Subtraction).\n",
      "\n",
      "According to PEMDAS, I should perform multiplication before addition. So I'll first multiply 1337 by 200, and then add 17 to that result.\n",
      "\n",
      "Let me calculate 1337 × 200:\n",
      "=========================================\n",
      "tool: 267400\n",
      "=========================================\n",
      "ai: Now I'll add 17 to this result:\n",
      "=========================================\n",
      "tool: 267417\n",
      "=========================================\n",
      "ai: Following PEMDAS, the answer to 1337 × 200 + 17 is 267,417.\n",
      "=========================================\n"
     ]
    }
   ],
   "source": [
    "for message in graph.get_state(config).values.get(\"messages\"):\n",
    "    print(f\"{message.type}: {message.text()}\")\n",
    "    print(\"=========================================\")"
   ]
  },
  {
   "cell_type": "markdown",
   "id": "3aa0c9bd-6fb6-467d-b51a-84696238b4fa",
   "metadata": {},
   "source": [
    "## Look at a previous checkpoints during execution\n",
    "Using the `graph.get_state_history(config)` we will see the checkpoints that were saved, then inspect a previous checkpoint's values for `messages`. Checkpoints are listed so the most recent checkpoints appear first."
   ]
  },
  {
   "cell_type": "code",
   "execution_count": 10,
   "id": "c2232c2b-154d-4b50-93b0-925eb88e67c8",
   "metadata": {},
   "outputs": [
    {
     "name": "stdout",
     "output_type": "stream",
     "text": [
      "(Checkpoint ID: 1f0923ae-b162-61aa-800f-bba4b057543e) # of messages in state: 14\n",
      "(Checkpoint ID: 1f0923ae-a40f-61e2-800e-bc65f256d255) # of messages in state: 13\n",
      "(Checkpoint ID: 1f0923ae-a3ff-6c38-800d-505d7ed13c25) # of messages in state: 12\n",
      "(Checkpoint ID: 1f0923ae-918a-6f26-800c-7b2ebf1316a2) # of messages in state: 11\n",
      "(Checkpoint ID: 1f0923ae-9173-629a-800b-b53ad08339fe) # of messages in state: 10\n",
      "(Checkpoint ID: 1f0923ae-72c7-6ab2-800a-5b5912be455a) # of messages in state: 9\n",
      "(Checkpoint ID: 1f0923ae-72bd-6e0e-8009-33e40701ee42) # of messages in state: 8\n",
      "(Checkpoint ID: 1f0923a4-6e20-6324-8008-16ed6f369bd9) # of messages in state: 8\n",
      "(Checkpoint ID: 1f0923a4-5323-6b48-8007-e1247fbfc0cb) # of messages in state: 7\n",
      "(Checkpoint ID: 1f0923a4-530f-6a62-8006-4b60a52adca0) # of messages in state: 6\n",
      "(Checkpoint ID: 1f0923a3-7efb-649c-8005-acd1eb738210) # of messages in state: 6\n",
      "(Checkpoint ID: 1f0923a3-6fa2-62a2-8004-a44cd9675857) # of messages in state: 5\n",
      "(Checkpoint ID: 1f0923a3-6f9b-69d4-8003-6100b95bc700) # of messages in state: 4\n",
      "(Checkpoint ID: 1f0923a3-5e70-6da8-8002-40a909cdb9bd) # of messages in state: 3\n",
      "(Checkpoint ID: 1f0923a3-5e61-6858-8001-256b044cf577) # of messages in state: 2\n",
      "(Checkpoint ID: 1f0923a3-3f5c-6f5c-8000-7ce3a145a6ed) # of messages in state: 1\n",
      "(Checkpoint ID: 1f0923a3-3f4f-646a-bfff-6d736ba7793a) # of messages in state: 0\n"
     ]
    }
   ],
   "source": [
    "for checkpoint in graph.get_state_history(config):\n",
    "    print(\n",
    "        f\"(Checkpoint ID: {checkpoint.config['configurable']['checkpoint_id']}) # of messages in state: {len(checkpoint.values.get('messages'))}\"\n",
    "    )"
   ]
  },
  {
   "cell_type": "markdown",
   "id": "ab07194f-49b4-4fb9-a74b-d86b970cace6",
   "metadata": {},
   "source": [
    "## Continue the conversation\n",
    "By using the same config with our session and actor from before, we can continue the conversation by invoking our LangGraph agent with a new invocation state. The checkpointer in the background will take care of loading in context so that all the previous messages from the first interaction are loaded in."
   ]
  },
  {
   "cell_type": "code",
   "execution_count": 11,
   "id": "b7117c6a-d1d5-4866-aee9-2b7229fd73fd",
   "metadata": {},
   "outputs": [
    {
     "data": {
      "text/plain": [
       "AIMessage(content=\"Here's a LaTeX formula in markdown that shows the previous calculation and results:\\n\\n```math\\n1337 \\\\times 200 + 17 = 267400 + 17 = 267417\\n```\\n\\nThis displays the calculation step by step, showing the multiplication of 1337 by 200 first (following PEMDAS - order of operations), which equals 267400, then the addition of 17 to get the final result of 267417.\", additional_kwargs={}, response_metadata={'ResponseMetadata': {'RequestId': 'cf97747e-d4d4-49bf-b801-56253cc788c2', 'HTTPStatusCode': 200, 'HTTPHeaders': {'date': 'Mon, 15 Sep 2025 13:50:36 GMT', 'content-type': 'application/json', 'content-length': '659', 'connection': 'keep-alive', 'x-amzn-requestid': 'cf97747e-d4d4-49bf-b801-56253cc788c2'}, 'RetryAttempts': 0}, 'stopReason': 'end_turn', 'metrics': {'latencyMs': [2207]}, 'model_name': 'apac.anthropic.claude-3-7-sonnet-20250219-v1:0'}, id='run--88043c79-6656-47e0-b489-ad0219b553f0-0', usage_metadata={'input_tokens': 1218, 'output_tokens': 106, 'total_tokens': 1324, 'input_token_details': {'cache_creation': 0, 'cache_read': 0}})"
      ]
     },
     "execution_count": 11,
     "metadata": {},
     "output_type": "execute_result"
    }
   ],
   "source": [
    "# This invocation state is where you would fill in a query prompt from the user at /invocations\n",
    "invocation_state = {\n",
    "    \"messages\": [\n",
    "        HumanMessage(\n",
    "            \"Create a LaTeX formula in markdown that shows the previous calculation and results\"\n",
    "        )\n",
    "    ]\n",
    "}\n",
    "graph.invoke(invocation_state, config=config)\n",
    "\n",
    "# Display the response\n",
    "graph.get_state(config).values.get(\"messages\")[-1]"
   ]
  },
  {
   "cell_type": "markdown",
   "id": "6fa7bd51-0ece-47d6-aae3-2a9041d98645",
   "metadata": {},
   "source": [
    "## Wrapping Up\n",
    "\n",
    "As you can see, the AgentCore checkpointer is very powerful for persisting conversational and graph state in the background. "
   ]
  },
  {
   "cell_type": "code",
   "execution_count": null,
   "id": "eda8649a-d48f-467c-94b9-99dd8fb2c078",
   "metadata": {},
   "outputs": [],
   "source": []
  }
 ],
 "metadata": {
  "kernelspec": {
   "display_name": "Python 3 (ipykernel)",
   "language": "python",
   "name": "python3"
  },
  "language_info": {
   "codemirror_mode": {
    "name": "ipython",
    "version": 3
   },
   "file_extension": ".py",
   "mimetype": "text/x-python",
   "name": "python",
   "nbconvert_exporter": "python",
   "pygments_lexer": "ipython3",
   "version": "3.11.10"
  }
 },
 "nbformat": 4,
 "nbformat_minor": 5
}
