{
 "cells": [
  {
   "cell_type": "markdown",
   "metadata": {},
   "source": [
    "# 🚀 AgentCore Valkey Checkpointer Usage Example\n",
    "\n",
    "This notebook demonstrates how to use the **AgentCoreValkeySaver** for high-performance checkpoint storage that combines AgentCore session management concepts with Valkey's fast storage capabilities.\n",
    "\n",
    "## 📋 Prerequisites\n",
    "\n",
    "Before running this notebook, ensure you have:\n",
    "\n",
    "1. **Valkey server** running on `localhost:6379`\n",
    "2. **AWS credentials** configured for Bedrock access\n",
    "3. **Required packages** installed:\n",
    "   ```bash\n",
    "   pip install valkey langchain-aws langchain langgraph\n",
    "   ```\n",
    "\n",
    "## 🎯 Key Features\n",
    "\n",
    "- 🚀 **High-performance storage** with Valkey\n",
    "- 🎯 **AgentCore-compatible** session management\n",
    "- 🔄 **TTL support** for automatic cleanup\n",
    "- 🏊 **Connection pooling** for scalability\n",
    "- 🔍 **Metadata filtering** and querying\n",
    "- 🧹 **Easy cleanup** and management"
   ]
  },
  {
   "cell_type": "markdown",
   "metadata": {},
   "source": [
    "## 📦 Import Dependencies\n",
    "\n",
    "First, let's import all the necessary libraries:"
   ]
  },
  {
   "cell_type": "code",
   "execution_count": 1,
   "metadata": {},
   "outputs": [
    {
     "name": "stdout",
     "output_type": "stream",
     "text": [
      "✅ All dependencies imported successfully!\n"
     ]
    }
   ],
   "source": [
    "import time\n",
    "from typing import Dict, Any\n",
    "\n",
    "from langchain.chat_models import init_chat_model\n",
    "from langchain.tools import tool\n",
    "from langgraph.prebuilt import create_react_agent\n",
    "\n",
    "# Note: If you see a Pylance import error below, it's a false positive.\n",
    "# The import works correctly at runtime - the package is properly installed.\n",
    "from langgraph_checkpoint_aws import AgentCoreValkeySaver\n",
    "\n",
    "print(\"✅ All dependencies imported successfully!\")"
   ]
  },
  {
   "cell_type": "markdown",
   "metadata": {},
   "source": [
    "## 🛠️ Define Agent Tools\n",
    "\n",
    "Let's create some simple mathematical tools for our agent to use:"
   ]
  },
  {
   "cell_type": "code",
   "execution_count": 2,
   "metadata": {},
   "outputs": [
    {
     "name": "stdout",
     "output_type": "stream",
     "text": [
      "✅ Created 2 tools for the agent:\n",
      "   - add: Add two integers and return the result.\n",
      "   - multiply: Multiply two integers and return the result.\n"
     ]
    }
   ],
   "source": [
    "@tool\n",
    "def add(a: int, b: int) -> int:\n",
    "    \"\"\"Add two integers and return the result.\"\"\"\n",
    "    return a + b\n",
    "\n",
    "@tool\n",
    "def multiply(a: int, b: int) -> int:\n",
    "    \"\"\"Multiply two integers and return the result.\"\"\"\n",
    "    return a * b\n",
    "\n",
    "# Create tools list\n",
    "tools = [add, multiply]\n",
    "\n",
    "print(f\"✅ Created {len(tools)} tools for the agent:\")\n",
    "for tool in tools:\n",
    "    print(f\"   - {tool.name}: {tool.description}\")"
   ]
  },
  {
   "cell_type": "markdown",
   "metadata": {},
   "source": [
    "## ⚙️ Configuration\n",
    "\n",
    "Set up the configuration for Valkey connection and the language model:"
   ]
  },
  {
   "cell_type": "code",
   "execution_count": 3,
   "metadata": {},
   "outputs": [
    {
     "name": "stdout",
     "output_type": "stream",
     "text": [
      "📋 Configuration:\n",
      "   - Valkey URL: valkey://localhost:6379\n",
      "   - Model ID: us.anthropic.claude-3-7-sonnet-20250219-v1:0\n"
     ]
    }
   ],
   "source": [
    "# Configuration\n",
    "VALKEY_URL = \"valkey://localhost:6379\"\n",
    "MODEL_ID = \"us.anthropic.claude-3-7-sonnet-20250219-v1:0\"\n",
    "\n",
    "print(\"📋 Configuration:\")\n",
    "print(f\"   - Valkey URL: {VALKEY_URL}\")\n",
    "print(f\"   - Model ID: {MODEL_ID}\")"
   ]
  },
  {
   "cell_type": "markdown",
   "metadata": {},
   "source": [
    "## 🤖 Initialize Language Model\n",
    "\n",
    "Initialize the Bedrock language model:"
   ]
  },
  {
   "cell_type": "code",
   "execution_count": 4,
   "metadata": {},
   "outputs": [
    {
     "name": "stdout",
     "output_type": "stream",
     "text": [
      "📝 Initializing language model...\n",
      "✅ Language model initialized successfully!\n"
     ]
    }
   ],
   "source": [
    "# Initialize the language model\n",
    "print(\"📝 Initializing language model...\")\n",
    "\n",
    "try:\n",
    "    llm = init_chat_model(\n",
    "        MODEL_ID,\n",
    "        model_provider=\"bedrock\",\n",
    "        region_name=\"us-west-2\"\n",
    "    )\n",
    "    print(\"✅ Language model initialized successfully!\")\n",
    "except Exception as e:\n",
    "    print(f\"❌ Failed to initialize model: {e}\")\n",
    "    print(\"Please check your AWS credentials and region configuration.\")\n",
    "    raise"
   ]
  },
  {
   "cell_type": "markdown",
   "metadata": {},
   "source": [
    "## 🔄 Create AgentCore Valkey Checkpointer\n",
    "\n",
    "Create the checkpointer with TTL and connection pooling:"
   ]
  },
  {
   "cell_type": "code",
   "execution_count": 5,
   "metadata": {},
   "outputs": [
    {
     "name": "stdout",
     "output_type": "stream",
     "text": [
      "🔄 Connecting to Valkey and creating checkpointer...\n",
      "✅ AgentCore Valkey checkpointer created successfully!\n",
      "   - TTL: 3600 seconds (1 hour)\n",
      "   - Pool size: 10 connections\n"
     ]
    }
   ],
   "source": [
    "# Create AgentCore Valkey checkpointer with TTL\n",
    "print(\"🔄 Connecting to Valkey and creating checkpointer...\")\n",
    "\n",
    "try:\n",
    "    checkpointer = AgentCoreValkeySaver.from_conn_string(\n",
    "        VALKEY_URL,\n",
    "        ttl_seconds=3600,  # 1 hour TTL\n",
    "        pool_size=10\n",
    "    ).__enter__()  # Enter context manager\n",
    "    \n",
    "    print(\"✅ AgentCore Valkey checkpointer created successfully!\")\n",
    "    print(f\"   - TTL: 3600 seconds (1 hour)\")\n",
    "    print(f\"   - Pool size: 10 connections\")\n",
    "    \n",
    "except Exception as e:\n",
    "    print(f\"❌ Failed to connect to Valkey: {e}\")\n",
    "    print(\"Please ensure Valkey server is running on localhost:6379\")\n",
    "    raise"
   ]
  },
  {
   "cell_type": "markdown",
   "metadata": {},
   "source": [
    "## 🤖 Create LangGraph Agent\n",
    "\n",
    "Create the agent graph with our checkpointer:"
   ]
  },
  {
   "cell_type": "code",
   "execution_count": 6,
   "metadata": {},
   "outputs": [
    {
     "name": "stdout",
     "output_type": "stream",
     "text": [
      "🤖 Creating LangGraph agent...\n",
      "✅ LangGraph agent created successfully!\n"
     ]
    },
    {
     "name": "stderr",
     "output_type": "stream",
     "text": [
      "/var/folders/z9/x36s18355_s5r7pqv88sc0680000gr/T/ipykernel_19452/2145319992.py:4: LangGraphDeprecatedSinceV10: create_react_agent has been moved to `langchain.agents`. Please update your import to `from langchain.agents import create_agent`. Deprecated in LangGraph V1.0 to be removed in V2.0.\n",
      "  graph = create_react_agent(\n"
     ]
    }
   ],
   "source": [
    "# Create the agent graph with checkpointer\n",
    "print(\"🤖 Creating LangGraph agent...\")\n",
    "\n",
    "graph = create_react_agent(\n",
    "    model=llm,\n",
    "    tools=tools,\n",
    "    prompt=\"You are a helpful mathematical assistant.\",\n",
    "    checkpointer=checkpointer,\n",
    ")\n",
    "\n",
    "print(\"✅ LangGraph agent created successfully!\")"
   ]
  },
  {
   "cell_type": "markdown",
   "metadata": {},
   "source": [
    "## 🎯 Configure Session\n",
    "\n",
    "Set up the session configuration with both `thread_id` and `actor_id` (required for AgentCore checkpointer):"
   ]
  },
  {
   "cell_type": "code",
   "execution_count": 7,
   "metadata": {},
   "outputs": [
    {
     "name": "stdout",
     "output_type": "stream",
     "text": [
      "📋 Session configuration:\n",
      "   - thread_id: demo-session-1\n",
      "   - actor_id: user-123\n"
     ]
    }
   ],
   "source": [
    "# Configuration for session management\n",
    "config = {\n",
    "    \"configurable\": {\n",
    "        \"thread_id\": \"demo-session-1\",    # Session ID\n",
    "        \"actor_id\": \"user-123\",           # Required for AgentCore checkpointer\n",
    "    }\n",
    "}\n",
    "\n",
    "print(\"📋 Session configuration:\")\n",
    "for key, value in config[\"configurable\"].items():\n",
    "    print(f\"   - {key}: {value}\")"
   ]
  },
  {
   "cell_type": "markdown",
   "metadata": {},
   "source": [
    "## 💬 First Conversation\n",
    "\n",
    "Let's start a conversation with our agent:"
   ]
  },
  {
   "cell_type": "code",
   "execution_count": 8,
   "metadata": {},
   "outputs": [
    {
     "name": "stdout",
     "output_type": "stream",
     "text": [
      "💬 Starting conversation...\n",
      "\n",
      "👤 User: What is 15 multiplied by 23, then add 100?\n",
      "🔄 Processing...\n",
      "🤖 Assistant: The result of 15 multiplied by 23, then adding 100, is 445.\n"
     ]
    }
   ],
   "source": [
    "print(\"💬 Starting conversation...\")\n",
    "print(\"\\n👤 User: What is 15 multiplied by 23, then add 100?\")\n",
    "\n",
    "inputs = {\n",
    "    \"messages\": [{\n",
    "        \"role\": \"user\",\n",
    "        \"content\": \"What is 15 multiplied by 23, then add 100?\"\n",
    "    }]\n",
    "}\n",
    "\n",
    "print(\"🔄 Processing...\")\n",
    "response = graph.invoke(inputs, config)\n",
    "\n",
    "assistant_message = response[\"messages\"][-1].content\n",
    "print(f\"🤖 Assistant: {assistant_message}\")"
   ]
  },
  {
   "cell_type": "markdown",
   "metadata": {},
   "source": [
    "## 📋 Checkpoint State Inspection\n",
    "\n",
    "Let's examine the current checkpoint state:"
   ]
  },
  {
   "cell_type": "code",
   "execution_count": 9,
   "metadata": {},
   "outputs": [
    {
     "name": "stdout",
     "output_type": "stream",
     "text": [
      "📋 Current checkpoint state:\n",
      "   - Checkpoint ID: 1f0b5047-5f6e-6156-8005-c4f7a8d26453\n",
      "   - Number of messages: 6\n",
      "   - State keys: ['messages']\n"
     ]
    }
   ],
   "source": [
    "# Demonstrate checkpoint retrieval\n",
    "print(\"📋 Current checkpoint state:\")\n",
    "state = graph.get_state(config)\n",
    "\n",
    "checkpoint_id = state.config['configurable']['checkpoint_id']\n",
    "message_count = len(state.values.get('messages', []))\n",
    "\n",
    "print(f\"   - Checkpoint ID: {checkpoint_id}\")\n",
    "print(f\"   - Number of messages: {message_count}\")\n",
    "print(f\"   - State keys: {list(state.values.keys())}\")"
   ]
  },
  {
   "cell_type": "markdown",
   "metadata": {},
   "source": [
    "## 🔄 Continue Conversation (Memory Test)\n",
    "\n",
    "Let's continue the conversation to test memory persistence:"
   ]
  },
  {
   "cell_type": "code",
   "execution_count": 10,
   "metadata": {},
   "outputs": [
    {
     "name": "stdout",
     "output_type": "stream",
     "text": [
      "👤 User: Now divide that result by 5\n",
      "🔄 Processing...\n",
      "🤖 Assistant: I need to divide the previous result (445) by 5. However, I don't have a built-in division function available among the tools. I can do this calculation for you manually.\n",
      "\n",
      "The result of dividing 445 by 5 is:\n",
      "445 ÷ 5 = 89\n",
      "\n",
      "So, after dividing 445 by 5, the answer is 89.\n"
     ]
    }
   ],
   "source": [
    "# Continue conversation (demonstrates memory persistence)\n",
    "print(\"👤 User: Now divide that result by 5\")\n",
    "\n",
    "inputs2 = {\n",
    "    \"messages\": [{\n",
    "        \"role\": \"user\",\n",
    "        \"content\": \"Now divide that result by 5\"\n",
    "    }]\n",
    "}\n",
    "\n",
    "print(\"🔄 Processing...\")\n",
    "response2 = graph.invoke(inputs2, config)\n",
    "\n",
    "assistant_message2 = response2[\"messages\"][-1].content\n",
    "print(f\"🤖 Assistant: {assistant_message2}\")"
   ]
  },
  {
   "cell_type": "markdown",
   "metadata": {},
   "source": [
    "## 📚 Checkpoint History\n",
    "\n",
    "View the checkpoint history for this session:"
   ]
  },
  {
   "cell_type": "code",
   "execution_count": 11,
   "metadata": {},
   "outputs": [
    {
     "name": "stdout",
     "output_type": "stream",
     "text": [
      "📚 Checkpoint history:\n",
      "   1. Checkpoint 1f0b5047... (8 messages)\n",
      "   2. Checkpoint 1f0b5047... (7 messages)\n",
      "   3. Checkpoint 1f0b5047... (6 messages)\n",
      "\n",
      "   Total checkpoints in history: 3\n"
     ]
    }
   ],
   "source": [
    "# Show checkpoint history\n",
    "print(\"📚 Checkpoint history:\")\n",
    "history = list(graph.get_state_history(config, limit=3))\n",
    "\n",
    "for i, checkpoint in enumerate(history):\n",
    "    msg_count = len(checkpoint.values.get(\"messages\", []))\n",
    "    checkpoint_id = checkpoint.config[\"configurable\"][\"checkpoint_id\"]\n",
    "    print(f\"   {i+1}. Checkpoint {checkpoint_id[:8]}... ({msg_count} messages)\")\n",
    "\n",
    "print(f\"\\n   Total checkpoints in history: {len(history)}\")"
   ]
  },
  {
   "cell_type": "markdown",
   "metadata": {},
   "source": [
    "## 🆕 New Session Test\n",
    "\n",
    "Create a new session to demonstrate session isolation:"
   ]
  },
  {
   "cell_type": "code",
   "execution_count": 12,
   "metadata": {},
   "outputs": [
    {
     "name": "stdout",
     "output_type": "stream",
     "text": [
      "🆕 Starting new session (no memory of previous conversation)...\n",
      "👤 User: What was my previous calculation?\n",
      "🤖 Assistant: I don't have any record of your previous calculations. This appears to be our first interaction in this session. \n",
      "\n",
      "To help you with calculations, I can:\n",
      "- Add two integers using the `add` function\n",
      "- Multiply two integers using the `multiply` function\n",
      "\n",
      "Would you like to perform one of these calculations? If so, please provide the numbers you'd like to calculate with.\n"
     ]
    }
   ],
   "source": [
    "# Demonstrate new session\n",
    "new_session_config = {\n",
    "    \"configurable\": {\n",
    "        \"thread_id\": \"demo-session-2\",    # New session\n",
    "        \"actor_id\": \"user-456\",           # Required for AgentCore checkpointer\n",
    "    }\n",
    "}\n",
    "\n",
    "print(\"🆕 Starting new session (no memory of previous conversation)...\")\n",
    "print(\"👤 User: What was my previous calculation?\")\n",
    "\n",
    "inputs3 = {\n",
    "    \"messages\": [{\n",
    "        \"role\": \"user\",\n",
    "        \"content\": \"What was my previous calculation?\"\n",
    "    }]\n",
    "}\n",
    "\n",
    "response3 = graph.invoke(inputs3, new_session_config)\n",
    "assistant_message3 = response3[\"messages\"][-1].content\n",
    "print(f\"🤖 Assistant: {assistant_message3}\")"
   ]
  },
  {
   "cell_type": "markdown",
   "metadata": {},
   "source": [
    "## 📊 Storage Statistics\n",
    "\n",
    "Let's examine what's stored in Valkey:"
   ]
  },
  {
   "cell_type": "code",
   "execution_count": 13,
   "metadata": {},
   "outputs": [
    {
     "name": "stdout",
     "output_type": "stream",
     "text": [
      "📊 Storage Information:\n",
      "   - Total keys: 47\n",
      "   - Session-related keys: 47\n",
      "   - Checkpoint-related keys: 15\n",
      "   - Writes-related keys: 10\n",
      "\n",
      "   Example keys:\n",
      "     1. agentcore:channel:demo-session-1:user-123::branch:to:agent:1f0b5047-1ca4-6258-8002-313023f32ae0\n",
      "     2. agentcore:checkpoint:demo-session-1:user-123::1f0b5046-c952-679e-bfff-945450391b51\n",
      "     3. agentcore:checkpoint:demo-session-1:user-123::1f0b5047-b7a3-6ef2-8006-a6027f7fdc14\n"
     ]
    }
   ],
   "source": [
    "# Show storage statistics\n",
    "print(\"📊 Storage Information:\")\n",
    "\n",
    "# Count keys in Valkey - using general patterns since we don't know the exact namespace\n",
    "all_keys = checkpointer.client.keys(\"*\")\n",
    "session_keys = [k for k in all_keys if b\"session\" in k]\n",
    "checkpoint_keys = [k for k in all_keys if b\"checkpoint\" in k]\n",
    "writes_keys = [k for k in all_keys if b\"writes\" in k]\n",
    "\n",
    "print(f\"   - Total keys: {len(all_keys)}\")\n",
    "print(f\"   - Session-related keys: {len(session_keys)}\")\n",
    "print(f\"   - Checkpoint-related keys: {len(checkpoint_keys)}\")\n",
    "print(f\"   - Writes-related keys: {len(writes_keys)}\")\n",
    "\n",
    "# Show some example keys\n",
    "if all_keys:\n",
    "    print(f\"\\n   Example keys:\")\n",
    "    for i, key in enumerate(all_keys[:3]):\n",
    "        print(f\"     {i+1}. {key.decode()}\")"
   ]
  },
  {
   "cell_type": "markdown",
   "metadata": {},
   "source": [
    "## 🧹 Cleanup Demonstration\n",
    "\n",
    "Demonstrate cleanup functionality:"
   ]
  },
  {
   "cell_type": "code",
   "execution_count": 14,
   "metadata": {},
   "outputs": [
    {
     "name": "stdout",
     "output_type": "stream",
     "text": [
      "🧹 Cleaning up sessions...\n",
      "   ✅ Session 2 cleaned up successfully!\n",
      "   - Remaining keys for session 2: 0\n"
     ]
    }
   ],
   "source": [
    "# Demonstrate cleanup - AgentCore checkpointer requires both thread_id and actor_id\n",
    "print(\"🧹 Cleaning up sessions...\")\n",
    "\n",
    "# For AgentCore checkpointer, we need to provide both thread_id and actor_id\n",
    "try:\n",
    "    # Clean up session 2 - need both thread_id and actor_id\n",
    "    checkpointer.delete_thread(\"demo-session-2\", \"user-456\")\n",
    "    print(\"   ✅ Session 2 cleaned up successfully!\")\n",
    "except Exception as e:\n",
    "    print(f\"   ⚠️  Error cleaning session 2: {e}\")\n",
    "\n",
    "# Verify cleanup by checking remaining keys\n",
    "remaining_keys = checkpointer.client.keys(\"*demo-session-2*\")\n",
    "print(f\"   - Remaining keys for session 2: {len(remaining_keys)}\")"
   ]
  },
  {
   "cell_type": "markdown",
   "metadata": {},
   "source": [
    "## 🔬 Advanced Features Demo\n",
    "\n",
    "Let's demonstrate some advanced features like connection pooling:"
   ]
  },
  {
   "cell_type": "code",
   "execution_count": 15,
   "metadata": {},
   "outputs": [
    {
     "name": "stdout",
     "output_type": "stream",
     "text": [
      "🔬 Advanced Features Demo\n",
      "==============================\n",
      "🏊 Creating connection pool...\n",
      "✅ Connection pool checkpointer created!\n",
      "   - Max connections: 20\n",
      "   - TTL: 1800 seconds (30 minutes)\n"
     ]
    }
   ],
   "source": [
    "print(\"🔬 Advanced Features Demo\")\n",
    "print(\"=\" * 30)\n",
    "\n",
    "try:\n",
    "    # Using connection pool for better performance\n",
    "    from valkey.connection import ConnectionPool\n",
    "\n",
    "    print(\"🏊 Creating connection pool...\")\n",
    "    pool = ConnectionPool.from_url(\n",
    "        \"valkey://localhost:6379\",\n",
    "        max_connections=20,\n",
    "        retry_on_timeout=True\n",
    "    )\n",
    "\n",
    "    # Create checkpointer with pool\n",
    "    pool_checkpointer = AgentCoreValkeySaver.from_pool(\n",
    "        pool,\n",
    "        ttl_seconds=1800  # 30 minutes\n",
    "    ).__enter__()\n",
    "    \n",
    "    print(\"✅ Connection pool checkpointer created!\")\n",
    "    print(f\"   - Max connections: 20\")\n",
    "    print(f\"   - TTL: 1800 seconds (30 minutes)\")\n",
    "    \n",
    "except Exception as e:\n",
    "    print(f\"❌ Advanced features error: {e}\")\n",
    "    pool_checkpointer = checkpointer  # Fallback to basic checkpointer"
   ]
  },
  {
   "cell_type": "markdown",
   "metadata": {},
   "source": [
    "## 🤖 Multi-Session Scenario\n",
    "\n",
    "Demonstrate multiple sessions working with the same checkpointer:"
   ]
  },
  {
   "cell_type": "code",
   "execution_count": 16,
   "metadata": {},
   "outputs": [
    {
     "name": "stdout",
     "output_type": "stream",
     "text": [
      "🤖 Creating 3 sessions...\n",
      "   ✅ Session 0 created and tested\n",
      "   ✅ Session 1 created and tested\n",
      "   ✅ Session 2 created and tested\n",
      "✅ All sessions created\n"
     ]
    }
   ],
   "source": [
    "# Multiple sessions with different thread IDs and actor IDs\n",
    "session_configs = [\n",
    "    {\n",
    "        \"configurable\": {\n",
    "            \"thread_id\": f\"multi-session-{i}\",\n",
    "            \"actor_id\": f\"user-{i+100}\",  # Required for AgentCore checkpointer\n",
    "        }\n",
    "    }\n",
    "    for i in range(3)\n",
    "]\n",
    "\n",
    "print(f\"🤖 Creating {len(session_configs)} sessions...\")\n",
    "\n",
    "# Test each session with a simple interaction\n",
    "for i, config in enumerate(session_configs):\n",
    "    inputs = {\n",
    "        \"messages\": [{\n",
    "            \"role\": \"user\",\n",
    "            \"content\": f\"Hello, I'm user {i}. What is {i+1} times 10?\"\n",
    "        }]\n",
    "    }\n",
    "    \n",
    "    try:\n",
    "        response = graph.invoke(inputs, config)\n",
    "        print(f\"   ✅ Session {i} created and tested\")\n",
    "    except Exception as e:\n",
    "        print(f\"   ❌ Session {i} failed: {e}\")\n",
    "\n",
    "print(\"✅ All sessions created\")"
   ]
  },
  {
   "cell_type": "markdown",
   "metadata": {},
   "source": [
    "## 🔍 Session Inspection\n",
    "\n",
    "Demonstrate querying capabilities:"
   ]
  },
  {
   "cell_type": "code",
   "execution_count": 17,
   "metadata": {},
   "outputs": [
    {
     "name": "stdout",
     "output_type": "stream",
     "text": [
      "🔍 Inspecting sessions...\n",
      "   Session multi-session-0: 4 messages\n",
      "   Session multi-session-1: 4 messages\n",
      "   Session multi-session-2: 4 messages\n"
     ]
    }
   ],
   "source": [
    "# Demonstrate session inspection\n",
    "print(\"🔍 Inspecting sessions...\")\n",
    "\n",
    "for i, config in enumerate(session_configs):\n",
    "    try:\n",
    "        state = graph.get_state(config)\n",
    "        message_count = len(state.values.get(\"messages\", []))\n",
    "        thread_id = config[\"configurable\"][\"thread_id\"]\n",
    "        print(f\"   Session {thread_id}: {message_count} messages\")\n",
    "    except Exception as e:\n",
    "        print(f\"   ❌ Error inspecting session {i}: {e}\")"
   ]
  },
  {
   "cell_type": "markdown",
   "metadata": {},
   "source": [
    "## 🧹 Final Cleanup\n",
    "\n",
    "Clean up all the demo data:"
   ]
  },
  {
   "cell_type": "code",
   "execution_count": 18,
   "metadata": {},
   "outputs": [
    {
     "name": "stdout",
     "output_type": "stream",
     "text": [
      "🧹 Cleaning up all demo sessions...\n",
      "   ✅ Cleaned up multi-session-0\n",
      "   ✅ Cleaned up multi-session-1\n",
      "   ✅ Cleaned up multi-session-2\n",
      "   ✅ Cleaned up demo-session-1\n",
      "✅ All cleanup complete\n"
     ]
    }
   ],
   "source": [
    "# Cleanup all demo sessions - AgentCore requires both thread_id and actor_id\n",
    "print(\"🧹 Cleaning up all demo sessions...\")\n",
    "\n",
    "# Clean up multi-sessions - need both thread_id and actor_id\n",
    "for i in range(3):\n",
    "    try:\n",
    "        checkpointer.delete_thread(f\"multi-session-{i}\", f\"user-{i+100}\")\n",
    "        print(f\"   ✅ Cleaned up multi-session-{i}\")\n",
    "    except Exception as e:\n",
    "        print(f\"   ⚠️  Error cleaning multi-session-{i}: {e}\")\n",
    "\n",
    "# Clean up original demo session - need both thread_id and actor_id\n",
    "try:\n",
    "    checkpointer.delete_thread(\"demo-session-1\", \"user-123\")\n",
    "    print(\"   ✅ Cleaned up demo-session-1\")\n",
    "except Exception as e:\n",
    "    print(f\"   ⚠️  Error cleaning demo-session-1: {e}\")\n",
    "\n",
    "print(\"✅ All cleanup complete\")"
   ]
  },
  {
   "cell_type": "markdown",
   "metadata": {},
   "source": [
    "## 🔒 Close Connections\n",
    "\n",
    "Properly close all connections:"
   ]
  },
  {
   "cell_type": "code",
   "execution_count": 19,
   "metadata": {},
   "outputs": [
    {
     "name": "stdout",
     "output_type": "stream",
     "text": [
      "✅ All connections closed successfully\n"
     ]
    }
   ],
   "source": [
    "# Close connections properly\n",
    "try:\n",
    "    checkpointer.__exit__(None, None, None)\n",
    "    print(\"✅ Basic checkpointer connection closed\")\n",
    "except:\n",
    "    pass\n",
    "\n",
    "try:\n",
    "    if 'pool_checkpointer' in locals() and pool_checkpointer != checkpointer:\n",
    "        pool_checkpointer.__exit__(None, None, None)\n",
    "        print(\"✅ Pool checkpointer connection closed\")\n",
    "except:\n",
    "    pass\n",
    "\n",
    "print(\"✅ All connections closed successfully\")"
   ]
  },
  {
   "cell_type": "markdown",
   "metadata": {},
   "source": [
    "## 🎉 Summary\n",
    "\n",
    "Congratulations! You've successfully demonstrated the **AgentCore Valkey Checkpointer**.\n",
    "\n",
    "### Key Benefits Demonstrated:\n",
    "\n",
    "- 🚀 **High-performance storage** with Valkey\n",
    "- 🎯 **Session management** with thread IDs and actor IDs\n",
    "- 🔄 **TTL support** for automatic cleanup\n",
    "- 🏊 **Connection pooling** for scalability\n",
    "- 🔍 **State inspection** and querying\n",
    "- 🧹 **Easy cleanup** and management\n",
    "- 📝 **JSON serialization** with base64 encoding\n",
    "- 🔒 **Thread-safe** operations\n",
    "\n",
    "### What We Covered:\n",
    "\n",
    "1. **Basic Setup**: Created checkpointer with TTL and connection pooling\n",
    "2. **Agent Integration**: Used with LangGraph agents\n",
    "3. **Session Management**: AgentCore-compatible thread_id and actor_id patterns\n",
    "4. **Memory Persistence**: Demonstrated conversation continuity\n",
    "5. **Session Isolation**: Showed separate sessions don't share memory\n",
    "6. **Storage Inspection**: Examined Valkey key structure\n",
    "7. **Advanced Features**: Connection pooling and multi-session scenarios\n",
    "8. **State Inspection**: Queried session states\n",
    "9. **Cleanup**: Proper resource management and cleanup\n",
    "\n",
    "### 🆚 AgentCore vs Standard LangGraph Differences:\n",
    "\n",
    "| Operation | Standard LangGraph | AgentCore |\n",
    "|-----------|-------------------|----------|\n",
    "| **Session Config** | `{\"thread_id\": \"session-1\"}` | `{\"thread_id\": \"session-1\", \"actor_id\": \"user-123\"}` |\n",
    "| **Cleanup** | `delete_thread(\"session-1\")` | `delete_thread(\"session-1\", \"user-123\")` |\n",
    "\n",
    "The **AgentCoreValkeySaver** provides a powerful, scalable solution for checkpoint storage that works seamlessly with AgentCore session management patterns! 🚀"
   ]
  }
 ],
 "metadata": {
  "kernelspec": {
   "display_name": ".venv",
   "language": "python",
   "name": "python3"
  },
  "language_info": {
   "codemirror_mode": {
    "name": "ipython",
    "version": 3
   },
   "file_extension": ".py",
   "mimetype": "text/x-python",
   "name": "python",
   "nbconvert_exporter": "python",
   "pygments_lexer": "ipython3",
   "version": "3.13.7"
  }
 },
 "nbformat": 4,
 "nbformat_minor": 4
}
