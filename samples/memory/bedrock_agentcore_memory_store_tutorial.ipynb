{
 "cells": [
  {
   "cell_type": "markdown",
   "metadata": {},
   "source": [
    "# Bedrock AgentCore Memory Store Tutorial\n",
    "\n",
    "This tutorial demonstrates the complete functionality of the BedrockAgentCoreMemoryStore, which provides persistent memory capabilities for LangGraph agents using Amazon Bedrock AgentCore Memory service.\n",
    "\n",
    "## Prerequisites\n",
    "\n",
    "1. AWS credentials configured\n",
    "2. Bedrock AgentCore Memory resource created and ACTIVE\n",
    "3. Required packages installed"
   ]
  },
  {
   "cell_type": "markdown",
   "metadata": {},
   "source": [
    "## Setup and Configuration"
   ]
  },
  {
   "cell_type": "code",
   "execution_count": 2,
   "metadata": {},
   "outputs": [],
   "source": [
    "import logging\n",
    "from datetime import datetime\n",
    "from typing import Annotated\n",
    "\n",
    "from bedrock_agentcore.memory.client import MemoryClient\n",
    "from bedrock_agentcore_memory_store import BedrockAgentCoreMemoryStore\n",
    "from langchain.chat_models import init_chat_model\n",
    "from langchain_core.messages import AIMessage, HumanMessage, SystemMessage, ToolMessage\n",
    "from langchain_core.runnables import RunnableConfig\n",
    "from langgraph.checkpoint.memory import InMemorySaver\n",
    "from langgraph.graph import START, StateGraph\n",
    "from langgraph.graph.message import add_messages\n",
    "from langgraph.store.base import BaseStore\n",
    "from typing_extensions import TypedDict\n",
    "\n",
    "# Configure logging\n",
    "logging.basicConfig(level=logging.INFO)\n",
    "logger = logging.getLogger(__name__)"
   ]
  },
  {
   "cell_type": "code",
   "execution_count": 3,
   "metadata": {},
   "outputs": [
    {
     "name": "stderr",
     "output_type": "stream",
     "text": [
      "INFO:botocore.credentials:Found credentials in environment variables.\n",
      "INFO:bedrock_agentcore.memory.client:Initialized MemoryClient for control plane: us-west-2, data plane: us-west-2\n"
     ]
    },
    {
     "name": "stdout",
     "output_type": "stream",
     "text": [
      "Memory store initialized with ID: MEMORY_ID\n",
      "Supports TTL: False\n"
     ]
    }
   ],
   "source": [
    "# Configuration - Update these values\n",
    "REGION = \"us-west-2\"\n",
    "MEMORY_ID = \"MEMORY_ID\"  # Replace with your actual memory ID\n",
    "\n",
    "# Initialize memory client and store\n",
    "memory_client = MemoryClient(REGION)\n",
    "store = BedrockAgentCoreMemoryStore(memory_client=memory_client, memory_id=MEMORY_ID)\n",
    "\n",
    "print(f\"Memory store initialized with ID: {MEMORY_ID}\")\n",
    "print(f\"Supports TTL: {store.supports_ttl}\")"
   ]
  },
  {
   "cell_type": "markdown",
   "metadata": {},
   "source": [
    "## Core Store Operations\n",
    "\n",
    "### 1. Storing Messages (put operation)"
   ]
  },
  {
   "cell_type": "code",
   "execution_count": 4,
   "metadata": {},
   "outputs": [
    {
     "name": "stderr",
     "output_type": "stream",
     "text": [
      "INFO:bedrock_agentcore.memory.client:Created event: 0000001757113343000#0f3ea8da\n"
     ]
    },
    {
     "name": "stdout",
     "output_type": "stream",
     "text": [
      "✅ Stored human message with key: msg-1\n"
     ]
    },
    {
     "name": "stderr",
     "output_type": "stream",
     "text": [
      "INFO:bedrock_agentcore.memory.client:Created event: 0000001757113344000#b3cf6a09\n",
      "INFO:bedrock_agentcore.memory.client:Created event: 0000001757113345000#866aac05\n"
     ]
    },
    {
     "name": "stdout",
     "output_type": "stream",
     "text": [
      "✅ Stored ai message with key: msg-2\n",
      "✅ Stored human message with key: msg-3\n"
     ]
    },
    {
     "name": "stderr",
     "output_type": "stream",
     "text": [
      "INFO:bedrock_agentcore.memory.client:Created event: 0000001757113345000#abb0945d\n"
     ]
    },
    {
     "name": "stdout",
     "output_type": "stream",
     "text": [
      "✅ Stored ai message with key: msg-4\n"
     ]
    },
    {
     "name": "stderr",
     "output_type": "stream",
     "text": [
      "ERROR:bedrock_agentcore.memory.client:Failed to create event: An error occurred (ThrottledException) when calling the CreateEvent operation (reached max retries: 4): Rate exceeded.\n"
     ]
    },
    {
     "name": "stdout",
     "output_type": "stream",
     "text": [
      "❌ Failed to store message msg-5: An error occurred (ThrottledException) when calling the CreateEvent operation (reached max retries: 4): Rate exceeded.\n"
     ]
    },
    {
     "name": "stderr",
     "output_type": "stream",
     "text": [
      "INFO:bedrock_agentcore.memory.client:Created event: 0000001757113356000#175223c3\n"
     ]
    },
    {
     "name": "stdout",
     "output_type": "stream",
     "text": [
      "✅ Stored system message with key: msg-6\n"
     ]
    }
   ],
   "source": [
    "# Define namespace (actor_id, session_id)\n",
    "namespace = (\"user-123\", \"session-456\")\n",
    "\n",
    "# Store different types of messages\n",
    "messages_to_store = [\n",
    "    (\"msg-1\", HumanMessage(\"I love playing soccer and my favorite team is Barcelona\")),\n",
    "    (\"msg-2\", AIMessage(\"That's great! Barcelona has a rich history in football.\")),\n",
    "    (\"msg-3\", HumanMessage(\"My name is John and I'm a software engineer\")),\n",
    "    (\"msg-4\", AIMessage(\"Nice to meet you John! Software engineering is a fascinating field.\")),\n",
    "    (\"msg-5\", HumanMessage(\"I prefer Python for backend development\")),\n",
    "    (\"msg-6\", SystemMessage(\"User preferences updated: Python, Backend Development\")),\n",
    "]\n",
    "\n",
    "for key, message in messages_to_store:\n",
    "    try:\n",
    "        store.put(namespace, key, {\"message\": message})\n",
    "        print(f\"✅ Stored {message.type} message with key: {key}\")\n",
    "    except Exception as e:\n",
    "        print(f\"❌ Failed to store message {key}: {e}\")"
   ]
  },
  {
   "cell_type": "markdown",
   "metadata": {},
   "source": [
    "### 2. Searching and Retrieving Memories\n",
    "\n",
    "Wait for messages to be processed by AgentCore (typically 30-60 seconds)"
   ]
  },
  {
   "cell_type": "code",
   "execution_count": null,
   "metadata": {},
   "outputs": [],
   "source": [
    "import time\n",
    "\n",
    "print(\"Waiting 45 seconds for AgentCore to process messages...\")\n",
    "time.sleep(45)\n",
    "print(\"Processing complete!\")"
   ]
  },
  {
   "cell_type": "code",
   "execution_count": 6,
   "metadata": {},
   "outputs": [
    {
     "name": "stdout",
     "output_type": "stream",
     "text": [
      "=== Basic Listing ===\n",
      "Found 1 memory records\n",
      "\n",
      "Record 1:\n",
      "  Key: mem-e2facd2a22ded39a2e94e522b857bfaba224\n",
      "  Content: <summary>\n",
      "    <topic name=\"User Information\">\n",
      "        The user&#39;s name is John, and he works as a...\n",
      "  Created: 2025-09-05 16:02:36-07:00\n"
     ]
    }
   ],
   "source": [
    "# Search namespace for processed memories\n",
    "search_namespace = (\"summaries\", \"user-123\", \"session-456\")\n",
    "\n",
    "# Basic listing (no semantic search)\n",
    "print(\"=== Basic Listing ===\")\n",
    "try:\n",
    "    results = store.search(search_namespace, limit=10)\n",
    "    print(f\"Found {len(results)} memory records\")\n",
    "    \n",
    "    for i, item in enumerate(results[:3]):\n",
    "        print(f\"\\nRecord {i+1}:\")\n",
    "        print(f\"  Key: {item.key}\")\n",
    "        print(f\"  Content: {item.value.get('content', '')[:100]}...\")\n",
    "        print(f\"  Created: {item.created_at}\")\n",
    "except Exception as e:\n",
    "    print(f\"❌ Search failed: {e}\")"
   ]
  },
  {
   "cell_type": "code",
   "execution_count": 7,
   "metadata": {},
   "outputs": [
    {
     "name": "stdout",
     "output_type": "stream",
     "text": [
      "=== Semantic Search ===\n"
     ]
    },
    {
     "name": "stderr",
     "output_type": "stream",
     "text": [
      "INFO:bedrock_agentcore.memory.client:Retrieved 1 memories from namespace: /summaries/user-123/session-456\n"
     ]
    },
    {
     "name": "stdout",
     "output_type": "stream",
     "text": [
      "\n",
      "Query: 'soccer and Barcelona'\n",
      "Results: 1\n",
      "  Score: 0.42368466 | Content: <summary>\n",
      "    <topic name=\"User Information\">\n",
      "        The user&#39;s name is Joh...\n"
     ]
    },
    {
     "name": "stderr",
     "output_type": "stream",
     "text": [
      "INFO:bedrock_agentcore.memory.client:Retrieved 1 memories from namespace: /summaries/user-123/session-456\n"
     ]
    },
    {
     "name": "stdout",
     "output_type": "stream",
     "text": [
      "\n",
      "Query: 'user preferences and programming'\n",
      "Results: 1\n",
      "  Score: 0.43479428 | Content: <summary>\n",
      "    <topic name=\"User Information\">\n",
      "        The user&#39;s name is Joh...\n"
     ]
    },
    {
     "name": "stderr",
     "output_type": "stream",
     "text": [
      "INFO:bedrock_agentcore.memory.client:Retrieved 1 memories from namespace: /summaries/user-123/session-456\n"
     ]
    },
    {
     "name": "stdout",
     "output_type": "stream",
     "text": [
      "\n",
      "Query: 'John software engineer'\n",
      "Results: 1\n",
      "  Score: 0.4470298 | Content: <summary>\n",
      "    <topic name=\"User Information\">\n",
      "        The user&#39;s name is Joh...\n"
     ]
    },
    {
     "name": "stderr",
     "output_type": "stream",
     "text": [
      "INFO:bedrock_agentcore.memory.client:Retrieved 1 memories from namespace: /summaries/user-123/session-456\n"
     ]
    },
    {
     "name": "stdout",
     "output_type": "stream",
     "text": [
      "\n",
      "Query: 'Python backend development'\n",
      "Results: 1\n",
      "  Score: 0.43134356 | Content: <summary>\n",
      "    <topic name=\"User Information\">\n",
      "        The user&#39;s name is Joh...\n"
     ]
    }
   ],
   "source": [
    "# Semantic search with queries\n",
    "print(\"=== Semantic Search ===\")\n",
    "\n",
    "search_queries = [\n",
    "    \"soccer and Barcelona\",\n",
    "    \"user preferences and programming\",\n",
    "    \"John software engineer\",\n",
    "    \"Python backend development\"\n",
    "]\n",
    "\n",
    "for query in search_queries:\n",
    "    try:\n",
    "        results = store.search(\n",
    "            search_namespace,\n",
    "            query=query,\n",
    "            limit=3\n",
    "        )\n",
    "        \n",
    "        print(f\"\\nQuery: '{query}'\")\n",
    "        print(f\"Results: {len(results)}\")\n",
    "        \n",
    "        for item in results:\n",
    "            score = getattr(item, 'score', 'N/A')\n",
    "            content = item.value.get('content', '')[:80]\n",
    "            print(f\"  Score: {score} | Content: {content}...\")\n",
    "            \n",
    "    except Exception as e:\n",
    "        print(f\"❌ Search failed for '{query}': {e}\")"
   ]
  },
  {
   "cell_type": "markdown",
   "metadata": {},
   "source": [
    "### 3. Get Individual Memory Records"
   ]
  },
  {
   "cell_type": "code",
   "execution_count": 9,
   "metadata": {},
   "outputs": [
    {
     "name": "stdout",
     "output_type": "stream",
     "text": [
      "=== Get Individual Records ===\n",
      "Testing get operation with record ID: mem-e2facd2a22ded39a2e94e522b857bfaba224\n",
      "✅ Retrieved record:\n",
      "  Key: mem-e2facd2a22ded39a2e94e522b857bfaba224\n",
      "  Namespace: ('', 'summaries', 'user-123', 'session-456')\n",
      "  Content: <summary>\n",
      "    <topic name=\"User Information\">\n",
      "        The user&#39;s name is John, and he works as a software engineer. He enjoys playing soccer and supports Barcelona football club.\n",
      "    </topic>\n",
      "    <topic name=\"Conversation\">\n",
      "        The assistant acknowledged John&#39;s interest in Barcelona, noting the team&#39;s rich history in football. The assistant also greeted John and commented that software engineering is a fascinating field.\n",
      "    </topic>\n",
      "    <topic name=\"User Preferences\">\n",
      "        User preferences were updated to include Python and Backend Development.\n",
      "    </topic>\n",
      "</summary>\n",
      "  Created: 2025-09-05 16:02:36-07:00\n",
      "❌ Get non-existent failed: An error occurred (ResourceNotFoundException) when calling the GetMemoryRecord operation: Resource not found with memory id jgordleTestMemoryTools1-XKfUGT7fO4 and memory record id non-existent-key\n"
     ]
    }
   ],
   "source": [
    "# Get a specific memory record by ID\n",
    "print(\"=== Get Individual Records ===\")\n",
    "\n",
    "# First get some record IDs from search\n",
    "try:\n",
    "    search_results = store.search(search_namespace, limit=2)\n",
    "    \n",
    "    if search_results:\n",
    "        record_id = search_results[0].key\n",
    "        print(f\"Testing get operation with record ID: {record_id}\")\n",
    "        \n",
    "        # Get the specific record\n",
    "        result = store.get(namespace, record_id)\n",
    "        \n",
    "        if result:\n",
    "            print(f\"✅ Retrieved record:\")\n",
    "            print(f\"  Key: {result.key}\")\n",
    "            print(f\"  Namespace: {result.namespace}\")\n",
    "            print(f\"  Content: {result.value.get('content', '')}\")\n",
    "            print(f\"  Created: {result.created_at}\")\n",
    "        else:\n",
    "            print(\"❌ No record returned\")\n",
    "    else:\n",
    "        print(\"No search results available for get test\")\n",
    "        \n",
    "except Exception as e:\n",
    "    print(f\"❌ Get operation failed: {e}\")\n",
    "\n",
    "# Test get with non-existent key\n",
    "try:\n",
    "    result = store.get(namespace, \"non-existent-key\")\n",
    "    if result is None:\n",
    "        print(\"✅ Correctly returned None for non-existent key\")\n",
    "    else:\n",
    "        print(\"❌ Should have returned None\")\n",
    "except Exception as e:\n",
    "    print(f\"❌ Get non-existent failed: {e}\")"
   ]
  },
  {
   "cell_type": "markdown",
   "metadata": {},
   "source": [
    "### 4. Delete Operations"
   ]
  },
  {
   "cell_type": "code",
   "execution_count": 12,
   "metadata": {},
   "outputs": [
    {
     "name": "stdout",
     "output_type": "stream",
     "text": [
      "=== Delete Operations ===\n",
      "Record ID to delete: mem-e2facd2a22ded39a2e94e522b857bfaba224\n",
      "✅ Delete operation called for key: mem-e2facd2a22ded39a2e94e522b857bfaba224\n"
     ]
    }
   ],
   "source": [
    "# Test delete operations\n",
    "print(\"=== Delete Operations ===\")\n",
    "\n",
    "print(f\"Record ID to delete: {record_id}\")\n",
    "\n",
    "try:\n",
    "    # Delete the record\n",
    "    store.delete(namespace, record_id)\n",
    "    print(f\"✅ Delete operation called for key: {record_id}\")\n",
    "    \n",
    "except Exception as e:\n",
    "    print(f\"❌ Delete operation failed: {e}\")"
   ]
  },
  {
   "cell_type": "code",
   "execution_count": 16,
   "metadata": {},
   "outputs": [
    {
     "name": "stdout",
     "output_type": "stream",
     "text": [
      "✅ Record mem-e2facd2a22ded39a2e94e522b857bfaba224 was successfully deleted\n"
     ]
    }
   ],
   "source": [
    "# Verify deletion\n",
    "try:\n",
    "    result = store.get(namespace, record_id)\n",
    "except Exception as e:\n",
    "    print(f\"✅ Record {record_id} was successfully deleted\")"
   ]
  },
  {
   "cell_type": "markdown",
   "metadata": {},
   "source": [
    "## Complete Agent Example with Memory\n",
    "\n",
    "This demonstrates how to use the memory store in a complete LangGraph agent."
   ]
  },
  {
   "cell_type": "code",
   "execution_count": 18,
   "metadata": {},
   "outputs": [
    {
     "name": "stdout",
     "output_type": "stream",
     "text": [
      "✅ Agent with memory compiled successfully\n"
     ]
    }
   ],
   "source": [
    "# Initialize LLM\n",
    "llm = init_chat_model(\n",
    "    \"us.anthropic.claude-3-7-sonnet-20250219-v1:0\",\n",
    "    model_provider=\"bedrock_converse\",\n",
    ")\n",
    "\n",
    "# Define agent state\n",
    "class State(TypedDict):\n",
    "    messages: Annotated[list, add_messages]\n",
    "\n",
    "def call_model(state: State, config: RunnableConfig, *, store: BaseStore):\n",
    "    # Get configuration\n",
    "    user_id = config[\"configurable\"][\"user_id\"]\n",
    "    session_id = config[\"configurable\"][\"session_id\"]\n",
    "    \n",
    "    # Store user message\n",
    "    conversation_namespace = (user_id, session_id)\n",
    "    user_message = state['messages'][-1]\n",
    "    \n",
    "    print(f\"Storing user message: {user_message.content[:50]}...\")\n",
    "    store.put(\n",
    "        conversation_namespace,\n",
    "        f\"user-msg-{int(time.time())}\",\n",
    "        value={\"message\": user_message}\n",
    "    )\n",
    "    \n",
    "    # Search for relevant memories\n",
    "    memory_namespace = (\"summaries\", user_id, session_id)\n",
    "    memories = store.search(\n",
    "        memory_namespace,\n",
    "        query=user_message.content,\n",
    "        limit=3\n",
    "    )\n",
    "    \n",
    "    print(f\"Found {len(memories)} relevant memories\")\n",
    "    \n",
    "    # Add memory context to messages if available\n",
    "    messages = state[\"messages\"].copy()\n",
    "    if memories:\n",
    "        memory_context = \"\\n\".join([\n",
    "            f\"Memory: {mem.value.get('content', '')[:100]}...\"\n",
    "            for mem in memories[:2]\n",
    "        ])\n",
    "        context_msg = SystemMessage(f\"Relevant memories:\\n{memory_context}\")\n",
    "        messages.insert(-1, context_msg)\n",
    "    \n",
    "    # Generate response\n",
    "    result = llm.invoke(messages)\n",
    "    \n",
    "    # Store AI response\n",
    "    print(f\"Storing AI response: {result.content[:50]}...\")\n",
    "    store.put(\n",
    "        conversation_namespace,\n",
    "        f\"ai-msg-{int(time.time())}\",\n",
    "        value={\"message\": result}\n",
    "    )\n",
    "    \n",
    "    return {\"messages\": [result]}\n",
    "\n",
    "# Build graph\n",
    "graph_builder = StateGraph(State)\n",
    "graph_builder.add_node(\"chatbot\", call_model)\n",
    "graph_builder.add_edge(START, \"chatbot\")\n",
    "\n",
    "# Compile with memory store\n",
    "checkpointer = InMemorySaver()\n",
    "graph = graph_builder.compile(checkpointer=checkpointer, store=store)\n",
    "\n",
    "print(\"✅ Agent with memory compiled successfully\")"
   ]
  },
  {
   "cell_type": "code",
   "execution_count": 20,
   "metadata": {},
   "outputs": [
    {
     "name": "stderr",
     "output_type": "stream",
     "text": [
      "INFO:bedrock_agentcore.memory.client:Created event: 0000001757113835000#7e243282\n"
     ]
    },
    {
     "name": "stdout",
     "output_type": "stream",
     "text": [
      "=== Testing Agent with Memory ===\n",
      "\n",
      "--- Conversation 1 ---\n",
      "User: Hi, I'm interested in learning about machine learning\n",
      "Storing user message: Hi, I'm interested in learning about machine learn...\n"
     ]
    },
    {
     "name": "stderr",
     "output_type": "stream",
     "text": [
      "INFO:bedrock_agentcore.memory.client:Retrieved 0 memories from namespace: /summaries/demo-user/demo-session\n",
      "INFO:langchain_aws.chat_models.bedrock_converse:Using Bedrock Converse API to generate response\n"
     ]
    },
    {
     "name": "stdout",
     "output_type": "stream",
     "text": [
      "Found 0 relevant memories\n"
     ]
    },
    {
     "name": "stderr",
     "output_type": "stream",
     "text": [
      "INFO:bedrock_agentcore.memory.client:Created event: 0000001757113843000#fcf5f078\n"
     ]
    },
    {
     "name": "stdout",
     "output_type": "stream",
     "text": [
      "Storing AI response: # Introduction to Machine Learning\n",
      "\n",
      "I'm happy to h...\n",
      "AI: # Introduction to Machine Learning\n",
      "\n",
      "I'm happy to help you learn about machine learning! Machine learning (ML) is a fascinating field where computers learn patterns from data without being explicitly p...\n"
     ]
    },
    {
     "name": "stderr",
     "output_type": "stream",
     "text": [
      "INFO:bedrock_agentcore.memory.client:Created event: 0000001757113845000#2f84629b\n"
     ]
    },
    {
     "name": "stdout",
     "output_type": "stream",
     "text": [
      "\n",
      "--- Conversation 2 ---\n",
      "User: What programming languages are best for ML?\n",
      "Storing user message: What programming languages are best for ML?...\n"
     ]
    },
    {
     "name": "stderr",
     "output_type": "stream",
     "text": [
      "INFO:bedrock_agentcore.memory.client:Retrieved 0 memories from namespace: /summaries/demo-user/demo-session\n",
      "INFO:langchain_aws.chat_models.bedrock_converse:Using Bedrock Converse API to generate response\n"
     ]
    },
    {
     "name": "stdout",
     "output_type": "stream",
     "text": [
      "Found 0 relevant memories\n"
     ]
    },
    {
     "name": "stderr",
     "output_type": "stream",
     "text": [
      "INFO:bedrock_agentcore.memory.client:Created event: 0000001757113852000#30e87561\n"
     ]
    },
    {
     "name": "stdout",
     "output_type": "stream",
     "text": [
      "Storing AI response: # Programming Languages for Machine Learning\n",
      "\n",
      "## T...\n",
      "AI: # Programming Languages for Machine Learning\n",
      "\n",
      "## Top Languages for Machine Learning\n",
      "\n",
      "### Python\n",
      "**The clear frontrunner for ML**\n",
      "- Exceptional ecosystem of libraries: scikit-learn, TensorFlow, PyTorch...\n"
     ]
    },
    {
     "name": "stderr",
     "output_type": "stream",
     "text": [
      "INFO:bedrock_agentcore.memory.client:Created event: 0000001757113855000#9fb11fb6\n"
     ]
    },
    {
     "name": "stdout",
     "output_type": "stream",
     "text": [
      "\n",
      "--- Conversation 3 ---\n",
      "User: Can you remind me what we discussed about programming?\n",
      "Storing user message: Can you remind me what we discussed about programm...\n"
     ]
    },
    {
     "name": "stderr",
     "output_type": "stream",
     "text": [
      "INFO:bedrock_agentcore.memory.client:Retrieved 0 memories from namespace: /summaries/demo-user/demo-session\n",
      "INFO:langchain_aws.chat_models.bedrock_converse:Using Bedrock Converse API to generate response\n"
     ]
    },
    {
     "name": "stdout",
     "output_type": "stream",
     "text": [
      "Found 0 relevant memories\n"
     ]
    },
    {
     "name": "stderr",
     "output_type": "stream",
     "text": [
      "INFO:bedrock_agentcore.memory.client:Created event: 0000001757113860000#0a1659ad\n"
     ]
    },
    {
     "name": "stdout",
     "output_type": "stream",
     "text": [
      "Storing AI response: # Our Previous Discussion on Programming for Machi...\n",
      "AI: # Our Previous Discussion on Programming for Machine Learning\n",
      "\n",
      "In our conversation, we discussed programming languages that are best suited for machine learning work. Here's a summary of what I shared...\n"
     ]
    }
   ],
   "source": [
    "import time\n",
    "\n",
    "# Test the agent with memory\n",
    "print(\"=== Testing Agent with Memory ===\")\n",
    "\n",
    "# Configuration\n",
    "config = {\n",
    "    \"configurable\": {\n",
    "        \"user_id\": \"demo-user\",\n",
    "        \"session_id\": \"demo-session\",\n",
    "        \"thread_id\": \"demo-thread\"\n",
    "    }\n",
    "}\n",
    "\n",
    "# Test conversations\n",
    "test_messages = [\n",
    "    \"Hi, I'm interested in learning about machine learning\",\n",
    "    \"What programming languages are best for ML?\",\n",
    "    \"Can you remind me what we discussed about programming?\"\n",
    "]\n",
    "\n",
    "for i, message in enumerate(test_messages):\n",
    "    print(f\"\\n--- Conversation {i+1} ---\")\n",
    "    print(f\"User: {message}\")\n",
    "    \n",
    "    try:\n",
    "        result = graph.invoke(\n",
    "            {\"messages\": [HumanMessage(message)]},\n",
    "            config\n",
    "        )\n",
    "        \n",
    "        ai_response = result['messages'][-1].content\n",
    "        print(f\"AI: {ai_response[:200]}...\")\n",
    "        \n",
    "    except Exception as e:\n",
    "        print(f\"❌ Agent failed: {e}\")\n",
    "    \n",
    "    # Wait between messages\n",
    "    time.sleep(2)"
   ]
  },
  {
   "cell_type": "markdown",
   "metadata": {},
   "source": [
    "## Key Features Summary\n",
    "\n",
    "The BedrockAgentCoreMemoryStore provides:\n",
    "\n",
    "### Core Operations\n",
    "- **put()**: Store messages with automatic processing by AgentCore\n",
    "- **search()**: Semantic search and listing of processed memories\n",
    "- **get()**: Retrieve individual memory records by ID\n",
    "- **delete()**: Remove memory records\n",
    "- **batch()**: Execute multiple operations efficiently\n",
    "\n",
    "### Memory Processing\n",
    "- Automatic message processing and summarization\n",
    "- Semantic search capabilities\n",
    "- User preference extraction\n",
    "- Long-term memory persistence\n",
    "\n",
    "### Integration Features\n",
    "- LangGraph store interface compliance\n",
    "- Support for all LangChain message types\n",
    "- Namespace-based organization\n",
    "- Configurable search parameters\n",
    "\n",
    "### Limitations\n",
    "- No async operations support\n",
    "- TTL managed by AgentCore service\n",
    "- Custom indexing handled by AgentCore\n",
    "- Processing delay for memory availability\n",
    "\n",
    "This memory store enables persistent, searchable memory for conversational AI agents with automatic processing and intelligent retrieval capabilities."
   ]
  },
  {
   "cell_type": "code",
   "execution_count": null,
   "metadata": {},
   "outputs": [],
   "source": []
  }
 ],
 "metadata": {
  "kernelspec": {
   "display_name": "Python 3 (ipykernel)",
   "language": "python",
   "name": "python3"
  },
  "language_info": {
   "codemirror_mode": {
    "name": "ipython",
    "version": 3
   },
   "file_extension": ".py",
   "mimetype": "text/x-python",
   "name": "python",
   "nbconvert_exporter": "python",
   "pygments_lexer": "ipython3",
   "version": "3.11.10"
  }
 },
 "nbformat": 4,
 "nbformat_minor": 4
}
