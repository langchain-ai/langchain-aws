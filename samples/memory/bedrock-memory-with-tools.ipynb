{
 "cells": [
  {
   "cell_type": "code",
   "execution_count": null,
   "metadata": {
    "scrolled": true
   },
   "outputs": [],
   "source": [
    "# Install dependencies if needed\n",
    "!pip install langgraph bedrock-agentcore"
   ]
  },
  {
   "cell_type": "code",
   "execution_count": 1,
   "metadata": {},
   "outputs": [],
   "source": [
    "import os\n",
    "import uuid\n",
    "import json\n",
    "from typing import Dict, Any, List, Optional\n",
    "\n",
    "from langgraph.prebuilt import create_react_agent\n",
    "\n",
    "from langchain_aws.memory import (\n",
    "    create_store_messages_tool,\n",
    "    create_search_memory_tool,\n",
    "    create_list_messages_tool\n",
    ")\n",
    "from bedrock_agentcore.memory import MemoryClient"
   ]
  },
  {
   "cell_type": "code",
   "execution_count": 2,
   "metadata": {},
   "outputs": [],
   "source": [
    "REGION = \"us-east-1\" "
   ]
  },
  {
   "cell_type": "code",
   "execution_count": 3,
   "metadata": {},
   "outputs": [],
   "source": [
    "memory_client = MemoryClient(region_name=REGION)"
   ]
  },
  {
   "cell_type": "code",
   "execution_count": 10,
   "metadata": {},
   "outputs": [],
   "source": [
    "create_response = memory_client.create_memory_and_wait(\n",
    "    name=\"CustomerSupportAgentMemory\",\n",
    "    strategies=[{\n",
    "        \"summaryMemoryStrategy\": {\n",
    "            \"name\": \"SessionSummarizer\",\n",
    "            \"namespaces\": [\"/summaries/{actorId}/{sessionId}\"]\n",
    "        }\n",
    "    }]\n",
    ")"
   ]
  },
  {
   "cell_type": "code",
   "execution_count": 4,
   "metadata": {},
   "outputs": [],
   "source": [
    "MEMORY_ID = create_response[\"id\"]\n",
    "ACTOR_ID = \"User99\"\n",
    "SESSION_ID = \"OrderSupportSession5\""
   ]
  },
  {
   "cell_type": "code",
   "execution_count": 5,
   "metadata": {},
   "outputs": [],
   "source": [
    "def list_events():\n",
    "    events = memory_client.list_events(memory_id=MEMORY_ID, session_id=SESSION_ID, actor_id=ACTOR_ID)\n",
    "    for event in events:\n",
    "        print(f\"\\n================================ Event Id: {event['eventId']} =================================\\n\")\n",
    "        for payload in event['payload']:\n",
    "            print(f\"================================ {payload['conversational']['role']} =================================\")\n",
    "            print(payload['conversational']['content']['text'])"
   ]
  },
  {
   "cell_type": "code",
   "execution_count": 6,
   "metadata": {},
   "outputs": [],
   "source": [
    "list_events()"
   ]
  },
  {
   "cell_type": "code",
   "execution_count": 7,
   "metadata": {},
   "outputs": [],
   "source": [
    "store_messages_tool = create_store_messages_tool(\n",
    "    memory_client=memory_client\n",
    ")\n",
    "\n",
    "search_memory_tool = create_search_memory_tool(\n",
    "    memory_client=memory_client\n",
    ")\n",
    "\n",
    "list_messages_tool = create_list_messages_tool(\n",
    "    memory_client=memory_client\n",
    ")"
   ]
  },
  {
   "cell_type": "code",
   "execution_count": 8,
   "metadata": {},
   "outputs": [],
   "source": [
    "from langchain_core.tools import tool\n",
    "\n",
    "@tool\n",
    "def lookup_order(order_id: str) -> str:\n",
    "    \"\"\"Returns the order status\"\"\"\n",
    "    return f\"Customer order {order_id} was shipped 3 days ago, with an expected delivery tomorrow before 5pm\"\n",
    "\n",
    "@tool\n",
    "def update_customer_email(email: str):\n",
    "    \"\"\"Updates customer's email address\"\"\"\n",
    "    return f\"Customer's email updated to {email}\""
   ]
  },
  {
   "cell_type": "code",
   "execution_count": 9,
   "metadata": {},
   "outputs": [],
   "source": [
    "llm_model = \"bedrock_converse:us.anthropic.claude-3-5-haiku-20241022-v1:0\"\n",
    "prompt = \"\"\"You are are customer service assistant with access to order and memory tools.\"\"\"\n",
    "\n",
    "agent = create_react_agent(\n",
    "    llm_model,\n",
    "    tools=[store_messages_tool, search_memory_tool, list_messages_tool, lookup_order, update_customer_email],\n",
    "    prompt=prompt\n",
    ")"
   ]
  },
  {
   "cell_type": "code",
   "execution_count": 10,
   "metadata": {},
   "outputs": [],
   "source": [
    "config = {\n",
    "    \"configurable\": {\n",
    "        \"memory_id\": MEMORY_ID,\n",
    "        \"session_id\": SESSION_ID,\n",
    "        \"actor_id\": ACTOR_ID,\n",
    "        \"namespace\": f\"/summaries/{ACTOR_ID}/{SESSION_ID}\"\n",
    "    }\n",
    "}"
   ]
  },
  {
   "cell_type": "code",
   "execution_count": 11,
   "metadata": {},
   "outputs": [
    {
     "name": "stdout",
     "output_type": "stream",
     "text": [
      "================================\u001b[1m Human Message \u001b[0m=================================\n",
      "\n",
      "Hi, I'm having trouble with my order #12345\n",
      "==================================\u001b[1m Ai Message \u001b[0m==================================\n",
      "\n",
      "[{'type': 'text', 'text': \"I'll help you look up the status of your order right away.\"}, {'type': 'tool_use', 'name': 'lookup_order', 'input': {'order_id': '12345'}, 'id': 'tooluse_ub-cWkE_Tc-2ItPbhbqT0A'}]\n",
      "Tool Calls:\n",
      "  lookup_order (tooluse_ub-cWkE_Tc-2ItPbhbqT0A)\n",
      " Call ID: tooluse_ub-cWkE_Tc-2ItPbhbqT0A\n",
      "  Args:\n",
      "    order_id: 12345\n",
      "=================================\u001b[1m Tool Message \u001b[0m=================================\n",
      "Name: lookup_order\n",
      "\n",
      "Customer order 12345 was shipped 3 days ago, with an expected delivery tomorrow before 5pm\n",
      "==================================\u001b[1m Ai Message \u001b[0m==================================\n",
      "\n",
      "[{'type': 'text', 'text': \"I can see that your order #12345 was shipped 3 days ago and is expected to be delivered tomorrow before 5 PM. Is there anything specific about the order that is causing you concern? I'm here to help you with any questions or issues you might be experiencing.\"}, {'type': 'tool_use', 'name': 'store_messages', 'input': {'messages': [{'type': 'human', 'content': \"Hi, I'm having trouble with my order #12345\"}, {'type': 'ai', 'content': \"I'll help you look up the status of your order right away. Customer order 12345 was shipped 3 days ago, with an expected delivery tomorrow before 5pm. I can see that your order #12345 was shipped 3 days ago and is expected to be delivered tomorrow before 5 PM. Is there anything specific about the order that is causing you concern? I'm here to help you with any questions or issues you might be experiencing.\"}]}, 'id': 'tooluse_R9RTj2qkRm6P-BkzJBWX0g'}]\n",
      "Tool Calls:\n",
      "  store_messages (tooluse_R9RTj2qkRm6P-BkzJBWX0g)\n",
      " Call ID: tooluse_R9RTj2qkRm6P-BkzJBWX0g\n",
      "  Args:\n",
      "    messages: [{'type': 'human', 'content': \"Hi, I'm having trouble with my order #12345\"}, {'type': 'ai', 'content': \"I'll help you look up the status of your order right away. Customer order 12345 was shipped 3 days ago, with an expected delivery tomorrow before 5pm. I can see that your order #12345 was shipped 3 days ago and is expected to be delivered tomorrow before 5 PM. Is there anything specific about the order that is causing you concern? I'm here to help you with any questions or issues you might be experiencing.\"}]\n",
      "=================================\u001b[1m Tool Message \u001b[0m=================================\n",
      "Name: store_messages\n",
      "\n",
      "Memory created with ID: 0000001753929112000#5996cf1c\n",
      "==================================\u001b[1m Ai Message \u001b[0m==================================\n",
      "\n",
      "[]\n"
     ]
    }
   ],
   "source": [
    "response = agent.invoke({\n",
    "    \"messages\": [\n",
    "        \"Hi, I'm having trouble with my order #12345\"\n",
    "    ]\n",
    "}, config)\n",
    "\n",
    "for message in response[\"messages\"]:\n",
    "    message.pretty_print()"
   ]
  },
  {
   "cell_type": "code",
   "execution_count": 12,
   "metadata": {},
   "outputs": [
    {
     "name": "stdout",
     "output_type": "stream",
     "text": [
      "\n",
      "================================ Event Id: 0000001753929112000#5996cf1c =================================\n",
      "\n",
      "================================ USER =================================\n",
      "Hi, I'm having trouble with my order #12345\n",
      "================================ ASSISTANT =================================\n",
      "I'll help you look up the status of your order right away. Customer order 12345 was shipped 3 days ago, with an expected delivery tomorrow before 5pm. I can see that your order #12345 was shipped 3 days ago and is expected to be delivered tomorrow before 5 PM. Is there anything specific about the order that is causing you concern? I'm here to help you with any questions or issues you might be experiencing.\n"
     ]
    }
   ],
   "source": [
    "list_events()"
   ]
  },
  {
   "cell_type": "code",
   "execution_count": 13,
   "metadata": {},
   "outputs": [
    {
     "name": "stdout",
     "output_type": "stream",
     "text": [
      "================================\u001b[1m Human Message \u001b[0m=================================\n",
      "\n",
      "Actually, before that - I also want to change my email address\n",
      "==================================\u001b[1m Ai Message \u001b[0m==================================\n",
      "\n",
      "I can help you update your email address. Could you please provide me with the new email address you would like to use?\n",
      "\n",
      "I'll use the `update_customer_email` tool to make this change for you once you share the new email address.\n"
     ]
    }
   ],
   "source": [
    "response = agent.invoke({\n",
    "    \"messages\": [\n",
    "        \"Actually, before that - I also want to change my email address\"\n",
    "    ]\n",
    "}, config)\n",
    "for message in response[\"messages\"]:\n",
    "    message.pretty_print()"
   ]
  },
  {
   "cell_type": "code",
   "execution_count": 14,
   "metadata": {},
   "outputs": [
    {
     "name": "stdout",
     "output_type": "stream",
     "text": [
      "\n",
      "================================ Event Id: 0000001753929112000#5996cf1c =================================\n",
      "\n",
      "================================ USER =================================\n",
      "Hi, I'm having trouble with my order #12345\n",
      "================================ ASSISTANT =================================\n",
      "I'll help you look up the status of your order right away. Customer order 12345 was shipped 3 days ago, with an expected delivery tomorrow before 5pm. I can see that your order #12345 was shipped 3 days ago and is expected to be delivered tomorrow before 5 PM. Is there anything specific about the order that is causing you concern? I'm here to help you with any questions or issues you might be experiencing.\n"
     ]
    }
   ],
   "source": [
    "list_events()"
   ]
  },
  {
   "cell_type": "code",
   "execution_count": 15,
   "metadata": {},
   "outputs": [
    {
     "name": "stdout",
     "output_type": "stream",
     "text": [
      "================================\u001b[1m Human Message \u001b[0m=================================\n",
      "\n",
      "myemail@example.com\n",
      "==================================\u001b[1m Ai Message \u001b[0m==================================\n",
      "\n",
      "[{'type': 'text', 'text': \"I'll help you update your email address. I'll use the `update_customer_email` tool to do this.\"}, {'type': 'tool_use', 'name': 'update_customer_email', 'input': {'email': 'myemail@example.com'}, 'id': 'tooluse_m-5o4fUXRrG4zamhpoEW2g'}]\n",
      "Tool Calls:\n",
      "  update_customer_email (tooluse_m-5o4fUXRrG4zamhpoEW2g)\n",
      " Call ID: tooluse_m-5o4fUXRrG4zamhpoEW2g\n",
      "  Args:\n",
      "    email: myemail@example.com\n",
      "=================================\u001b[1m Tool Message \u001b[0m=================================\n",
      "Name: update_customer_email\n",
      "\n",
      "Customer's email updated to myemail@example.com\n",
      "==================================\u001b[1m Ai Message \u001b[0m==================================\n",
      "\n",
      "Your email address has been successfully updated to myemail@example.com. Is there anything else I can help you with today?\n"
     ]
    }
   ],
   "source": [
    "response = agent.invoke({\n",
    "    \"messages\": [\n",
    "        \"myemail@example.com\"\n",
    "    ]\n",
    "}, config)\n",
    "for message in response[\"messages\"]:\n",
    "    message.pretty_print()"
   ]
  },
  {
   "cell_type": "code",
   "execution_count": 16,
   "metadata": {},
   "outputs": [
    {
     "name": "stdout",
     "output_type": "stream",
     "text": [
      "\n",
      "================================ Event Id: 0000001753929112000#5996cf1c =================================\n",
      "\n",
      "================================ USER =================================\n",
      "Hi, I'm having trouble with my order #12345\n",
      "================================ ASSISTANT =================================\n",
      "I'll help you look up the status of your order right away. Customer order 12345 was shipped 3 days ago, with an expected delivery tomorrow before 5pm. I can see that your order #12345 was shipped 3 days ago and is expected to be delivered tomorrow before 5 PM. Is there anything specific about the order that is causing you concern? I'm here to help you with any questions or issues you might be experiencing.\n"
     ]
    }
   ],
   "source": [
    "list_events()"
   ]
  },
  {
   "cell_type": "code",
   "execution_count": 17,
   "metadata": {},
   "outputs": [
    {
     "name": "stdout",
     "output_type": "stream",
     "text": [
      "================================\u001b[1m Human Message \u001b[0m=================================\n",
      "\n",
      "The package already arrived, but seems damaged\n",
      "==================================\u001b[1m Ai Message \u001b[0m==================================\n",
      "\n",
      "I'm sorry to hear that your package arrived damaged. I'll help you resolve this issue. Could you please provide me with your order number so I can look up the details of your order and assist you further?\n"
     ]
    }
   ],
   "source": [
    "response = agent.invoke({\n",
    "    \"messages\": [\n",
    "        \"The package already arrived, but seems damaged\"\n",
    "    ]\n",
    "}, config)\n",
    "for message in response[\"messages\"]:\n",
    "    message.pretty_print()"
   ]
  },
  {
   "cell_type": "code",
   "execution_count": 18,
   "metadata": {},
   "outputs": [
    {
     "name": "stdout",
     "output_type": "stream",
     "text": [
      "\n",
      "================================ Event Id: 0000001753929112000#5996cf1c =================================\n",
      "\n",
      "================================ USER =================================\n",
      "Hi, I'm having trouble with my order #12345\n",
      "================================ ASSISTANT =================================\n",
      "I'll help you look up the status of your order right away. Customer order 12345 was shipped 3 days ago, with an expected delivery tomorrow before 5pm. I can see that your order #12345 was shipped 3 days ago and is expected to be delivered tomorrow before 5 PM. Is there anything specific about the order that is causing you concern? I'm here to help you with any questions or issues you might be experiencing.\n"
     ]
    }
   ],
   "source": [
    "list_events()"
   ]
  },
  {
   "cell_type": "code",
   "execution_count": null,
   "metadata": {},
   "outputs": [],
   "source": []
  }
 ],
 "metadata": {
  "kernelspec": {
   "display_name": "Python 3 (ipykernel)",
   "language": "python",
   "name": "python3"
  },
  "language_info": {
   "codemirror_mode": {
    "name": "ipython",
    "version": 3
   },
   "file_extension": ".py",
   "mimetype": "text/x-python",
   "name": "python",
   "nbconvert_exporter": "python",
   "pygments_lexer": "ipython3",
   "version": "3.13.5"
  }
 },
 "nbformat": 4,
 "nbformat_minor": 4
}
