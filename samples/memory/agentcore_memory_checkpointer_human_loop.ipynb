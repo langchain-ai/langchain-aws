{
 "cells": [
  {
   "cell_type": "markdown",
   "id": "e7d0b686-22f6-494b-952b-c97ee3bb0b60",
   "metadata": {},
   "source": [
    "# Bedrock AgentCore Memory Checkpointer - Human in the Loop Example\n",
    "\n",
    "This sample notebook walks through setup and usage of the Bedrock AgentCore Memory Checkpointer with LangGraph. This example specifically showcases the ability to use a human-in-the-loop workflow to interrupt graph execution and resume it with human intervention.\n",
    "\n",
    "This notebook closely follows the walkthrough here on LangGraph - https://langchain-ai.github.io/langgraph/tutorials/get-started/4-human-in-the-loop/\n",
    "\n",
    "### Setup\n",
    "For this notebook you will need:\n",
    "1. An Amazon Web Services development account\n",
    "2. Bedrock Model Access (i.e. Claude 3.7 Sonnet)\n",
    "3. An AgentCore Memory Resource configured (see below section for details)\n",
    "\n",
    "### AgentCore Memory Resource\n",
    "\n",
    "Either in the AWS developer portal or using the boto3 library you must create an [AgentCore Memory Resource](https://boto3.amazonaws.com/v1/documentation/api/latest/reference/services/bedrock-agentcore-control/client/create_memory.html). For just using the `AgentCoreMemorySaver` checkpointer in this notebook, you do not need to specify any specific long-term memory strategies. However, it may be beneficial to supplement this approach with the `AgentCoreMemoryStore` to save and extract conversational insights, so you may want to enable strategies for that use case.\n",
    "\n",
    "Once you have the Memory enabled and in a `ACTIVE` state, take note of the `memoryId`, we will need it later."
   ]
  },
  {
   "cell_type": "code",
   "execution_count": 1,
   "id": "bc7a3dfc-c14f-4a81-9c44-b44546d4196d",
   "metadata": {},
   "outputs": [],
   "source": [
    "# Import LangGraph and LangChain components\n",
    "from langchain.agents import create_agent\n",
    "from langchain.chat_models import init_chat_model\n",
    "from langchain.tools import tool\n",
    "\n",
    "# Imports that enable human-in-the-loop\n",
    "from langgraph.types import Command, interrupt"
   ]
  },
  {
   "cell_type": "code",
   "execution_count": 2,
   "id": "630de2fb-235a-4de5-a8e9-685a2babcdd1",
   "metadata": {},
   "outputs": [],
   "source": [
    "# Import the AgentCoreMemorySaver that we will use as a checkpointer\n",
    "from langgraph_checkpoint_aws import AgentCoreMemorySaver\n",
    "\n",
    "import logging\n",
    "logging.getLogger().setLevel(logging.DEBUG)"
   ]
  },
  {
   "cell_type": "markdown",
   "id": "a16f95ec-beb2-4007-a46c-730d0c156d18",
   "metadata": {},
   "source": [
    "## AgentCore Memory Configuration\n",
    "- `REGION` corresponds to the AWS region that your resources are present in, these are passed to the `AgentCoreMemorySaver`.\n",
    "- `MEMORY_ID` corresponds to your top level AgentCore Memory resource. Within this resource we will store checkpoints for multiple actors and sessions\n",
    "- `MODEL_ID` this is the bedrock model that will power our LangGraph agent through Bedrock Converse.\n",
    "\n",
    "We will use the `MEMORY_ID` and any additional boto3 client keyword args (in our case, `REGION`) to instantiate our checkpointer."
   ]
  },
  {
   "cell_type": "code",
   "execution_count": null,
   "id": "fb67b4ee-ff3f-4576-8072-8885c2a47e11",
   "metadata": {},
   "outputs": [],
   "source": [
    "REGION = \"us-west-2\"\n",
    "MEMORY_ID = \"YOUR_MEMORY_ID\"\n",
    "MODEL_ID = \"us.anthropic.claude-3-7-sonnet-20250219-v1:0\"\n",
    "\n",
    "# Initialize checkpointer for state persistence\n",
    "checkpointer = AgentCoreMemorySaver(MEMORY_ID, region_name=REGION)\n",
    "\n",
    "# Initialize chat model\n",
    "model = init_chat_model(MODEL_ID, model_provider=\"bedrock_converse\", region_name=REGION)"
   ]
  },
  {
   "cell_type": "markdown",
   "id": "783f9b1e-fd88-4546-afdb-1168e3a88ff2",
   "metadata": {},
   "source": [
    "## Enable the Human Assistance Tool\n",
    "\n",
    "Using the LangGraph `interrupt` type, we can interrupt the agent graph execution to give the chance for a human to intervene and respond to the query to continue execution. "
   ]
  },
  {
   "cell_type": "code",
   "execution_count": 4,
   "id": "aecb558a-8ee4-486c-92ab-3ff4485fdfe5",
   "metadata": {},
   "outputs": [],
   "source": [
    "@tool\n",
    "def human_assistance(query: str) -> str:\n",
    "    \"\"\"Request assistance from a human.\"\"\"\n",
    "    human_response = interrupt({\"query\": query})\n",
    "    return human_response[\"data\"]\n",
    "\n",
    "@tool\n",
    "def add(a: int, b: int):\n",
    "    \"\"\"Add two integers and return the result\"\"\"\n",
    "    return a + b\n",
    "\n",
    "@tool\n",
    "def multiply(a: int, b: int):\n",
    "    \"\"\"Multiply two integers and return the result\"\"\"\n",
    "    return a * b\n",
    "\n",
    "\n",
    "tools = [add, multiply, human_assistance]"
   ]
  },
  {
   "cell_type": "markdown",
   "id": "30359ac1-90b1-4627-a4b0-203c1d598bf1",
   "metadata": {},
   "source": [
    "## Build our LangGraph agent graph\n",
    "\n",
    "Our agent will be built with the `create_agent` builder. It just has a few simple nodes, mainly a chatbot node and a tool node. This will enable our chatbot to use the add, multiply, and human assistance tools as much as it needs and then return a response. We will visualize this graph below."
   ]
  },
  {
   "cell_type": "code",
   "execution_count": null,
   "id": "2cbc7289-6595-4b31-8472-47d2de00c4bd",
   "metadata": {},
   "outputs": [
    {
     "data": {
      "image/png": "[encoded data removed]",
      "text/plain": [
       "<langgraph.graph.state.CompiledStateGraph object at 0x11fc4ec10>"
      ]
     },
     "execution_count": 5,
     "metadata": {},
     "output_type": "execute_result"
    }
   ],
   "source": [
    "graph = create_agent(\n",
    "    model,\n",
    "    tools=tools,\n",
    "    prompt=\"You are a helpful assistant\",\n",
    "    checkpointer=checkpointer,\n",
    ")\n",
    "\n",
    "graph"
   ]
  },
  {
   "cell_type": "markdown",
   "id": "fcd4b967-3c83-4f1c-ae22-d5ba97b7fbe1",
   "metadata": {},
   "source": [
    "## IMPORTANT: Input and Config\n",
    "\n",
    "For this example we will ask explicitly for user assistance to make sure that the human assistance tool is called. In reality, this could be triggered by several conditions, for example a safety flag may route a conversation to a human if certain keywords are used.\n",
    "\n",
    "### Graph Invoke Input\n",
    "We only need to pass the newest user message in as an argument `inputs`. This could include other state variables too but for the simple `create_react_agent`, messages are all that's required.\n",
    "\n",
    "### LangGraph RuntimeConfig\n",
    "In LangGraph, config is a `RuntimeConfig` that contains attributes that are necessary at invocation time, for example user IDs or session IDs. For the `AgentCoreMemorySaver`, `thread_id` and `actor_id` must be set in the config. For instance, your AgentCore invocation endpoint could assign this based on the identity or user ID of the caller. Additional documentation here: [https://langchain-ai.github.io/langgraphjs/how-tos/configuration/](https://langchain-ai.github.io/langgraphjs/how-tos/configuration/)\n",
    "\n",
    "\n",
    "\n",
    "For the example, when the human assistance tool is called we expect the execution to be interrupted until a human intervenes."
   ]
  },
  {
   "cell_type": "code",
   "execution_count": 7,
   "id": "c50a6a6e-b16f-41dc-8f16-1d102f6debc4",
   "metadata": {},
   "outputs": [
    {
     "name": "stdout",
     "output_type": "stream",
     "text": [
      "================================\u001b[1m Human Message \u001b[0m=================================\n",
      "\n",
      "I would like to work with a customer service human agent.\n",
      "==================================\u001b[1m Ai Message \u001b[0m==================================\n",
      "\n",
      "[{'type': 'text', 'text': \"I understand you'd like to connect with a customer service human agent. I can help you with that by requesting human assistance.\"}, {'type': 'tool_use', 'name': 'human_assistance', 'input': {'query': 'Customer requesting to speak with a human customer service agent.'}, 'id': 'tooluse_tFutleh5RK-mGOvg6YQwYw'}]\n",
      "Tool Calls:\n",
      "  human_assistance (tooluse_tFutleh5RK-mGOvg6YQwYw)\n",
      " Call ID: tooluse_tFutleh5RK-mGOvg6YQwYw\n",
      "  Args:\n",
      "    query: Customer requesting to speak with a human customer service agent.\n"
     ]
    }
   ],
   "source": [
    "user_input = \"I would like to work with a customer service human agent.\"\n",
    "config = {\"configurable\": {\"thread_id\": \"1\", \"actor_id\": \"demo-notebook\"}}\n",
    "\n",
    "events = graph.stream(\n",
    "    {\"messages\": [{\"role\": \"user\", \"content\": user_input}]},\n",
    "    config,\n",
    "    stream_mode=\"values\",\n",
    ")\n",
    "for event in events:\n",
    "    if \"messages\" in event:\n",
    "        event[\"messages\"][-1].pretty_print()"
   ]
  },
  {
   "cell_type": "markdown",
   "id": "b0f2af97-524a-4626-8dc4-85c5b677af90",
   "metadata": {},
   "source": [
    "### Human-in-the-loop\n",
    "\n",
    "As you can see, execution paused when the human assistance tool was called. Inspecting the state (which uses the AgentCore memory checkpointer), you can see that the execution stopped at the tool node."
   ]
  },
  {
   "cell_type": "code",
   "execution_count": 8,
   "id": "0629af32-b660-4157-97ca-597b21ec66c3",
   "metadata": {},
   "outputs": [
    {
     "data": {
      "text/plain": [
       "('tools',)"
      ]
     },
     "execution_count": 8,
     "metadata": {},
     "output_type": "execute_result"
    }
   ],
   "source": [
    "snapshot = graph.get_state(config)\n",
    "snapshot.next"
   ]
  },
  {
   "cell_type": "markdown",
   "id": "ae31390c-0b1d-4b7f-9185-a28ee2bb79aa",
   "metadata": {},
   "source": [
    "### Responding as a Human\n",
    "\n",
    "Using the LangGraph `Command` with our response, we can resume the execution and pass our response back to the LLM for it to respond to the user. This powerful workflow is enabled by checkpointing so that conversation and graph state is persisted under the hood, enabling pausing and resuming chats on demand through certain conditions. "
   ]
  },
  {
   "cell_type": "code",
   "execution_count": 9,
   "id": "aaf88072-ab8d-4e5f-a605-6d65e66f6207",
   "metadata": {},
   "outputs": [
    {
     "name": "stdout",
     "output_type": "stream",
     "text": [
      "==================================\u001b[1m Ai Message \u001b[0m==================================\n",
      "\n",
      "[{'type': 'text', 'text': \"I understand you'd like to connect with a customer service human agent. I can help you with that by requesting human assistance.\"}, {'type': 'tool_use', 'name': 'human_assistance', 'input': {'query': 'Customer requesting to speak with a human customer service agent.'}, 'id': 'tooluse_tFutleh5RK-mGOvg6YQwYw'}]\n",
      "Tool Calls:\n",
      "  human_assistance (tooluse_tFutleh5RK-mGOvg6YQwYw)\n",
      " Call ID: tooluse_tFutleh5RK-mGOvg6YQwYw\n",
      "  Args:\n",
      "    query: Customer requesting to speak with a human customer service agent.\n",
      "=================================\u001b[1m Tool Message \u001b[0m=================================\n",
      "Name: human_assistance\n",
      "\n",
      "I'm sorry to hear that you are frustrated. Looking at the past conversation history, I can see that you've requested a refund. I've gone ahead and credited it to your account.\n",
      "==================================\u001b[1m Ai Message \u001b[0m==================================\n",
      "\n",
      "A human customer service agent has responded to your request and provided the following information:\n",
      "\n",
      "\"I'm sorry to hear that you are frustrated. Looking at the past conversation history, I can see that you've requested a refund. I've gone ahead and credited it to your account.\"\n",
      "\n",
      "Is there anything else you'd like help with regarding your refund or any other customer service matters?\n"
     ]
    }
   ],
   "source": [
    "human_response = (\n",
    "    \"I'm sorry to hear that you are frustrated. Looking at the past conversation history, I can see that you've requested a refund. I've gone ahead and credited it to your account.\"\n",
    ")\n",
    "\n",
    "human_command = Command(resume={\"data\": human_response})\n",
    "\n",
    "events = graph.stream(human_command, config, stream_mode=\"values\")\n",
    "for event in events:\n",
    "    if \"messages\" in event:\n",
    "        event[\"messages\"][-1].pretty_print()"
   ]
  },
  {
   "cell_type": "code",
   "execution_count": null,
   "id": "a83eaf68-9730-4356-9b0c-454cc6e4c371",
   "metadata": {},
   "outputs": [],
   "source": []
  }
 ],
 "metadata": {
  "kernelspec": {
   "display_name": "Python 3 (ipykernel)",
   "language": "python",
   "name": "python3"
  },
  "language_info": {
   "codemirror_mode": {
    "name": "ipython",
    "version": 3
   },
   "file_extension": ".py",
   "mimetype": "text/x-python",
   "name": "python",
   "nbconvert_exporter": "python",
   "pygments_lexer": "ipython3",
   "version": "3.11.10"
  }
 },
 "nbformat": 4,
 "nbformat_minor": 5
}
