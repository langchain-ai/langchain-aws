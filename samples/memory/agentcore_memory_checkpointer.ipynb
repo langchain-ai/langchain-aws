{
 "cells": [
  {
   "cell_type": "markdown",
   "id": "8208f7d6-391d-4054-9e67-ac0f85878dcd",
   "metadata": {},
   "source": [
    "# Bedrock AgentCore Memory Checkpointer Walkthrough\n",
    "\n",
    "This sample notebook walks through setup and usage of the Bedrock AgentCore Memory Checkpointer with LangGraph. This approach enables saving of conversations and state data to the Memory API for persistent storage, fault tolerance, and human-in-the-loop workflows.\n",
    "\n",
    "### Setup\n",
    "For this notebook you will need:\n",
    "1. An Amazon Web Services development account\n",
    "2. Bedrock Model Access (i.e. Claude 3.7 Sonnet)\n",
    "3. An AgentCore Memory Resource configured (see below section for details)\n",
    "\n",
    "### AgentCore Memory Resource\n",
    "\n",
    "Either in the AWS developer portal or using the boto3 library you must create an [AgentCore Memory Resource](https://boto3.amazonaws.com/v1/documentation/api/latest/reference/services/bedrock-agentcore-control/client/create_memory.html). For just using the `AgentCoreMemorySaver` checkpointer in this notebook, you do not need to specify any specific long-term memory strategies. However, it may be beneficial to supplement this approach with the `AgentCoreMemoryStore` to save and extract conversational insights, so you may want to enable strategies for that use case.\n",
    "\n",
    "Once you have the Memory enabled and in a `ACTIVE` state, take note of the `memoryId`, we will need it later."
   ]
  },
  {
   "cell_type": "code",
   "execution_count": null,
   "id": "e6acbf4e",
   "metadata": {},
   "outputs": [],
   "source": [
    "%pip install langchain"
   ]
  },
  {
   "cell_type": "code",
   "execution_count": 10,
   "id": "8eff8706-6715-4981-983b-934561ee0a19",
   "metadata": {},
   "outputs": [],
   "source": [
    "# Import LangGraph and LangChain components\n",
    "from langchain.chat_models import init_chat_model\n",
    "from langchain.tools import tool\n",
    "from langgraph.prebuilt import create_react_agent"
   ]
  },
  {
   "cell_type": "code",
   "execution_count": 11,
   "id": "fc12fd92-b84a-4d2f-b96d-83d3da08bf70",
   "metadata": {},
   "outputs": [],
   "source": [
    "# Import the AgentCoreMemorySaver that we will use as a checkpointer\n",
    "from langgraph_checkpoint_aws import AgentCoreMemorySaver\n",
    "\n",
    "import logging\n",
    "logging.getLogger().setLevel(logging.DEBUG)"
   ]
  },
  {
   "cell_type": "markdown",
   "id": "51d91a14-541c-426c-a52c-5fdcf29f8953",
   "metadata": {},
   "source": [
    "## AgentCore Memory Configuration\n",
    "- `REGION` corresponds to the AWS region that your resources are present in, these are passed to the `AgentCoreMemorySaver`.\n",
    "- `MEMORY_ID` corresponds to your top level AgentCore Memory resource. Within this resource we will store checkpoints for multiple actors and sessions\n",
    "- `MODEL_ID` this is the bedrock model that will power our LangGraph agent through Bedrock Converse.\n",
    "\n",
    "We will use the `MEMORY_ID` and any additional boto3 client keyword args (in our case, `REGION`) to instantiate our checkpointer."
   ]
  },
  {
   "cell_type": "code",
   "execution_count": 22,
   "id": "226d094c-a05d-4f88-851d-cc42ff63ef11",
   "metadata": {},
   "outputs": [],
   "source": [
    "REGION = \"us-west-2\"\n",
    "MEMORY_ID = \"YOUR_MEMORY_ID\"\n",
    "MODEL_ID = \"us.anthropic.claude-3-7-sonnet-20250219-v1:0\"\n",
    "\n",
    "# Initialize checkpointer for state persistence\n",
    "checkpointer = AgentCoreMemorySaver(MEMORY_ID, region_name=REGION)\n",
    "\n",
    "# Initialize LLM\n",
    "llm = init_chat_model(MODEL_ID, model_provider=\"bedrock_converse\", region_name=REGION)"
   ]
  },
  {
   "cell_type": "markdown",
   "id": "c56c77aa-4b19-49a5-af3c-db2b4798384b",
   "metadata": {},
   "source": [
    "## Define our tools\n",
    "\n",
    "For this demo notebook we will only give our agent access to two simple tools, adding and multiplying."
   ]
  },
  {
   "cell_type": "code",
   "execution_count": 13,
   "id": "dd81ba1c-3fb8-474c-ae40-0ee7c62ca234",
   "metadata": {},
   "outputs": [],
   "source": [
    "@tool\n",
    "def add(a: int, b: int):\n",
    "    \"\"\"Add two integers and return the result\"\"\"\n",
    "    return a + b\n",
    "\n",
    "\n",
    "@tool\n",
    "def multiply(a: int, b: int):\n",
    "    \"\"\"Multiply two integers and return the result\"\"\"\n",
    "    return a * b\n",
    "\n",
    "\n",
    "tools = [add, multiply]"
   ]
  },
  {
   "cell_type": "markdown",
   "id": "651b6e3f-8b41-4c07-8a32-680666b2661e",
   "metadata": {},
   "source": [
    "## Build our LangGraph agent graph\n",
    "\n",
    "Our agent will be built with the `create_react_agent` builder. It just has a few simple nodes, mainly a chatbot node and a tool node. This will enable our chatbot to use the add and multiply tools as much as it needs and then return a response. We will visualize this graph below."
   ]
  },
  {
   "cell_type": "code",
   "execution_count": 14,
   "id": "a116a57f",
   "metadata": {},
   "outputs": [
    {
     "data": {
      "image/png": "[encoded data removed]",
      "text/plain": [
       "<langgraph.graph.state.CompiledStateGraph object at 0x140153ed0>"
      ]
     },
     "execution_count": 14,
     "metadata": {},
     "output_type": "execute_result"
    }
   ],
   "source": [
    "graph = create_react_agent(\n",
    "    model=llm,\n",
    "    tools=tools,\n",
    "    prompt=\"You are a helpful assistant\",\n",
    "    checkpointer=checkpointer,\n",
    ")\n",
    "\n",
    "graph"
   ]
  },
  {
   "cell_type": "markdown",
   "id": "b6cbbb3a-f85c-42f5-bbfb-40f5f6b8b48c",
   "metadata": {},
   "source": [
    "## IMPORTANT: Input and Config\n",
    "\n",
    "### Graph Invoke Input\n",
    "We only need to pass the newest user message in as an argument `inputs`. This could include other state variables too but for the simple `create_react_agent`, messages are all that's required.\n",
    "\n",
    "### LangGraph RuntimeConfig\n",
    "In LangGraph, config is a `RuntimeConfig` that contains attributes that are necessary at invocation time, for example user IDs or session IDs. For the `AgentCoreMemorySaver`, `thread_id` and `actor_id` must be set in the config. For instance, your AgentCore invocation endpoint could assign this based on the identity or user ID of the caller. Additional documentation here: [https://langchain-ai.github.io/langgraphjs/how-tos/configuration/](https://langchain-ai.github.io/langgraphjs/how-tos/configuration/)\n",
    "\n"
   ]
  },
  {
   "cell_type": "code",
   "execution_count": 23,
   "id": "859fee36-1eff-4713-9c3b-387b702c0301",
   "metadata": {},
   "outputs": [],
   "source": [
    "config = {\n",
    "    \"configurable\": {\n",
    "        \"thread_id\": \"session-1\", # REQUIRED: This maps to Bedrock AgentCore session_id under the hood\n",
    "        \"actor_id\": \"react-agent-1\", # REQUIRED: This maps to Bedrock AgentCore actor_id under the hood\n",
    "    }\n",
    "}\n",
    "\n",
    "inputs = {\"messages\": [{\"role\": \"user\", \"content\": \"What is 1337 times 515321? Then add 412 and return the value to me.\"}]}"
   ]
  },
  {
   "cell_type": "markdown",
   "id": "96044de0-2d32-4811-ac30-43f4416f4303",
   "metadata": {},
   "source": [
    "### Run the agent"
   ]
  },
  {
   "cell_type": "code",
   "execution_count": 17,
   "id": "c2bc4869-58cd-4914-9a7a-8d39ecd16226",
   "metadata": {},
   "outputs": [
    {
     "name": "stdout",
     "output_type": "stream",
     "text": [
      "{'agent': {'messages': [AIMessage(content=[{'type': 'text', 'text': \"I'll help you calculate this step by step using the available tools.\\n\\nFirst, I'll multiply 1337 by 515321, and then add 412 to the result.\"}, {'type': 'tool_use', 'name': 'multiply', 'input': {'a': 1337, 'b': 515321}, 'id': 'tooluse_8NTeZaI6SRWVrWS3msurvQ'}], additional_kwargs={}, response_metadata={'ResponseMetadata': {'RequestId': 'cb32ee7b-35c8-42f4-b28d-ab81611f57f3', 'HTTPStatusCode': 200, 'HTTPHeaders': {'date': 'Tue, 23 Sep 2025 00:51:44 GMT', 'content-type': 'application/json', 'content-length': '563', 'connection': 'keep-alive', 'x-amzn-requestid': 'cb32ee7b-35c8-42f4-b28d-ab81611f57f3'}, 'RetryAttempts': 0}, 'stopReason': 'tool_use', 'metrics': {'latencyMs': [4900]}, 'model_name': 'us.anthropic.claude-3-7-sonnet-20250219-v1:0'}, id='run--8fa9fc8d-4491-4a79-bf9e-8921f710b1a4-0', tool_calls=[{'name': 'multiply', 'args': {'a': 1337, 'b': 515321}, 'id': 'tooluse_8NTeZaI6SRWVrWS3msurvQ', 'type': 'tool_call'}], usage_metadata={'input_tokens': 482, 'output_tokens': 110, 'total_tokens': 592, 'input_token_details': {'cache_creation': 0, 'cache_read': 0}})]}}\n",
      "{'tools': {'messages': [ToolMessage(content='688984177', name='multiply', id='9232d136-aa20-4283-82fa-a64502656160', tool_call_id='tooluse_8NTeZaI6SRWVrWS3msurvQ')]}}\n",
      "{'agent': {'messages': [AIMessage(content=[{'type': 'text', 'text': \"Now I'll add 412 to this result:\"}, {'type': 'tool_use', 'name': 'add', 'input': {'a': 688984177, 'b': 412}, 'id': 'tooluse_uowB7HdbQn-R-YQvufO3Pg'}], additional_kwargs={}, response_metadata={'ResponseMetadata': {'RequestId': 'dfd50e9e-0dfe-43d9-807b-7a29d0bc8f3b', 'HTTPStatusCode': 200, 'HTTPHeaders': {'date': 'Tue, 23 Sep 2025 00:51:47 GMT', 'content-type': 'application/json', 'content-length': '451', 'connection': 'keep-alive', 'x-amzn-requestid': 'dfd50e9e-0dfe-43d9-807b-7a29d0bc8f3b'}, 'RetryAttempts': 0}, 'stopReason': 'tool_use', 'metrics': {'latencyMs': [2412]}, 'model_name': 'us.anthropic.claude-3-7-sonnet-20250219-v1:0'}, id='run--524ea0f5-ddb0-4752-a224-6a3285f27d7e-0', tool_calls=[{'name': 'add', 'args': {'a': 688984177, 'b': 412}, 'id': 'tooluse_uowB7HdbQn-R-YQvufO3Pg', 'type': 'tool_call'}], usage_metadata={'input_tokens': 606, 'output_tokens': 83, 'total_tokens': 689, 'input_token_details': {'cache_creation': 0, 'cache_read': 0}})]}}\n",
      "{'tools': {'messages': [ToolMessage(content='688984589', name='add', id='3a368934-2258-491d-96f1-e61852deaeaa', tool_call_id='tooluse_uowB7HdbQn-R-YQvufO3Pg')]}}\n",
      "{'agent': {'messages': [AIMessage(content='The result of multiplying 1337 by 515321 and then adding 412 is 688,984,589.', additional_kwargs={}, response_metadata={'ResponseMetadata': {'RequestId': 'dadc1ae0-5f52-4ead-be93-90399d29359a', 'HTTPStatusCode': 200, 'HTTPHeaders': {'date': 'Tue, 23 Sep 2025 00:51:48 GMT', 'content-type': 'application/json', 'content-length': '391', 'connection': 'keep-alive', 'x-amzn-requestid': 'dadc1ae0-5f52-4ead-be93-90399d29359a'}, 'RetryAttempts': 0}, 'stopReason': 'end_turn', 'metrics': {'latencyMs': [1377]}, 'model_name': 'us.anthropic.claude-3-7-sonnet-20250219-v1:0'}, id='run--ffd35948-1221-4958-8212-5b5aee7ce904-0', usage_metadata={'input_tokens': 703, 'output_tokens': 32, 'total_tokens': 735, 'input_token_details': {'cache_creation': 0, 'cache_read': 0}})]}}\n"
     ]
    }
   ],
   "source": [
    "for chunk in graph.stream(inputs, stream_mode=\"updates\", config=config):\n",
    "    print(chunk)"
   ]
  },
  {
   "cell_type": "markdown",
   "id": "f0d28db8-c9cc-4fa1-922d-89476e9f71c5",
   "metadata": {},
   "source": [
    "## Inspect the current state with AgentCoreMemory\n",
    "\n",
    "Under the hood when you call `graph.get_state(config)` it calls the checkpointer to retrieve the latest checkpoint saved for our actor and session. We can take a look at the values saved at this point in the conversation from `messages`."
   ]
  },
  {
   "cell_type": "code",
   "execution_count": 18,
   "id": "60042ec5-cd64-48f3-bd7d-cb7ca9e21b39",
   "metadata": {},
   "outputs": [
    {
     "name": "stdout",
     "output_type": "stream",
     "text": [
      "human: What is 1337 times 515321? Then add 412 and return the value to me.\n",
      "=========================================\n",
      "ai: I'll help you calculate this step by step using the available tools.\n",
      "\n",
      "First, I'll multiply 1337 by 515321, and then add 412 to the result.\n",
      "=========================================\n",
      "tool: 688984177\n",
      "=========================================\n",
      "ai: Now I'll add 412 to this result:\n",
      "=========================================\n",
      "tool: 688984589\n",
      "=========================================\n",
      "ai: The result of multiplying 1337 by 515321 and then adding 412 is 688,984,589.\n",
      "=========================================\n"
     ]
    }
   ],
   "source": [
    "for message in graph.get_state(config).values.get(\"messages\"):\n",
    "    print(f\"{message.type}: {message.text()}\")\n",
    "    print(\"=========================================\")"
   ]
  },
  {
   "cell_type": "markdown",
   "id": "3aa0c9bd-6fb6-467d-b51a-84696238b4fa",
   "metadata": {},
   "source": [
    "## Look at a previous checkpoints during execution\n",
    "Using the `graph.get_state_history(config)` we will see the checkpoints that were saved, then inspect a previous checkpoint's values for `messages`. Checkpoints are listed so the most recent checkpoints appear first."
   ]
  },
  {
   "cell_type": "code",
   "execution_count": 19,
   "id": "c2232c2b-154d-4b50-93b0-925eb88e67c8",
   "metadata": {},
   "outputs": [
    {
     "name": "stdout",
     "output_type": "stream",
     "text": [
      "(Checkpoint ID: 1f098177-c42d-6f60-8005-354f815e0136) # of messages in state: 6\n",
      "(Checkpoint ID: 1f098177-b654-6baa-8004-a8b0f118635a) # of messages in state: 5\n",
      "(Checkpoint ID: 1f098177-b647-6b76-8003-6283dc729a79) # of messages in state: 4\n",
      "(Checkpoint ID: 1f098177-9e9b-670c-8002-588abfad5280) # of messages in state: 3\n",
      "(Checkpoint ID: 1f098177-9e89-628c-8001-2bc2df91b7a3) # of messages in state: 2\n",
      "(Checkpoint ID: 1f098177-6d2f-6fce-8000-6268b3fc0a3c) # of messages in state: 1\n",
      "(Checkpoint ID: 1f098177-6d20-6a7e-bfff-c58a1ddceda6) # of messages in state: 0\n"
     ]
    }
   ],
   "source": [
    "for checkpoint in graph.get_state_history(config):\n",
    "    print(\n",
    "        f\"(Checkpoint ID: {checkpoint.config['configurable']['checkpoint_id']}) # of messages in state: {len(checkpoint.values.get('messages'))}\"\n",
    "    )"
   ]
  },
  {
   "cell_type": "markdown",
   "id": "ab07194f-49b4-4fb9-a74b-d86b970cace6",
   "metadata": {},
   "source": [
    "## Continue the conversation\n",
    "By using the same config with our session and actor from before, we can continue the conversation by invoking our LangGraph agent with a new invocation state. The checkpointer in the background will take care of loading in context so that all the previous messages from the first interaction are loaded in."
   ]
  },
  {
   "cell_type": "code",
   "execution_count": 20,
   "id": "b7117c6a-d1d5-4866-aee9-2b7229fd73fd",
   "metadata": {},
   "outputs": [
    {
     "name": "stdout",
     "output_type": "stream",
     "text": [
      "{'agent': {'messages': [AIMessage(content='The first calculations you asked me to do were:\\n1. Multiply 1337 by 515321\\n2. Add 412 to the result of the multiplication\\n\\nSpecifically, I calculated 1337 × 515321 = 688,984,177, and then added 412 to get the final answer of 688,984,589.', additional_kwargs={}, response_metadata={'ResponseMetadata': {'RequestId': '4dc65f04-85c5-4eb7-8139-1f852c3709bc', 'HTTPStatusCode': 200, 'HTTPHeaders': {'date': 'Tue, 23 Sep 2025 00:52:08 GMT', 'content-type': 'application/json', 'content-length': '557', 'connection': 'keep-alive', 'x-amzn-requestid': '4dc65f04-85c5-4eb7-8139-1f852c3709bc'}, 'RetryAttempts': 0}, 'stopReason': 'end_turn', 'metrics': {'latencyMs': [2033]}, 'model_name': 'us.anthropic.claude-3-7-sonnet-20250219-v1:0'}, id='run--b19686f9-8c7d-4950-91e2-7c9a1bb5534d-0', usage_metadata={'input_tokens': 749, 'output_tokens': 81, 'total_tokens': 830, 'input_token_details': {'cache_creation': 0, 'cache_read': 0}})]}}\n"
     ]
    }
   ],
   "source": [
    "inputs = {\"messages\": [{\"role\": \"user\", \"content\": \"What were the first calculations I asked you to do?\"}]}\n",
    "\n",
    "for chunk in graph.stream(inputs, stream_mode=\"updates\", config=config):\n",
    "    print(chunk)"
   ]
  },
  {
   "cell_type": "markdown",
   "id": "dc602c5b-e6b3-4099-820a-a82266039849",
   "metadata": {},
   "source": [
    "## Start a new chat by using a new session ID\n",
    "\n",
    "By providing a new thread_id, a new conversation will be started (while still persisting the old conversation in AgentCore Memory)."
   ]
  },
  {
   "cell_type": "code",
   "execution_count": 21,
   "id": "8ce88359-ee1e-44bd-9095-ad22b880dda8",
   "metadata": {},
   "outputs": [
    {
     "name": "stdout",
     "output_type": "stream",
     "text": [
      "{'agent': {'messages': [AIMessage(content=\"I don't see that you've asked me to multiply or add any specific values yet. While I have tools available to perform multiplication and addition, you haven't provided any numbers for me to work with.\\n\\nWould you like me to multiply or add some numbers? If so, please provide the values you'd like me to use.\", additional_kwargs={}, response_metadata={'ResponseMetadata': {'RequestId': '8ddf83ff-6536-4d41-b6b1-9763a1085fe2', 'HTTPStatusCode': 200, 'HTTPHeaders': {'date': 'Tue, 23 Sep 2025 00:52:21 GMT', 'content-type': 'application/json', 'content-length': '623', 'connection': 'keep-alive', 'x-amzn-requestid': '8ddf83ff-6536-4d41-b6b1-9763a1085fe2'}, 'RetryAttempts': 0}, 'stopReason': 'end_turn', 'metrics': {'latencyMs': [2118]}, 'model_name': 'us.anthropic.claude-3-7-sonnet-20250219-v1:0'}, id='run--052bbac2-e944-4adf-8ff5-24263d10c209-0', usage_metadata={'input_tokens': 470, 'output_tokens': 70, 'total_tokens': 540, 'input_token_details': {'cache_creation': 0, 'cache_read': 0}})]}}\n"
     ]
    }
   ],
   "source": [
    "config = {\n",
    "    \"configurable\": {\n",
    "        \"thread_id\": \"session-2\", # New session ID\n",
    "        \"actor_id\": \"react-agent-1\", # Same Actor ID\n",
    "    }\n",
    "}\n",
    "\n",
    "inputs = {\"messages\": [{\"role\": \"user\", \"content\": \"What values did I ask you to multiply and add?\"}]}\n",
    "for chunk in graph.stream(inputs, stream_mode=\"updates\", config=config):\n",
    "    print(chunk)"
   ]
  },
  {
   "cell_type": "markdown",
   "id": "6fa7bd51-0ece-47d6-aae3-2a9041d98645",
   "metadata": {},
   "source": [
    "## Wrapping Up\n",
    "\n",
    "As you can see, the AgentCore checkpointer is very powerful for persisting conversational and graph state in the background. For more information, check out the official AgentCore Memory documentation here: https://docs.aws.amazon.com/bedrock-agentcore/latest/devguide/memory.html"
   ]
  },
  {
   "cell_type": "code",
   "execution_count": null,
   "id": "eda8649a-d48f-467c-94b9-99dd8fb2c078",
   "metadata": {},
   "outputs": [],
   "source": []
  }
 ],
 "metadata": {
  "kernelspec": {
   "display_name": "Python 3 (ipykernel)",
   "language": "python",
   "name": "python3"
  },
  "language_info": {
   "codemirror_mode": {
    "name": "ipython",
    "version": 3
   },
   "file_extension": ".py",
   "mimetype": "text/x-python",
   "name": "python",
   "nbconvert_exporter": "python",
   "pygments_lexer": "ipython3",
   "version": "3.11.10"
  }
 },
 "nbformat": 4,
 "nbformat_minor": 5
}
