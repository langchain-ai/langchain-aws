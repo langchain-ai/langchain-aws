{
 "cells": [
  {
   "cell_type": "markdown",
   "id": "fe2a689a-30a5-4d3d-aa99-5dd488fa7e4c",
   "metadata": {},
   "source": [
    "# Bedrock Agents with Code Interpreter\n",
    "\n",
    "In this notebook, we show how to create a Bedrock Agent with Code Interpreter. `langchain-aws` library provides a BedrockAgentsRunnable which can be used with LangChain's AgentExecutor.\n",
    "\n",
    "### Prerequisites:\n",
    "1. Set your aws credentials for your environment, example: https://docs.aws.amazon.com/cli/v1/userguide/cli-configure-envvars.html#envvars-set.\n",
    "1. Ensure that langchain, langgraph are installed in the environment and that the local langchain-aws is accessible from the path or installed into the environment. \n",
    "\n",
    "## Example 1: Create a financial analyst agent.\n",
    "In this example, we create a financial analyst with a code interpreter.\n",
    "\n",
    "### Step 1: Define a tool for retrieving data."
   ]
  },
  {
   "metadata": {
    "ExecuteTime": {
     "end_time": "2025-02-14T18:10:06.976361Z",
     "start_time": "2025-02-14T18:10:06.589533Z"
    }
   },
   "cell_type": "code",
   "source": [
    "from langchain_core.tools import tool\n",
    "import json\n",
    "\n",
    "my_stock_data = [\n",
    "  {\n",
    "    \"date\": \"2025-02-13\",\n",
    "    \"open\": 6060.59,\n",
    "    \"high\": 6116.91,\n",
    "    \"low\": 6050.95,\n",
    "    \"close\": 6115.07\n",
    "  },\n",
    "  {\n",
    "    \"date\": \"2025-02-12\",\n",
    "    \"open\": 6025.08,\n",
    "    \"high\": 6063.00,\n",
    "    \"low\": 6003.00,\n",
    "    \"close\": 6051.97\n",
    "  },\n",
    "  {\n",
    "    \"date\": \"2025-02-11\",\n",
    "    \"open\": 6049.32,\n",
    "    \"high\": 6076.28,\n",
    "    \"low\": 6042.34,\n",
    "    \"close\": 6068.50\n",
    "  },\n",
    "  {\n",
    "    \"date\": \"2025-02-10\",\n",
    "    \"open\": 6046.40,\n",
    "    \"high\": 6073.38,\n",
    "    \"low\": 6044.84,\n",
    "    \"close\": 6066.44\n",
    "  },\n",
    "  {\n",
    "    \"date\": \"2025-02-07\",\n",
    "    \"open\": 6083.13,\n",
    "    \"high\": 6101.28,\n",
    "    \"low\": 6019.96,\n",
    "    \"close\": 6025.99\n",
    "  },\n",
    "  {\n",
    "    \"date\": \"2025-02-06\",\n",
    "    \"open\": 6072.22,\n",
    "    \"high\": 6084.03,\n",
    "    \"low\": 6046.83,\n",
    "    \"close\": 6083.57\n",
    "  },\n",
    "  {\n",
    "    \"date\": \"2025-02-05\",\n",
    "    \"open\": 6020.45,\n",
    "    \"high\": 6062.86,\n",
    "    \"low\": 6007.06,\n",
    "    \"close\": 6061.48\n",
    "  },\n",
    "  {\n",
    "    \"date\": \"2025-02-04\",\n",
    "    \"open\": 5998.14,\n",
    "    \"high\": 6042.48,\n",
    "    \"low\": 5990.87,\n",
    "    \"close\": 6037.88\n",
    "  },\n",
    "  {\n",
    "    \"date\": \"2025-02-03\",\n",
    "    \"open\": 5969.65,\n",
    "    \"high\": 6022.13,\n",
    "    \"low\": 5923.93,\n",
    "    \"close\": 5994.57\n",
    "  },\n",
    "  {\n",
    "    \"date\": \"2025-01-31\",\n",
    "    \"open\": 6096.79,\n",
    "    \"high\": 6120.91,\n",
    "    \"low\": 6030.93,\n",
    "    \"close\": 6040.53\n",
    "  },\n",
    "  {\n",
    "    \"date\": \"2025-01-30\",\n",
    "    \"open\": 6050.75,\n",
    "    \"high\": 6086.64,\n",
    "    \"low\": 6027.46,\n",
    "    \"close\": 6071.17\n",
    "  },\n",
    "  {\n",
    "    \"date\": \"2025-01-29\",\n",
    "    \"open\": 6057.70,\n",
    "    \"high\": 6062.83,\n",
    "    \"low\": 6012.96,\n",
    "    \"close\": 6039.31\n",
    "  }\n",
    "]\n",
    "\n",
    "@tool(\"stock_data::get_stock_prices\")\n",
    "def get_stock_prices(stock_symbol: str) -> str:\n",
    "    \"\"\"\n",
    "        Gets the prices series of symbol, date, open, high, low, close.\n",
    "\n",
    "        Args:\n",
    "            stock_symbol: The stock symbol to query data for.\n",
    "\n",
    "        Returns:\n",
    "            A json price series serialized as a string.\n",
    "    \n",
    "    \"\"\"\n",
    "    return json.dumps(my_stock_data, indent=2)\n",
    "\n",
    "\n",
    "tools = [get_stock_prices]\n",
    "tools"
   ],
   "id": "db7aa25a0c5973f7",
   "outputs": [
    {
     "name": "stderr",
     "output_type": "stream",
     "text": [
      "/Users/bakjohn/PycharmProjects/langchain-aws/venv/lib/python3.9/site-packages/urllib3/__init__.py:35: NotOpenSSLWarning: urllib3 v2 only supports OpenSSL 1.1.1+, currently the 'ssl' module is compiled with 'LibreSSL 2.8.3'. See: https://github.com/urllib3/urllib3/issues/3020\n",
      "  warnings.warn(\n"
     ]
    },
    {
     "data": {
      "text/plain": [
       "[StructuredTool(name='stock_data::get_stock_prices', description='Gets the prices series of symbol, date, open, high, low, close.\\n\\nArgs:\\n    stock_symbol: The stock symbol to query data for.\\n\\nReturns:\\n    A json price series serialized as a string.', args_schema=<class 'langchain_core.utils.pydantic.stock_data::get_stock_prices'>, func=<function get_stock_prices at 0x106d17d30>)]"
      ]
     },
     "execution_count": 1,
     "metadata": {},
     "output_type": "execute_result"
    }
   ],
   "execution_count": 1
  },
  {
   "cell_type": "markdown",
   "id": "652010b9-244d-45b5-afab-3d57f3eb1a82",
   "metadata": {},
   "source": [
    "### Step 2: Define the foundation model and instructions for the agent"
   ]
  },
  {
   "cell_type": "code",
   "id": "714aaf51-2aab-4f69-b145-281baec62de0",
   "metadata": {
    "ExecuteTime": {
     "end_time": "2025-02-14T18:10:06.987056Z",
     "start_time": "2025-02-14T18:10:06.984546Z"
    }
   },
   "source": [
    "foundational_model = 'anthropic.claude-3-sonnet-20240229-v1:0'\n",
    "foundational_model"
   ],
   "outputs": [
    {
     "data": {
      "text/plain": [
       "'anthropic.claude-3-sonnet-20240229-v1:0'"
      ]
     },
     "execution_count": 2,
     "metadata": {},
     "output_type": "execute_result"
    }
   ],
   "execution_count": 2
  },
  {
   "cell_type": "code",
   "id": "f558eee4-0aaf-402f-a76f-3babb824d158",
   "metadata": {
    "ExecuteTime": {
     "end_time": "2025-02-14T18:10:07.072385Z",
     "start_time": "2025-02-14T18:10:07.070321Z"
    }
   },
   "source": [
    "instructions=\"You are an agent who answers financial questions.\"\n",
    "instructions"
   ],
   "outputs": [
    {
     "data": {
      "text/plain": [
       "'You are an agent who answers financial questions.'"
      ]
     },
     "execution_count": 3,
     "metadata": {},
     "output_type": "execute_result"
    }
   ],
   "execution_count": 3
  },
  {
   "cell_type": "markdown",
   "id": "ce30620f-b7ac-4f4d-8790-f493b601c97c",
   "metadata": {},
   "source": [
    "### Step 3: Define the resource role to use with the Bedrock Agent"
   ]
  },
  {
   "cell_type": "code",
   "id": "a7014d43-3b5f-4410-aa06-89cf575e8c14",
   "metadata": {
    "ExecuteTime": {
     "end_time": "2025-02-14T18:10:10.314177Z",
     "start_time": "2025-02-14T18:10:07.080553Z"
    }
   },
   "source": [
    "import boto3\n",
    "import json\n",
    "import time\n",
    "import uuid\n",
    "\n",
    "def _create_agent_role(\n",
    "        agent_region,\n",
    "        foundational_model\n",
    ") -> str:\n",
    "    \"\"\"\n",
    "    Create agent resource role prior to creation of agent, at this point we do not have agentId, keep it as wildcard\n",
    "\n",
    "    Args:\n",
    "        agent_region: AWS region in which is the Agent if available\n",
    "        foundational_model: The model used for inference in AWS BedrockAgents\n",
    "    Returns:\n",
    "       Agent execution role arn\n",
    "    \"\"\"\n",
    "    try:\n",
    "        account_id = boto3.client('sts').get_caller_identity().get('Account')\n",
    "        assume_role_policy_document = json.dumps({\n",
    "            \"Version\": \"2012-10-17\",\n",
    "            \"Statement\": [\n",
    "                {\n",
    "                    \"Effect\": \"Allow\",\n",
    "                    \"Principal\": {\n",
    "                        \"Service\": \"bedrock.amazonaws.com\"\n",
    "                    },\n",
    "                    \"Action\": \"sts:AssumeRole\",\n",
    "                    \"Condition\": {\n",
    "                        \"ArnLike\": {\n",
    "                            \"aws:SourceArn\": f\"arn:aws:bedrock:{agent_region}:{account_id}:agent/*\"\n",
    "                        }\n",
    "                    }\n",
    "                }\n",
    "            ]\n",
    "        })\n",
    "        managed_policy = {\n",
    "            \"Version\": \"2012-10-17\",\n",
    "            \"Statement\": [\n",
    "                {\n",
    "                    \"Sid\": \"AmazonBedrockAgentBedrockFoundationModelStatement\",\n",
    "                    \"Effect\": \"Allow\",\n",
    "                    \"Action\": \"bedrock:InvokeModel\",\n",
    "                    \"Resource\": [\n",
    "                        f\"arn:aws:bedrock:{agent_region}::foundation-model/{foundational_model}\"\n",
    "                    ]\n",
    "                }\n",
    "            ]\n",
    "        }\n",
    "        role_name = f'bedrock_agent_{uuid.uuid4()}'\n",
    "        iam_client = boto3.client('iam')\n",
    "        response = iam_client.create_role(\n",
    "            RoleName=role_name,\n",
    "            AssumeRolePolicyDocument=assume_role_policy_document,\n",
    "            Description='Role for Bedrock Agent'\n",
    "        )\n",
    "        iam_client.put_role_policy(\n",
    "            RoleName=role_name,\n",
    "            PolicyName=f'AmazonBedrockAgentBedrockFoundationModelPolicy_{uuid.uuid4()}',\n",
    "            PolicyDocument=json.dumps(managed_policy)\n",
    "        )\n",
    "        time.sleep(2)\n",
    "        return response.get('Role', {}).get('Arn', '')\n",
    "\n",
    "    except Exception as exception:\n",
    "        raise exception\n",
    "\n",
    "agent_resource_role_arn = _create_agent_role(\n",
    "            agent_region='us-west-2',\n",
    "            foundational_model=foundational_model)\n",
    "\n",
    "agent_resource_role_arn"
   ],
   "outputs": [
    {
     "data": {
      "text/plain": [
       "'arn:aws:iam::151065682055:role/bedrock_agent_b382102d-a9f5-4194-bc5e-e788330340d8'"
      ]
     },
     "execution_count": 4,
     "metadata": {},
     "output_type": "execute_result"
    }
   ],
   "execution_count": 4
  },
  {
   "cell_type": "markdown",
   "id": "974cb0b1-db6f-4ccf-bf96-0fda68530bd1",
   "metadata": {},
   "source": [
    "### Step 4: Now create the Bedrock Agent and initialize the AgentExecutor"
   ]
  },
  {
   "cell_type": "code",
   "id": "d6b26bc1-a524-43e5-bce7-dc457a651ea9",
   "metadata": {
    "ExecuteTime": {
     "end_time": "2025-02-14T18:10:11.251066Z",
     "start_time": "2025-02-14T18:10:10.326264Z"
    }
   },
   "source": [
    "from langchain.agents import AgentExecutor\n",
    "from langchain_aws.agents import BedrockAgentsRunnable\n",
    "\n",
    "#setting enable trace to True, if you do not want all the trace events then set to False.\n",
    "my_enable_trace = True\n",
    "\n",
    "agent = BedrockAgentsRunnable.create_agent(\n",
    "            agent_name=\"financial_analyst_agent\",\n",
    "            agent_resource_role_arn=agent_resource_role_arn,\n",
    "            foundation_model=foundational_model,\n",
    "            instruction=\"\"\"\n",
    "            You are an agent who helps with getting answers to financial questions using stock data\"\"\",\n",
    "            tools=tools,\n",
    "            enable_trace=my_enable_trace,\n",
    "            enable_code_interpreter=True\n",
    "        )\n",
    "\n",
    "agent_executor = AgentExecutor(agent=agent, tools=tools, return_intermediate_steps=True) \n",
    "agent_executor\n"
   ],
   "outputs": [
    {
     "name": "stderr",
     "output_type": "stream",
     "text": [
      "/Users/bakjohn/PycharmProjects/langchain-aws/venv/lib/python3.9/site-packages/pydantic/_internal/_fields.py:132: UserWarning: Field \"model_arn\" in BedrockRerank has conflict with protected namespace \"model_\".\n",
      "\n",
      "You may be able to resolve this warning by setting `model_config['protected_namespaces'] = ()`.\n",
      "  warnings.warn(\n"
     ]
    },
    {
     "data": {
      "text/plain": [
       "AgentExecutor(verbose=False, agent=RunnableAgent(runnable=BedrockAgentsRunnable(agent_id='543RIBXFCF', client=<botocore.client.AgentsforBedrockRuntime object at 0x10f28c700>, enable_trace=True), input_keys_arg=[], return_keys_arg=[], stream_runnable=True), tools=[StructuredTool(name='stock_data::get_stock_prices', description='Gets the prices series of symbol, date, open, high, low, close.\\n\\nArgs:\\n    stock_symbol: The stock symbol to query data for.\\n\\nReturns:\\n    A json price series serialized as a string.', args_schema=<class 'langchain_core.utils.pydantic.stock_data::get_stock_prices'>, func=<function get_stock_prices at 0x106d17d30>)], return_intermediate_steps=True)"
      ]
     },
     "execution_count": 5,
     "metadata": {},
     "output_type": "execute_result"
    }
   ],
   "execution_count": 5
  },
  {
   "cell_type": "markdown",
   "id": "bc0fe9dd-1819-4dac-bb8d-0d55d18e1e1f",
   "metadata": {},
   "source": [
    "### Step 5: Invoke the agent"
   ]
  },
  {
   "cell_type": "code",
   "id": "f6e5e205-061c-447b-aa7d-546271e007c2",
   "metadata": {
    "ExecuteTime": {
     "end_time": "2025-02-14T18:10:50.594669Z",
     "start_time": "2025-02-14T18:10:11.256639Z"
    }
   },
   "source": [
    "import matplotlib.pyplot as plt\n",
    "import io\n",
    "\n",
    "response = agent_executor.invoke({\"input\": \"Plot the distribution of the SPY close prices\"})\n",
    "\n",
    "if \"files\" in response:\n",
    "    for i, file in enumerate(response[\"files\"]):\n",
    "        name = file['name']\n",
    "        type = file['type']\n",
    "        bytes_data = file['bytes']\n",
    "        if type == 'image/png':\n",
    "            # Display PNG image using Matplotlib\n",
    "            img = plt.imread(io.BytesIO(bytes_data))\n",
    "            plt.figure(figsize=(10, 10))\n",
    "            plt.imshow(img)\n",
    "            plt.axis('off')\n",
    "            plt.title(name)\n",
    "            plt.show()\n",
    "            plt.close()\n",
    "    print(response[\"output\"])\n",
    "else:\n",
    "    print(response)\n",
    "\n",
    "\n"
   ],
   "outputs": [
    {
     "data": {
      "text/plain": [
       "<Figure size 1000x1000 with 1 Axes>"
      ],
      "image/png": "[encoded data removed]"
     },
     "metadata": {},
     "output_type": "display_data"
    },
    {
     "name": "stdout",
     "output_type": "stream",
     "text": [
      "The distribution of SPY close prices is shown in the generated histogram plot. The plot displays the frequency of different close price values, allowing us to visualize the spread and concentration of the close prices over the given time period.\n"
     ]
    }
   ],
   "execution_count": 6
  },
  {
   "cell_type": "markdown",
   "id": "7730eb2d-ea4b-49be-8e0a-b9095caaac47",
   "metadata": {},
   "source": [
    "#### Commentary\n",
    "Since we specified `return_intermediate_steps=True`, we get the intermediate steps from the agents. The first time agent is invoked, it return a `BedrockAgentAction` to determine the asset value for the given asset holder. After the asset value is determined, the agent again return the control for the next tool with asset value and asset holder id to determine the interest rate. Once the interest rate is returned, the agent returns the final output `The mortgage rate for the asset holder ID AVC-1234 with an asset value of 100K is 8.87%.`"
   ]
  },
  {
   "cell_type": "markdown",
   "id": "7215e19a-8afd-401b-8afd-d7cf8fe4c7f7",
   "metadata": {},
   "source": [
    "### Step 6: Cleanup"
   ]
  },
  {
   "metadata": {
    "ExecuteTime": {
     "end_time": "2025-02-14T18:10:51.485822Z",
     "start_time": "2025-02-14T18:10:50.604592Z"
    }
   },
   "cell_type": "code",
   "source": [
    "def delete_agent_role(agent_resource_role_arn: str):\n",
    "    \"\"\"\n",
    "    Delete agent resource role\n",
    "\n",
    "    Args:\n",
    "       agent_resource_role_arn: Associated Agent execution role arn\n",
    "    \"\"\"\n",
    "    try:\n",
    "        iam_client = boto3.client('iam')\n",
    "        role_name = agent_resource_role_arn.split('/')[-1]\n",
    "        inline_policies = iam_client.list_role_policies(RoleName=role_name)\n",
    "        for inline_policy_name in inline_policies.get('PolicyNames', []):\n",
    "            iam_client.delete_role_policy(\n",
    "                RoleName=role_name,\n",
    "                PolicyName=inline_policy_name\n",
    "            )\n",
    "        iam_client.delete_role(\n",
    "            RoleName=role_name\n",
    "        )\n",
    "    except Exception as exception:\n",
    "        raise exception\n",
    "\n",
    "\n",
    "def delete_agent(agent_id):\n",
    "    bedrock_client = boto3.client('bedrock-agent')\n",
    "    bedrock_client.delete_agent(agentId=agent_id, skipResourceInUseCheck=True)\n",
    "\n",
    "\n",
    "delete_agent(agent_id=agent.agent_id)\n",
    "delete_agent_role(agent_resource_role_arn=agent_resource_role_arn)"
   ],
   "id": "fbd151c92403298a",
   "outputs": [],
   "execution_count": 7
  },
  {
   "metadata": {
    "ExecuteTime": {
     "end_time": "2025-02-14T18:10:51.501143Z",
     "start_time": "2025-02-14T18:10:51.499218Z"
    }
   },
   "cell_type": "code",
   "source": "",
   "id": "221ee643896d9038",
   "outputs": [],
   "execution_count": null
  }
 ],
 "metadata": {
  "kernelspec": {
   "display_name": "Python 3 (ipykernel)",
   "language": "python",
   "name": "python3"
  },
  "language_info": {
   "codemirror_mode": {
    "name": "ipython",
    "version": 3
   },
   "file_extension": ".py",
   "mimetype": "text/x-python",
   "name": "python",
   "nbconvert_exporter": "python",
   "pygments_lexer": "ipython3",
   "version": "3.9.19"
  }
 },
 "nbformat": 4,
 "nbformat_minor": 5
}
