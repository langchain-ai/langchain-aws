{
 "cells": [
  {
   "cell_type": "markdown",
   "id": "835708ae-fa53-499a-9924-979edc055e4c",
   "metadata": {},
   "source": [
    "# Bedrock Agent with LangGraph\n",
    "\n",
    "In this notebook, we show how to use Bedrock agent in LangGraph using the BedrockAgentsRunnable construct. We will use the same example from the `bedrock_agent_roc` notebook i.e., we create a mortgage agent with two tools. The first tool will return the asset values of a given asset holder. The second tool will return the interest rate for a given asset holder with a given asset value.\n",
    "\n",
    "\n",
    "### Step 1: Define the tools for the agent"
   ]
  },
  {
   "cell_type": "code",
   "execution_count": 15,
   "id": "40fc563a-4e2e-4913-8bff-d6a5cfe807fc",
   "metadata": {},
   "outputs": [
    {
     "data": {
      "text/plain": [
       "[StructuredTool(name='AssetDetail::getAssetValue', description='Get the asset value for an owner id\\n\\nArgs:\\n    asset_holder_id: The asset holder id\\n\\nReturns:\\n    The asset value for the given asset holder', args_schema=<class 'langchain_core.utils.pydantic.AssetDetail::getAssetValue'>, func=<function get_asset_value at 0x12193f880>),\n",
       " StructuredTool(name='AssetDetail::getMortgageRate', description='Get the mortgage rate based on asset value\\n\\nArgs:\\n    asset_holder_id: The asset holder id\\n    asset_value: The value of the asset\\n\\nReturns:\\n    The interest rate for the asset holder and asset value', args_schema=<class 'langchain_core.utils.pydantic.AssetDetail::getMortgageRate'>, func=<function get_mortgage_rate at 0x12193d4e0>)]"
      ]
     },
     "execution_count": 1,
     "metadata": {},
     "output_type": "execute_result"
    }
   ],
   "source": [
    "from langchain_core.tools import tool\n",
    "\n",
    "\n",
    "@tool(\"AssetDetail::getAssetValue\")\n",
    "def get_asset_value(asset_holder_id: str) -> str:\n",
    "    \"\"\"\n",
    "    Get the asset value for an owner id\n",
    "\n",
    "    Args:\n",
    "        asset_holder_id: The asset holder id\n",
    "\n",
    "    Returns:\n",
    "        The asset value for the given asset holder\n",
    "\n",
    "    \"\"\"\n",
    "    return f\"The total asset value for {asset_holder_id} is 100K\"\n",
    "\n",
    "\n",
    "@tool(\"AssetDetail::getMortgageRate\")\n",
    "def get_mortgage_rate(asset_holder_id: str, asset_value: str) -> str:\n",
    "    \"\"\"\n",
    "    Get the mortgage rate based on asset value\n",
    "\n",
    "    Args:\n",
    "        asset_holder_id: The asset holder id\n",
    "        asset_value: The value of the asset\n",
    "\n",
    "    Returns:\n",
    "        The interest rate for the asset holder and asset value\n",
    "\n",
    "    \"\"\"\n",
    "    return (\n",
    "        f\"The mortgage rate for {asset_holder_id} \"\n",
    "        f\"with asset value of {asset_value} is 8.87%\"\n",
    "    )\n",
    "\n",
    "\n",
    "tools = [get_asset_value, get_mortgage_rate]\n",
    "tools"
   ]
  },
  {
   "cell_type": "markdown",
   "id": "6b3edf1b-0e55-4d9d-bb84-dfd7499b8f49",
   "metadata": {},
   "source": [
    "### Step 2: Define the foundation model and instructions for the agent"
   ]
  },
  {
   "cell_type": "code",
   "execution_count": 16,
   "id": "123395f1-7961-4f44-9cf8-466e958ef73a",
   "metadata": {},
   "outputs": [],
   "source": [
    "foundation_model = \"anthropic.claude-3-sonnet-20240229-v1:0\"\n",
    "foundation_model"
   ]
  },
  {
   "cell_type": "code",
   "execution_count": 3,
   "id": "7a4ff142-fb2a-4ee7-a471-ff2d9b324b22",
   "metadata": {},
   "outputs": [
    {
     "data": {
      "text/plain": [
       "'You are an agent who helps with getting the mortgage rate based on the current asset valuation'"
      ]
     },
     "execution_count": 3,
     "metadata": {},
     "output_type": "execute_result"
    }
   ],
   "source": [
    "instructions = \"You are an agent who helps with getting the mortgage rate based on the current asset valuation\"\n",
    "instructions"
   ]
  },
  {
   "cell_type": "markdown",
   "id": "9f8cc82fafb5a14d",
   "metadata": {},
   "source": [
    "### Step 3: Define the resource role to use with the Bedrock Agent"
   ]
  },
  {
   "cell_type": "code",
   "execution_count": 17,
   "id": "257f2778a9424a7a",
   "metadata": {},
   "outputs": [],
   "source": [
    "import boto3\n",
    "import json\n",
    "import time\n",
    "import uuid\n",
    "\n",
    "\n",
    "def _create_agent_role(agent_region, foundation_model) -> str:\n",
    "    \"\"\"\n",
    "    Create agent resource role prior to creation of agent, at this point we do not have agentId, keep it as wildcard\n",
    "\n",
    "    Args:\n",
    "        agent_region: AWS region in which is the Agent if available\n",
    "        foundational_model: The model used for inference in AWS BedrockAgents\n",
    "    Returns:\n",
    "        Agent execution role arn\n",
    "    \"\"\"\n",
    "    try:\n",
    "        account_id = boto3.client(\"sts\").get_caller_identity().get(\"Account\")\n",
    "        assume_role_policy_document = json.dumps(\n",
    "            {\n",
    "                \"Version\": \"2012-10-17\",\n",
    "                \"Statement\": [\n",
    "                    {\n",
    "                        \"Effect\": \"Allow\",\n",
    "                        \"Principal\": {\"Service\": \"bedrock.amazonaws.com\"},\n",
    "                        \"Action\": \"sts:AssumeRole\",\n",
    "                        \"Condition\": {\n",
    "                            \"ArnLike\": {\n",
    "                                \"aws:SourceArn\": f\"arn:aws:bedrock:{agent_region}:{account_id}:agent/*\"\n",
    "                            }\n",
    "                        },\n",
    "                    }\n",
    "                ],\n",
    "            }\n",
    "        )\n",
    "        managed_policy = {\n",
    "            \"Version\": \"2012-10-17\",\n",
    "            \"Statement\": [\n",
    "                {\n",
    "                    \"Sid\": \"AmazonBedrockAgentBedrockFoundationModelStatement\",\n",
    "                    \"Effect\": \"Allow\",\n",
    "                    \"Action\": \"bedrock:InvokeModel\",\n",
    "                    \"Resource\": [\n",
    "                        f\"arn:aws:bedrock:{agent_region}::foundation-model/{foundation_model}\"\n",
    "                    ],\n",
    "                }\n",
    "            ],\n",
    "        }\n",
    "        role_name = f\"bedrock_agent_{uuid.uuid4()}\"\n",
    "        iam_client = boto3.client(\"iam\")\n",
    "        response = iam_client.create_role(\n",
    "            RoleName=role_name,\n",
    "            AssumeRolePolicyDocument=assume_role_policy_document,\n",
    "            Description=\"Role for Bedrock Agent\",\n",
    "        )\n",
    "        iam_client.put_role_policy(\n",
    "            RoleName=role_name,\n",
    "            PolicyName=f\"AmazonBedrockAgentBedrockFoundationModelPolicy_{uuid.uuid4()}\",\n",
    "            PolicyDocument=json.dumps(managed_policy),\n",
    "        )\n",
    "        time.sleep(2)\n",
    "        return response.get(\"Role\", {}).get(\"Arn\", \"\")\n",
    "\n",
    "    except Exception as exception:\n",
    "        raise exception\n",
    "\n",
    "\n",
    "agent_resource_role_arn = _create_agent_role(\n",
    "    agent_region=\"us-west-2\", foundation_model=foundation_model\n",
    ")\n",
    "\n",
    "agent_resource_role_arn"
   ]
  },
  {
   "cell_type": "markdown",
   "id": "27f34465d3b6b8c7",
   "metadata": {},
   "source": [
    "### Step 4: Now create the Bedrock Agent"
   ]
  },
  {
   "cell_type": "code",
   "execution_count": null,
   "id": "23b46ee48943abbb",
   "metadata": {},
   "outputs": [],
   "source": [
    "from langchain_aws.agents import BedrockAgentsRunnable\n",
    "\n",
    "agent = BedrockAgentsRunnable.create_agent(\n",
    "    agent_name=\"langgraph_interest_rate_agent\",\n",
    "    agent_resource_role_arn=agent_resource_role_arn,\n",
    "    foundation_model=foundation_model,\n",
    "    instruction=\"\"\"\n",
    "            You are an agent who helps with getting the mortgage rate based on the current asset valuation\"\"\",\n",
    "    tools=tools,\n",
    ")\n",
    "agent"
   ]
  },
  {
   "cell_type": "markdown",
   "id": "aba13d21a3e82a3a",
   "metadata": {},
   "source": [
    "### Step 5: Define the State for your Graph"
   ]
  },
  {
   "cell_type": "code",
   "execution_count": null,
   "id": "6861dd4c8ef8b58",
   "metadata": {},
   "outputs": [],
   "source": [
    "import operator\n",
    "from typing import TypedDict, Annotated\n",
    "from typing import Union\n",
    "from langchain_aws.agents import BedrockAgentAction, BedrockAgentFinish\n",
    "\n",
    "\n",
    "class AgentState(TypedDict):\n",
    "    \"\"\"\n",
    "    Defines the state for the Graph\n",
    "    \"\"\"\n",
    "\n",
    "    input: str\n",
    "    \"\"\"Input to the agent\"\"\"\n",
    "    output: Union[BedrockAgentAction, BedrockAgentFinish, None]\n",
    "    \"\"\"Output from the agent, could be a BedrockAgentAction or BedrockAgentFinish\"\"\"\n",
    "    intermediate_steps: Annotated[list[tuple[BedrockAgentAction, str]], operator.add]\n",
    "    \"\"\"Intermediate steps which are tracked in the state\"\"\""
   ]
  },
  {
   "cell_type": "markdown",
   "id": "a30975b583f77bf9",
   "metadata": {},
   "source": [
    "### Step 6: Define the nodes for your LangGraph"
   ]
  },
  {
   "cell_type": "code",
   "execution_count": 8,
   "id": "db31b6a320e350ea",
   "metadata": {},
   "outputs": [],
   "source": [
    "from langgraph.prebuilt import ToolNode\n",
    "\n",
    "\n",
    "# the agent node\n",
    "def run_agent(data):\n",
    "    agent_outcome = agent.invoke(data)\n",
    "    return {\"output\": agent_outcome}\n",
    "\n",
    "\n",
    "# the tools node\n",
    "tool_node = ToolNode(tools)\n",
    "\n",
    "\n",
    "def execute_tools(data):\n",
    "    # Get the most recent output - this is the key added in the `agent` above\n",
    "    agent_action = data[\"output\"]\n",
    "    output = tool_node.invoke({\"messages\": [agent_action[0]]})\n",
    "    tuple_output = agent_action[0], output[\"messages\"][-1].content\n",
    "    print(f\"Tuple output is {tuple_output}\")\n",
    "    return {\"intermediate_steps\": [tuple_output]}"
   ]
  },
  {
   "cell_type": "markdown",
   "id": "4477a80456346362",
   "metadata": {},
   "source": [
    "### Step 7: Define the conditional function to invoke the tool node or to reach end if there are no actions"
   ]
  },
  {
   "cell_type": "code",
   "execution_count": 9,
   "id": "faeda55751f53192",
   "metadata": {},
   "outputs": [],
   "source": [
    "def should_continue(data):\n",
    "    output_ = data[\"output\"]\n",
    "\n",
    "    # If the agent outcome is a list of BedrockAgentActions, then we continue to tool execution\n",
    "    if (\n",
    "        isinstance(output_, list)\n",
    "        and len(output_) > 0\n",
    "        and isinstance(output_[0], BedrockAgentAction)\n",
    "    ):\n",
    "        return \"continue\"\n",
    "\n",
    "    # If the agent outcome is a BedrockAgentAction, then we continue to tool execution\n",
    "    if isinstance(output_, BedrockAgentAction):\n",
    "        return \"continue\"\n",
    "\n",
    "    # If the agent outcome is an AgentFinish, then we return `exit` string\n",
    "    # This will be used when setting up the graph to define the flow\n",
    "    if isinstance(output_, BedrockAgentFinish):\n",
    "        return \"end\"\n",
    "\n",
    "    # Unknown output from the agent, end the graph\n",
    "    return \"end\""
   ]
  },
  {
   "cell_type": "markdown",
   "id": "9cb8a99f626166d1",
   "metadata": {},
   "source": [
    "### Step 8: Finally, build the graph"
   ]
  },
  {
   "cell_type": "code",
   "execution_count": 10,
   "id": "b16440baf6fcee3f",
   "metadata": {},
   "outputs": [
    {
     "data": {
      "text/plain": [
       "<langgraph.graph.state.StateGraph at 0x169aa2990>"
      ]
     },
     "execution_count": 9,
     "metadata": {},
     "output_type": "execute_result"
    }
   ],
   "source": [
    "from langgraph.graph import END, StateGraph, START\n",
    "\n",
    "workflow = StateGraph(AgentState)\n",
    "\n",
    "# Define the two nodes we will cycle between\n",
    "workflow.add_node(\"agent\", run_agent)\n",
    "workflow.add_node(\"action\", execute_tools)\n",
    "\n",
    "# Set the entrypoint as `agent`\n",
    "# This means that this node is the first one called\n",
    "workflow.add_edge(START, \"agent\")\n",
    "\n",
    "# We now add a conditional edge\n",
    "workflow.add_conditional_edges(\n",
    "    # First, we define the start node. We use `agent`.\n",
    "    # This means these are the edges taken after the `agent` node is called.\n",
    "    \"agent\",\n",
    "    # Next, we pass in the function that will determine which node is called next.\n",
    "    should_continue,\n",
    "    # Finally we pass in a mapping.\n",
    "    # The keys are strings, and the values are other nodes.\n",
    "    # END is a special node marking that the graph should finish.\n",
    "    # What will happen is we will call `should_continue`, and then the output of that\n",
    "    # will be matched against the keys in this mapping.\n",
    "    # Based on which one it matches, that node will then be called.\n",
    "    {\n",
    "        # If `tools`, then we call the tool node.\n",
    "        \"continue\": \"action\",\n",
    "        # Otherwise we finish.\n",
    "        \"end\": END,\n",
    "    },\n",
    ")\n",
    "\n",
    "workflow.add_edge(\"action\", \"agent\")"
   ]
  },
  {
   "cell_type": "markdown",
   "id": "8870aa9d5b0904ec",
   "metadata": {},
   "source": [
    "### Step 9: Compile the graph"
   ]
  },
  {
   "cell_type": "code",
   "execution_count": 11,
   "id": "e6958d9c37da5367",
   "metadata": {},
   "outputs": [
    {
     "data": {
      "image/png": "[encoded data removed]",
      "text/plain": [
       "<langgraph.graph.state.CompiledStateGraph object at 0x17b2325d0>"
      ]
     },
     "execution_count": 10,
     "metadata": {},
     "output_type": "execute_result"
    }
   ],
   "source": [
    "application = workflow.compile(debug=True)\n",
    "\n",
    "application"
   ]
  },
  {
   "cell_type": "markdown",
   "id": "6d3db0a5f5e98384",
   "metadata": {},
   "source": [
    "### Step 10: Invoke the graph"
   ]
  },
  {
   "cell_type": "code",
   "execution_count": null,
   "id": "2aef111ad7be7107",
   "metadata": {},
   "outputs": [],
   "source": [
    "inputs = {\"input\": \"what is my mortgage rate for id AVC-1234?\"}\n",
    "final_state = application.invoke(inputs)\n",
    "\n",
    "final_state"
   ]
  },
  {
   "cell_type": "markdown",
   "id": "bad7b3b7eb1e398b",
   "metadata": {},
   "source": [
    "### Step 11: Cleanup"
   ]
  },
  {
   "cell_type": "code",
   "execution_count": 13,
   "id": "c8f57932ad70df5e",
   "metadata": {},
   "outputs": [],
   "source": [
    "def delete_agent_role(agent_resource_role_arn: str):\n",
    "    \"\"\"\n",
    "    Delete agent resource role\n",
    "\n",
    "    Args:\n",
    "       agent_resource_role_arn: Associated Agent execution role arn\n",
    "    \"\"\"\n",
    "    try:\n",
    "        iam_client = boto3.client(\"iam\")\n",
    "        role_name = agent_resource_role_arn.split(\"/\")[-1]\n",
    "        inline_policies = iam_client.list_role_policies(RoleName=role_name)\n",
    "        for inline_policy_name in inline_policies.get(\"PolicyNames\", []):\n",
    "            iam_client.delete_role_policy(\n",
    "                RoleName=role_name, PolicyName=inline_policy_name\n",
    "            )\n",
    "        iam_client.delete_role(RoleName=role_name)\n",
    "    except Exception as exception:\n",
    "        raise exception\n",
    "\n",
    "\n",
    "def delete_agent(agent_id):\n",
    "    bedrock_client = boto3.client(\"bedrock-agent\")\n",
    "    bedrock_client.delete_agent(agentId=agent_id, skipResourceInUseCheck=True)\n",
    "\n",
    "\n",
    "delete_agent(agent_id=agent.agent_id)\n",
    "delete_agent_role(agent_resource_role_arn=agent_resource_role_arn)"
   ]
  }
 ],
 "metadata": {
  "kernelspec": {
   "display_name": "langchain-aws",
   "language": "python",
   "name": "python3"
  },
  "language_info": {
   "codemirror_mode": {
    "name": "ipython",
    "version": 3
   },
   "file_extension": ".py",
   "mimetype": "text/x-python",
   "name": "python",
   "nbconvert_exporter": "python",
   "pygments_lexer": "ipython3",
   "version": "3.12.11"
  }
 },
 "nbformat": 4,
 "nbformat_minor": 5
}
