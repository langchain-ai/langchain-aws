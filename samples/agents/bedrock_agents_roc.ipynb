{
 "cells": [
  {
   "cell_type": "markdown",
   "id": "fe2a689a-30a5-4d3d-aa99-5dd488fa7e4c",
   "metadata": {},
   "source": [
    "# Bedrock Agents with Return of Control (RoC)\n",
    "\n",
    "In this notebook, we show how to create a Bedrock Agent with RoC and then use the Agent to invoke the tools defined with LangChain. `langchain-aws` library provides a BedrockAgentsRunnable which can be used with LangChain's AgentExecutor. \n",
    "\n",
    "## Example 1: Create a mortgage agent that determines the interest rate\n",
    "In this example, we create a mortgage agent with two tools. The first tool will return the asset values of a given asset holder. The second tool will return the interest rate for a given asset holder with a given asset value.\n",
    "\n",
    "### Step 1: Define the tools for the agent"
   ]
  },
  {
   "cell_type": "code",
   "execution_count": 12,
   "id": "dcdc843b-bdad-45f0-a813-9d18e0246329",
   "metadata": {},
   "outputs": [
    {
     "data": {
      "text/plain": [
       "[StructuredTool(name='AssetDetail::getAssetValue', description='Get the asset value for an owner id\\n\\nArgs:\\n    asset_holder_id: The asset holder id\\n\\nReturns:\\n    The asset value for the given asset holder', args_schema=<class 'pydantic.v1.main.AssetDetail::getAssetValueSchema'>, func=<function get_asset_value at 0x12edd91f0>),\n",
       " StructuredTool(name='AssetDetail::getMortgageRate', description='Get the mortgage rate based on asset value\\n\\nArgs:\\n    asset_holder_id: The asset holder id\\n    asset_value: The value of the asset\\n\\nReturns:\\n    The interest rate for the asset holder and asset value', args_schema=<class 'pydantic.v1.main.AssetDetail::getMortgageRateSchema'>, func=<function get_mortgage_rate at 0x12edd3dc0>)]"
      ]
     },
     "execution_count": 12,
     "metadata": {},
     "output_type": "execute_result"
    }
   ],
   "source": [
    "from langchain_core.tools import tool\n",
    "\n",
    "@tool(\"AssetDetail::getAssetValue\")\n",
    "def get_asset_value(asset_holder_id: str) -> str:\n",
    "    \"\"\"\n",
    "        Get the asset value for an owner id\n",
    "\n",
    "        Args:\n",
    "            asset_holder_id: The asset holder id\n",
    "\n",
    "        Returns:\n",
    "            The asset value for the given asset holder\n",
    "    \n",
    "    \"\"\"\n",
    "    return f\"The total asset value for {asset_holder_id} is 100K\"\n",
    "\n",
    "@tool(\"AssetDetail::getMortgageRate\")\n",
    "def get_mortgage_rate(asset_holder_id: str, asset_value: str) -> str:\n",
    "    \"\"\"\n",
    "        Get the mortgage rate based on asset value\n",
    "\n",
    "        Args:\n",
    "            asset_holder_id: The asset holder id\n",
    "            asset_value: The value of the asset\n",
    "\n",
    "        Returns:\n",
    "            The interest rate for the asset holder and asset value\n",
    "        \n",
    "    \"\"\"\n",
    "    return (\n",
    "        f\"The mortgage rate for {asset_holder_id} \"\n",
    "        f\"with asset value of {asset_value} is 8.87%\"\n",
    "    )\n",
    "\n",
    "tools = [get_asset_value, get_mortgage_rate]\n",
    "tools"
   ]
  },
  {
   "cell_type": "markdown",
   "id": "652010b9-244d-45b5-afab-3d57f3eb1a82",
   "metadata": {},
   "source": [
    "### Step 2: Define the foundation model and instructions for the agent"
   ]
  },
  {
   "cell_type": "code",
   "execution_count": 13,
   "id": "714aaf51-2aab-4f69-b145-281baec62de0",
   "metadata": {},
   "outputs": [
    {
     "data": {
      "text/plain": [
       "'anthropic.claude-3-sonnet-20240229-v1:0'"
      ]
     },
     "execution_count": 13,
     "metadata": {},
     "output_type": "execute_result"
    }
   ],
   "source": [
    "foundational_model = 'anthropic.claude-3-sonnet-20240229-v1:0'\n",
    "foundational_model"
   ]
  },
  {
   "cell_type": "code",
   "execution_count": 14,
   "id": "f558eee4-0aaf-402f-a76f-3babb824d158",
   "metadata": {},
   "outputs": [
    {
     "data": {
      "text/plain": [
       "'You are an agent who helps with getting the mortgage rate based on the current asset valuation'"
      ]
     },
     "execution_count": 14,
     "metadata": {},
     "output_type": "execute_result"
    }
   ],
   "source": [
    "instructions=\"You are an agent who helps with getting the mortgage rate based on the current asset valuation\"\n",
    "instructions"
   ]
  },
  {
   "cell_type": "markdown",
   "id": "ce30620f-b7ac-4f4d-8790-f493b601c97c",
   "metadata": {},
   "source": [
    "### Step 3: Define the resource role to use with the Bedrock Agent"
   ]
  },
  {
   "cell_type": "code",
   "execution_count": 15,
   "id": "a7014d43-3b5f-4410-aa06-89cf575e8c14",
   "metadata": {},
   "outputs": [
    {
     "data": {
      "text/plain": [
       "'arn:aws:iam::058264503912:role/bedrock_agent_b05c9767-5602-44f6-a988-032aad68eb44'"
      ]
     },
     "execution_count": 15,
     "metadata": {},
     "output_type": "execute_result"
    }
   ],
   "source": [
    "import boto3\n",
    "import json\n",
    "import time\n",
    "import uuid\n",
    "\n",
    "def _create_agent_role(\n",
    "        agent_region,\n",
    "        foundational_model\n",
    ") -> str:\n",
    "    \"\"\"\n",
    "    Create agent resource role prior to creation of agent, at this point we do not have agentId, keep it as wildcard\n",
    "\n",
    "    Args:\n",
    "        agent_region: AWS region in which is the Agent if available\n",
    "        foundational_model: The model used for inference in AWS BedrockAgents\n",
    "    Returns:\n",
    "       Agent execution role arn\n",
    "    \"\"\"\n",
    "    try:\n",
    "        account_id = boto3.client('sts').get_caller_identity().get('Account')\n",
    "        assume_role_policy_document = json.dumps({\n",
    "            \"Version\": \"2012-10-17\",\n",
    "            \"Statement\": [\n",
    "                {\n",
    "                    \"Effect\": \"Allow\",\n",
    "                    \"Principal\": {\n",
    "                        \"Service\": \"bedrock.amazonaws.com\"\n",
    "                    },\n",
    "                    \"Action\": \"sts:AssumeRole\",\n",
    "                    \"Condition\": {\n",
    "                        \"ArnLike\": {\n",
    "                            \"aws:SourceArn\": f\"arn:aws:bedrock:{agent_region}:{account_id}:agent/*\"\n",
    "                        }\n",
    "                    }\n",
    "                }\n",
    "            ]\n",
    "        })\n",
    "        managed_policy = {\n",
    "            \"Version\": \"2012-10-17\",\n",
    "            \"Statement\": [\n",
    "                {\n",
    "                    \"Sid\": \"AmazonBedrockAgentBedrockFoundationModelStatement\",\n",
    "                    \"Effect\": \"Allow\",\n",
    "                    \"Action\": \"bedrock:InvokeModel\",\n",
    "                    \"Resource\": [\n",
    "                        f\"arn:aws:bedrock:{agent_region}::foundation-model/{foundational_model}\"\n",
    "                    ]\n",
    "                }\n",
    "            ]\n",
    "        }\n",
    "        role_name = f'bedrock_agent_{uuid.uuid4()}'\n",
    "        iam_client = boto3.client('iam')\n",
    "        response = iam_client.create_role(\n",
    "            RoleName=role_name,\n",
    "            AssumeRolePolicyDocument=assume_role_policy_document,\n",
    "            Description='Role for Bedrock Agent'\n",
    "        )\n",
    "        iam_client.put_role_policy(\n",
    "            RoleName=role_name,\n",
    "            PolicyName=f'AmazonBedrockAgentBedrockFoundationModelPolicy_{uuid.uuid4()}',\n",
    "            PolicyDocument=json.dumps(managed_policy)\n",
    "        )\n",
    "        time.sleep(2)\n",
    "        return response.get('Role', {}).get('Arn', '')\n",
    "\n",
    "    except Exception as exception:\n",
    "        raise exception\n",
    "\n",
    "agent_resource_role_arn = _create_agent_role(\n",
    "            agent_region='us-west-2',\n",
    "            foundational_model=foundational_model)\n",
    "\n",
    "agent_resource_role_arn"
   ]
  },
  {
   "cell_type": "markdown",
   "id": "974cb0b1-db6f-4ccf-bf96-0fda68530bd1",
   "metadata": {},
   "source": [
    "### Step 4: Now create the Bedrock Agent and initialize the AgentExecutor"
   ]
  },
  {
   "cell_type": "code",
   "execution_count": 16,
   "id": "d6b26bc1-a524-43e5-bce7-dc457a651ea9",
   "metadata": {},
   "outputs": [
    {
     "data": {
      "text/plain": [
       "AgentExecutor(agent=RunnableAgent(runnable=BedrockAgentsRunnable(agent_id='GATIPP6E09', client=<botocore.client.AgentsforBedrockRuntime object at 0x12fca40d0>), input_keys_arg=[], return_keys_arg=[], stream_runnable=True), tools=[StructuredTool(name='AssetDetail::getAssetValue', description='Get the asset value for an owner id\\n\\nArgs:\\n    asset_holder_id: The asset holder id\\n\\nReturns:\\n    The asset value for the given asset holder', args_schema=<class 'pydantic.v1.main.AssetDetail::getAssetValueSchema'>, func=<function get_asset_value at 0x12edd91f0>), StructuredTool(name='AssetDetail::getMortgageRate', description='Get the mortgage rate based on asset value\\n\\nArgs:\\n    asset_holder_id: The asset holder id\\n    asset_value: The value of the asset\\n\\nReturns:\\n    The interest rate for the asset holder and asset value', args_schema=<class 'pydantic.v1.main.AssetDetail::getMortgageRateSchema'>, func=<function get_mortgage_rate at 0x12edd3dc0>)], return_intermediate_steps=True)"
      ]
     },
     "execution_count": 16,
     "metadata": {},
     "output_type": "execute_result"
    }
   ],
   "source": [
    "from langchain.agents import AgentExecutor\n",
    "from langchain_aws.agents import BedrockAgentsRunnable\n",
    "\n",
    "agent = BedrockAgentsRunnable.create_agent(\n",
    "            agent_name=\"mortgage_interest_rate_agent\",\n",
    "            agent_resource_role_arn=agent_resource_role_arn,\n",
    "            model=foundational_model,\n",
    "            instructions=\"\"\"\n",
    "            You are an agent who helps with getting the mortgage rate based on the current asset valuation\"\"\",\n",
    "            tools=tools,\n",
    "        )\n",
    "\n",
    "agent_executor = AgentExecutor(agent=agent, tools=tools, return_intermediate_steps=True) \n",
    "agent_executor"
   ]
  },
  {
   "cell_type": "markdown",
   "id": "bc0fe9dd-1819-4dac-bb8d-0d55d18e1e1f",
   "metadata": {},
   "source": [
    "### Step 5: Invoke the agent"
   ]
  },
  {
   "cell_type": "code",
   "execution_count": 19,
   "id": "f6e5e205-061c-447b-aa7d-546271e007c2",
   "metadata": {},
   "outputs": [
    {
     "data": {
      "text/plain": [
       "{'input': 'what is my mortgage rate for id AVC-1234',\n",
       " 'output': 'The mortgage rate for the asset holder ID AVC-1234 with an asset value of 100K is 8.87%.',\n",
       " 'intermediate_steps': [(BedrockAgentAction(tool='AssetDetail::getAssetValue', tool_input={'asset_holder_id': 'AVC-1234'}, log='{\"returnControl\": {\"invocationId\": \"0e119f01-ac5a-4952-9aca-c07676a8d35d\", \"invocationInputs\": [{\"functionInvocationInput\": {\"actionGroup\": \"AssetDetail\", \"function\": \"getAssetValue\", \"parameters\": [{\"name\": \"asset_holder_id\", \"type\": \"string\", \"value\": \"AVC-1234\"}]}}]}}', session_id='16831715-0f22-4d2a-878c-600017dfd53b'),\n",
       "   'The total asset value for AVC-1234 is 100K'),\n",
       "  (BedrockAgentAction(tool='AssetDetail::getMortgageRate', tool_input={'asset_value': '100K', 'asset_holder_id': 'AVC-1234'}, log='{\"returnControl\": {\"invocationId\": \"cc36ae7c-bbdf-4035-9cde-ff64f0a0d5e9\", \"invocationInputs\": [{\"functionInvocationInput\": {\"actionGroup\": \"AssetDetail\", \"function\": \"getMortgageRate\", \"parameters\": [{\"name\": \"asset_value\", \"type\": \"string\", \"value\": \"100K\"}, {\"name\": \"asset_holder_id\", \"type\": \"string\", \"value\": \"AVC-1234\"}]}}]}}', session_id='16831715-0f22-4d2a-878c-600017dfd53b'),\n",
       "   'The mortgage rate for AVC-1234 with asset value of 100K is 8.87%')]}"
      ]
     },
     "execution_count": 19,
     "metadata": {},
     "output_type": "execute_result"
    }
   ],
   "source": [
    "output = agent_executor.invoke({\"input\": \"what is my mortgage rate for id AVC-1234\"})\n",
    "output"
   ]
  },
  {
   "cell_type": "markdown",
   "id": "7730eb2d-ea4b-49be-8e0a-b9095caaac47",
   "metadata": {},
   "source": [
    "#### Commentary\n",
    "Since we specified `return_intermediate_steps=True`, we get the intermediate steps from the agents. The first time agent is invoked, it return a `BedrockAgentAction` to determine the asset value for the given asset holder. After the asset value is determined, the agent again return the control for the next tool with asset value and asset holder id to determine the interest rate. Once the interest rate is returned, the agent returns the final output `The mortgage rate for the asset holder ID AVC-1234 with an asset value of 100K is 8.87%.`"
   ]
  },
  {
   "cell_type": "markdown",
   "id": "7215e19a-8afd-401b-8afd-d7cf8fe4c7f7",
   "metadata": {},
   "source": [
    "### Step 6: Cleanup"
   ]
  },
  {
   "cell_type": "code",
   "execution_count": 11,
   "id": "3b8591ec-d397-47d9-ad05-6ba7ab45374c",
   "metadata": {},
   "outputs": [],
   "source": [
    "def delete_agent_role(agent_resource_role_arn: str):\n",
    "    \"\"\"\n",
    "    Delete agent resource role\n",
    "\n",
    "    Args:\n",
    "       agent_resource_role_arn: Associated Agent execution role arn\n",
    "    \"\"\"\n",
    "    try:\n",
    "        iam_client = boto3.client('iam')\n",
    "        role_name = agent_resource_role_arn.split('/')[-1]\n",
    "        inline_policies = iam_client.list_role_policies(RoleName=role_name)\n",
    "        for inline_policy_name in inline_policies.get('PolicyNames', []):\n",
    "            iam_client.delete_role_policy(\n",
    "                RoleName=role_name,\n",
    "                PolicyName=inline_policy_name\n",
    "            )\n",
    "        iam_client.delete_role(\n",
    "            RoleName=role_name\n",
    "        )\n",
    "    except Exception as exception:\n",
    "        raise exception\n",
    "\n",
    "\n",
    "def delete_agent(agent_id):\n",
    "    bedrock_client = boto3.client('bedrock-agent')\n",
    "    bedrock_client.delete_agent(agentId=agent_id, skipResourceInUseCheck=True)\n",
    "\n",
    "\n",
    "delete_agent(agent_id=agent.agent_id)\n",
    "delete_agent_role(agent_resource_role_arn=agent_resource_role_arn)"
   ]
  }
 ],
 "metadata": {
  "kernelspec": {
   "display_name": "Python 3 (ipykernel)",
   "language": "python",
   "name": "python3"
  },
  "language_info": {
   "codemirror_mode": {
    "name": "ipython",
    "version": 3
   },
   "file_extension": ".py",
   "mimetype": "text/x-python",
   "name": "python",
   "nbconvert_exporter": "python",
   "pygments_lexer": "ipython3",
   "version": "3.9.19"
  }
 },
 "nbformat": 4,
 "nbformat_minor": 5
}
