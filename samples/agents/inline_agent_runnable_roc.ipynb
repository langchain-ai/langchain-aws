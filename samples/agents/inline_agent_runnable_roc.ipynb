{
 "cells": [
  {
   "cell_type": "markdown",
   "metadata": {},
   "source": [
    "# Using InlineAgent Runnable with Return of Control (RoC)\n",
    "\n",
    "The following examples will show how you can begin integrating with the InlineAgent Runnable.\n",
    "\n",
    "### Prerequisites:\n",
    "1. Set your [aws credentials](https://docs.aws.amazon.com/cli/v1/userguide/cli-configure-envvars.html#envvars-set) for your environment, example.\n",
    "2. Ensure that langchain, langgraph are installed in the environment and that the local langchain-aws is accessible from the path or installed into the environment. \n",
    "\n",
    "## Example 1: Create a mortgage agent that determines the interest rate\n",
    "In this example, we create a mortgage agent with two tools. The first tool will return the asset values of a given asset holder. The second tool will return the interest rate for a given asset holder with a given asset value.\n",
    "\n",
    "### Step 1: Define the tools for the agent"
   ]
  },
  {
   "cell_type": "code",
   "execution_count": 1,
   "metadata": {},
   "outputs": [
    {
     "name": "stdout",
     "output_type": "stream",
     "text": [
      "[StructuredTool(name='AssetDetail::getAssetValue', description='Get the asset value for an owner id\\n\\nArgs:\\n    asset_holder_id: The asset holder id\\n\\nReturns:\\n    The asset value for the given asset holder', args_schema=<class 'langchain_core.utils.pydantic.AssetDetail::getAssetValue'>, func=<function get_asset_value at 0x106f3f880>), StructuredTool(name='AssetDetail::getMortgageRate', description='Get the mortgage rate based on asset value\\n\\nArgs:\\n    asset_holder_id: The asset holder id\\n    asset_value: The value of the asset\\n\\nReturns:\\n    The interest rate for the asset holder and asset value', args_schema=<class 'langchain_core.utils.pydantic.AssetDetail::getMortgageRate'>, func=<function get_mortgage_rate at 0x106f3d4e0>)]\n"
     ]
    }
   ],
   "source": [
    "from langchain_core.tools import tool\n",
    "from langchain_aws.agents import BedrockInlineAgentsRunnable\n",
    "from langchain_core.messages import HumanMessage\n",
    "\n",
    "\n",
    "@tool(\"AssetDetail::getAssetValue\")\n",
    "def get_asset_value(asset_holder_id: str) -> str:\n",
    "    \"\"\"\n",
    "    Get the asset value for an owner id\n",
    "\n",
    "    Args:\n",
    "        asset_holder_id: The asset holder id\n",
    "\n",
    "    Returns:\n",
    "        The asset value for the given asset holder\n",
    "    \"\"\"\n",
    "    return f\"The total asset value for {asset_holder_id} is 100K\"\n",
    "\n",
    "\n",
    "@tool(\"AssetDetail::getMortgageRate\")\n",
    "def get_mortgage_rate(asset_holder_id: str, asset_value: str) -> str:\n",
    "    \"\"\"\n",
    "    Get the mortgage rate based on asset value\n",
    "\n",
    "    Args:\n",
    "        asset_holder_id: The asset holder id\n",
    "        asset_value: The value of the asset\n",
    "\n",
    "    Returns:\n",
    "        The interest rate for the asset holder and asset value\n",
    "    \"\"\"\n",
    "    return f\"The mortgage rate for {asset_holder_id} with asset value of {asset_value} is 8.87%\"\n",
    "\n",
    "\n",
    "tools = [get_asset_value, get_mortgage_rate]\n",
    "print(tools)"
   ]
  },
  {
   "cell_type": "markdown",
   "metadata": {},
   "source": [
    "### Step 2: Define the agent configuration and create the runnable"
   ]
  },
  {
   "cell_type": "code",
   "execution_count": 2,
   "metadata": {},
   "outputs": [],
   "source": [
    "foundation_model = \"anthropic.claude-3-sonnet-20240229-v1:0\"\n",
    "instructions = (\n",
    "    \"You are a friendly and cheerful assistant that answers questions valiantly.\"\n",
    ")\n",
    "inline_agent_config = {\n",
    "    \"foundation_model\": foundation_model,\n",
    "    \"instruction\": instructions,\n",
    "    \"tools\": tools,\n",
    "    \"enable_trace\": False,\n",
    "}\n",
    "\n",
    "runnable = BedrockInlineAgentsRunnable.create(\n",
    "    region_name=\"us-west-2\", inline_agent_config=inline_agent_config\n",
    ")\n",
    "\n",
    "print(\"BedrockInlineAgentsRunnable created successfully.\")\n",
    "messages = [HumanMessage(content=\"what is my mortgage rate for id AVC-1234\")]\n"
   ]
  },
  {
   "cell_type": "markdown",
   "metadata": {},
   "source": [
    "### Step 3: Invoke the agent"
   ]
  },
  {
   "cell_type": "code",
   "execution_count": 3,
   "metadata": {},
   "outputs": [],
   "source": [
    "# Invoke the inlineAgent\n",
    "output = runnable.invoke(messages)\n",
    "print(output)"
   ]
  },
  {
   "cell_type": "markdown",
   "metadata": {},
   "source": [
    "## Example 2: Updating the configs on the fly\n",
    "* You can modify any agent configuration for each request by providing the updates in the `inline_agent_configuration`. \n",
    "* You can also start a new conversation by providing a `session_id`\n",
    "\n",
    "**Note:** Updates are additive and will build on previous configurations, if you want to remove a config, pass in a `NoneType`"
   ]
  },
  {
   "cell_type": "code",
   "execution_count": 4,
   "metadata": {},
   "outputs": [],
   "source": [
    "inline_agent_config = {\n",
    "    \"instruction\": \"You are now a pirate that answers questions in Haiku! You MUST end all sentences in 'Yarr!'\",\n",
    "    \"tools\": None,\n",
    "    \"enable_trace\": True,\n",
    "}\n",
    "output = runnable.invoke(\n",
    "    [HumanMessage(content=\"What are cars?\")],\n",
    "    inline_agent_config=inline_agent_config,\n",
    "    session_id=\"test-sesh-1\",\n",
    ")\n",
    "print(output)"
   ]
  },
  {
   "cell_type": "markdown",
   "metadata": {},
   "source": [
    "## Example 3: Using CodeInterpretter functionality\n",
    "\n",
    "The code interpretation (CI) enables your agent to generate, run, and troubleshoot your application code in a secure test environment. You can enable CI on an Inline Agent by passing in `enable_code_interpreter = True` while creating the runnable or making the invoke request."
   ]
  },
  {
   "cell_type": "code",
   "execution_count": 5,
   "metadata": {},
   "outputs": [],
   "source": [
    "from langchain_core.tools import tool\n",
    "from langchain_aws.agents import BedrockInlineAgentsRunnable\n",
    "from langchain_core.messages import HumanMessage\n",
    "\n",
    "foundation_model = \"anthropic.claude-3-sonnet-20240229-v1:0\"\n",
    "instructions = \"You are an agent who helps with getting the mortgage rate based on the current asset valuation\"\n",
    "inline_agent_config = {\n",
    "    \"foundation_model\": foundation_model,\n",
    "    \"instruction\": instructions,\n",
    "    \"enable_code_interpreter\": True,\n",
    "    \"enable_trace\": False,\n",
    "}\n",
    "\n",
    "runnable = BedrockInlineAgentsRunnable.create(\n",
    "    region_name=\"us-west-2\", inline_agent_config=inline_agent_config\n",
    ")\n",
    "\n",
    "print(\"BedrockInlineAgentsRunnable and AgentExecutor created successfully.\")\n",
    "\n",
    "# Invoke the agent.\n",
    "output = runnable.invoke(\n",
    "    [\n",
    "        HumanMessage(\n",
    "            content=\"Can you please help plot a line graph for the following values - [1,199,1999, 199999, 122] against an increasing x value [1,2,3,4,5]?\"\n",
    "        )\n",
    "    ]\n",
    ")\n",
    "\n",
    "print(\"Agent Output:\")\n",
    "print(output)"
   ]
  }
 ],
 "metadata": {
  "kernelspec": {
   "display_name": "langchain-aws",
   "language": "python",
   "name": "python3"
  },
  "language_info": {
   "codemirror_mode": {
    "name": "ipython",
    "version": 3
   },
   "file_extension": ".py",
   "mimetype": "text/x-python",
   "name": "python",
   "nbconvert_exporter": "python",
   "pygments_lexer": "ipython3",
   "version": "3.12.11"
  }
 },
 "nbformat": 4,
 "nbformat_minor": 2
}
